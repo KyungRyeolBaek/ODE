{
 "cells": [
  {
   "cell_type": "code",
   "execution_count": 6,
   "metadata": {},
   "outputs": [],
   "source": [
    "####%%%%%!pip install autograd\n",
    "########!pip install tensorflow"
   ]
  },
  {
   "cell_type": "code",
   "execution_count": 7,
   "metadata": {},
   "outputs": [],
   "source": [
    "import tensorflow as tf\n",
    "import autograd.numpy as np\n",
    "from autograd import grad \n",
    "import autograd.numpy.random as npr\n",
    "from autograd.core import primitive\n",
    "from matplotlib import pyplot as plt\n",
    "%matplotlib inline"
   ]
  },
  {
   "cell_type": "code",
   "execution_count": 8,
   "metadata": {},
   "outputs": [],
   "source": [
    "nx = 11\n",
    "Tfinal=1\n",
    "dx = Tfinal / (nx-1)"
   ]
  },
  {
   "cell_type": "code",
   "execution_count": 9,
   "metadata": {},
   "outputs": [],
   "source": [
    "###psy' = -psy*A(x)+B(x)\n",
    "# def A(x):\n",
    "#     '''Left part of initial equation    '''\n",
    "#     return x + (1. + 3.*x**2) / (1. + x + x**3)\n",
    "# def B(x):\n",
    "#     '''Right part of initial equation'''\n",
    "#     return x**3 + 2.*x + x**2 * ((1. + 3.*x**2) / (1. + x + x**3))\n",
    "# def f(x, psy):\n",
    "#     '''d(psy)/dx = f(x, psy)This is f() function on the right'''\n",
    "#     return B(x) - psy * A(x)\n",
    "# def psy_analytic(x):\n",
    "#     ''' Analytical solution of current problem'''\n",
    "#     return (np.exp((-x**2)/2.)) / (1. + x + x**3) + x**2\n",
    "# IC =1."
   ]
  },
  {
   "cell_type": "code",
   "execution_count": 10,
   "metadata": {},
   "outputs": [],
   "source": [
    "# IC =100.\n",
    "# def A(x):\n",
    "#     '''Left part of initial equation    '''\n",
    "#     return 10.\n",
    "# def B(x):\n",
    "#     '''Right part of initial equation'''\n",
    "#     return 0.\n",
    "# def f(x, psy):\n",
    "#     '''d(psy)/dx = f(x, psy)This is f() function on the right'''\n",
    "#     return B(x) - psy * A(x)\n",
    "# def psy_analytic(x):\n",
    "#     ''' Analytical solution of current problem'''\n",
    "#     return np.exp(-10*x)*IC"
   ]
  },
  {
   "cell_type": "code",
   "execution_count": 11,
   "metadata": {},
   "outputs": [],
   "source": [
    "def A(x):\n",
    "    '''Left part of initial equation    '''\n",
    "    return 1/5.\n",
    "def B(x):\n",
    "    '''Right part of initial equation'''\n",
    "    return np.exp(-x/5)*np.cos(x)\n",
    "def f(x, psy):\n",
    "    '''d(psy)/dx = f(x, psy)This is f() function on the right'''\n",
    "    return np.exp(-x/5)*np.cos(x) - psy /5.\n",
    "def psy_analytic(x):\n",
    "    ''' Analytical solution of current problem'''\n",
    "    return np.exp(-x/5)*np.sin(x) \n",
    "IC = 0."
   ]
  },
  {
   "cell_type": "code",
   "execution_count": 12,
   "metadata": {
    "scrolled": true
   },
   "outputs": [
    {
     "name": "stdout",
     "output_type": "stream",
     "text": [
      "[0.  0.1 0.2 0.3 0.4 0.5 0.6 0.7 0.8 0.9 1. ] 0.1\n"
     ]
    },
    {
     "data": {
      "image/png": "[encoded data removed]",
      "text/plain": [
       "<Figure size 432x288 with 1 Axes>"
      ]
     },
     "metadata": {
      "needs_background": "light"
     },
     "output_type": "display_data"
    }
   ],
   "source": [
    "x_space = np.linspace(0, Tfinal, nx)    \n",
    "y_space = psy_analytic(x_space)\n",
    "print(x_space,dx)\n",
    "# psy_fd = np.zeros_like(y_space)\n",
    "# psy_fd[0] = 1. # IC\n",
    "psy_fd1 = np.zeros_like(y_space)\n",
    "psy_fd1[0] = IC # IC\n",
    "psy_fd2 = np.zeros_like(y_space)\n",
    "psy_fd2[0] = IC # IC\n",
    "psy_fd3 = np.zeros_like(y_space)\n",
    "psy_fd3[0] = IC \n",
    "psy_fdd = np.zeros_like(y_space)\n",
    "\n",
    "### first order\n",
    "# for i in range(1, len(x_space)):\n",
    "#     psy_fd[i] = psy_fd[i-1] + B(x_space[i]) * dx - psy_fd[i-1] * A(x_space[i]) * dx\n",
    "n=1\n",
    "for i in range(1, len(x_space)):\n",
    "    #psy_fd1[i] = psy_fd1[i-1] + B(x_space[i-1]) * dx - psy_fd1[i-1] * A(x_space[i-1]) * dx\n",
    "    psy_fd1[i] = psy_fd1[i-1]  + dx*f(x_space[i-1],psy_fd1[i-1])\n",
    "    #psy_fd1[i] = psy_fd1[i-1]/(1+dx*A(x_space[i-1]))\n",
    "###  2nd order\n",
    "# n=2\n",
    "for i in range(1, len(x_space)):\n",
    "    psy_fd2[i] = psy_fd2[i-1] + dx*f(x_space[i-1]+dx/2, psy_fd2[i-1]+dx*f(x_space[i-1],psy_fd2[i-1])/2)\n",
    "    \n",
    "for i in range(1, len(x_space)):\n",
    "    psy_fdd[i] = psy_fd3[i-1]  + dx*f(x_space[i-1],psy_fd3[i-1])\n",
    "    psy_fd3[i] = psy_fd3[i-1] + dx*(f(x_space[i-1],psy_fd3[i-1])+f(x_space[i],psy_fdd[i]))/2\n",
    "psy_fd = psy_fd1\n",
    "plt.figure()\n",
    "plt.plot(x_space, y_space, 'b*')\n",
    "plt.plot(x_space, psy_fd1, 'g')\n",
    "plt.plot(x_space, psy_fd2, 'r')\n",
    "plt.plot(x_space, psy_fd3, 'k')\n",
    "plt.show()"
   ]
  },
  {
   "cell_type": "code",
   "execution_count": 13,
   "metadata": {},
   "outputs": [],
   "source": [
    "def sigmoid(x):\n",
    "    return 1 / (1 + np.exp(-x))\n",
    "\n",
    "def sigmoid_grad(x):\n",
    "    return sigmoid(x) * (1 - sigmoid(x))\n",
    "\n",
    "def neural_network(W, x):\n",
    "    a1 = sigmoid(np.dot(x, W[0]))\n",
    "    return np.dot(a1, W[1])\n",
    "\n",
    "def d_neural_network_dx(W, x, k=1):\n",
    "    return np.dot(np.dot(W[1].T, W[0].T**k), sigmoid_grad(x))\n",
    "\n",
    "def loss_function(W, x, yhat):\n",
    "    loss_sum = 0\n",
    "    for i in range(0,len(x)):\n",
    "        net_out = neural_network(W, x[i])[0][0]\n",
    "        psy_t = yhat[i] +  x[i]**(n+1)*net_out\n",
    "        #print(net_out)\n",
    "        #psy_t = yhat[i] +  x[i]*net_out\n",
    "        d_net_out = d_neural_network_dx(W, x[i])[0][0]\n",
    "        d_psy_t = f(x[i],yhat[i])+ (n+1)*(x[i]**n)*net_out + x[i]**(n+1)* d_net_out\n",
    "        #d_psy_t = f(x[i],yhat[i])+ net_out+x[i]*d_net_out\n",
    "        func = f(x[i], psy_t)\n",
    "        err_sqr = (d_psy_t - func)**2\n",
    "        loss_sum += err_sqr\n",
    "    return loss_sum\n"
   ]
  },
  {
   "cell_type": "code",
   "execution_count": 14,
   "metadata": {},
   "outputs": [],
   "source": [
    "W = [npr.randn(1, 10), npr.randn(10, 1)]\n",
    "lmb = 0.001\n",
    "\n",
    "# x = np.array(1)\n",
    "# print neural_network(W, x)\n",
    "# print d_neural_network_dx(W, x)\n",
    "\n",
    "for i in range(5000):\n",
    "    loss_grad =  grad(loss_function)(W, x_space,psy_fd)\n",
    "    #loss_grad =  grad(loss_function)(W, x_space, y_space)\n",
    "   # tf.print(W[0].shape)\n",
    "   # print(loss_grad[0].shape, loss_grad[1].shape)\n",
    "    \n",
    "    W[0] = W[0] - lmb * loss_grad[0]\n",
    "    W[1] = W[1] - lmb * loss_grad[1]\n",
    "    \n",
    "   # print(loss_function(W, x_space,psy_fd))"
   ]
  },
  {
   "cell_type": "code",
   "execution_count": 15,
   "metadata": {},
   "outputs": [
    {
     "name": "stdout",
     "output_type": "stream",
     "text": [
      "[array([-0.0031344]), array([-0.00254083]), array([-0.00198725]), array([-0.00151232]), array([-0.00115215]), array([-0.00093922]), array([-0.00090158]), array([-0.00106226]), array([-0.001439]), array([-0.00204425]), array([-0.0028854])]\n"
     ]
    },
    {
     "data": {
      "image/png": "[encoded data removed]",
      "text/plain": [
       "<Figure size 432x288 with 1 Axes>"
      ]
     },
     "metadata": {
      "needs_background": "light"
     },
     "output_type": "display_data"
    }
   ],
   "source": [
    "# tf.print(loss_function(W, x_space,psy_fd))\n",
    "res =  psy_fd + [xi**(n+1)*neural_network(W, xi)[0][0] for xi in x_space]\n",
    "\n",
    "aa= [neural_network(W, xi)[0] for xi in x_space]\n",
    "print(aa)\n",
    "beingsaved = plt.figure()\n",
    "plt.plot(x_space, y_space, 'g-',label='analytic sol.') \n",
    "plt.plot(x_space, psy_fd, 'b:',label='provisional sol.')\n",
    "plt.plot(x_space, res, 'r--',label='Proposed')\n",
    "plt.xlabel('Time (t)')\n",
    "plt.ylabel('Solutions (y)')\n",
    "#plt.yscale(\"log\")\n",
    "plt.legend()\n",
    "plt.show()\n",
    "#beingsaved.savefig('test3comp.eps', format='eps', dpi=1000)"
   ]
  },
  {
   "cell_type": "code",
   "execution_count": 16,
   "metadata": {},
   "outputs": [
    {
     "name": "stdout",
     "output_type": "stream",
     "text": [
      "0.056349335689538635\n",
      "0.05942444747896128\n"
     ]
    }
   ],
   "source": [
    "print(np.linalg.norm(y_space - res))\n",
    "print(np.linalg.norm(y_space - psy_fd))"
   ]
  },
  {
   "cell_type": "code",
   "execution_count": 17,
   "metadata": {
    "scrolled": true
   },
   "outputs": [
    {
     "data": {
      "image/png": "[encoded data removed]",
      "text/plain": [
       "<Figure size 432x288 with 1 Axes>"
      ]
     },
     "metadata": {
      "needs_background": "light"
     },
     "output_type": "display_data"
    }
   ],
   "source": [
    "beingsaved1 = plt.figure()\n",
    "plt.plot(x_space, abs(y_space-psy_fd), 'b*-',label='analytic-provisional sol.') \n",
    "plt.plot(x_space, abs(y_space-res), 'r.--',label='analytic-Proposed')\n",
    "#plt.plot(x_space[1:], abs(y_space[1:]-psy_fd[1:]), 'b*-',label='analytic-provisional sol.') \n",
    "#plt.plot(x_space[1:], abs(y_space[1:]-res[1:]), 'r.--',label='analytic-Proposed')\n",
    "plt.xlabel('Time (t)')\n",
    "plt.ylabel('Error')\n",
    "#plt.yscale(\"log\")\n",
    "plt.legend()\n",
    "plt.show()\n",
    "#beingsaved1.savefig('test3err.eps', format='eps', dpi=1000)"
   ]
  },
  {
   "cell_type": "code",
   "execution_count": 18,
   "metadata": {},
   "outputs": [],
   "source": [
    "#print(y_space[1:]-psy_fd[1:])"
   ]
  },
  {
   "cell_type": "code",
   "execution_count": null,
   "metadata": {},
   "outputs": [],
   "source": []
  }
 ],
 "metadata": {
  "kernelspec": {
   "display_name": "Python 3",
   "language": "python",
   "name": "python3"
  },
  "language_info": {
   "codemirror_mode": {
    "name": "ipython",
    "version": 3
   },
   "file_extension": ".py",
   "mimetype": "text/x-python",
   "name": "python",
   "nbconvert_exporter": "python",
   "pygments_lexer": "ipython3",
   "version": "3.8.8"
  }
 },
 "nbformat": 4,
 "nbformat_minor": 2
}
