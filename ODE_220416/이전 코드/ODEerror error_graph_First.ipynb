{
 "cells": [
  {
   "cell_type": "code",
   "execution_count": 14,
   "metadata": {},
   "outputs": [],
   "source": [
    "####%%%%%!pip install autograd\n",
    "########!pip install tensorflow"
   ]
  },
  {
   "cell_type": "code",
   "execution_count": 15,
   "metadata": {},
   "outputs": [],
   "source": [
    "import tensorflow as tf\n",
    "import autograd.numpy as np\n",
    "from autograd import grad \n",
    "import autograd.numpy.random as npr\n",
    "from autograd.core import primitive\n",
    "from matplotlib import pyplot as plt\n",
    "%matplotlib inline\n",
    "import time\n"
   ]
  },
  {
   "cell_type": "code",
   "execution_count": 16,
   "metadata": {},
   "outputs": [],
   "source": [
    "nx = 11\n",
    "Tfinal=1\n",
    "dx = Tfinal / (nx-1)"
   ]
  },
  {
   "cell_type": "code",
   "execution_count": 17,
   "metadata": {},
   "outputs": [],
   "source": [
    "##psy' = -psy*A(x)+B(x)\n",
    "def A(x):\n",
    "    '''Left part of initial equation    '''\n",
    "    return x + (1. + 3.*x**2) / (1. + x + x**3)\n",
    "def B(x):\n",
    "    '''Right part of initial equation'''\n",
    "    return x**3 + 2.*x + x**2 * ((1. + 3.*x**2) / (1. + x + x**3))\n",
    "def f(x, psy):\n",
    "    '''d(psy)/dx = f(x, psy)This is f() function on the right'''\n",
    "    return B(x) - psy * A(x)\n",
    "def psy_analytic(x):\n",
    "    ''' Analytical solution of current problem'''\n",
    "    return (np.exp((-x**2)/2.)) / (1. + x + x**3) + x**2\n",
    "IC =1."
   ]
  },
  {
   "cell_type": "code",
   "execution_count": 18,
   "metadata": {
    "scrolled": true
   },
   "outputs": [
    {
     "data": {
      "image/png": "[encoded data removed]",
      "text/plain": [
       "<Figure size 432x288 with 1 Axes>"
      ]
     },
     "metadata": {
      "needs_background": "light"
     },
     "output_type": "display_data"
    }
   ],
   "source": [
    "x_space = np.linspace(0, Tfinal, nx)    \n",
    "y_space = psy_analytic(x_space)\n",
    "\n",
    "psy_fd1 = np.zeros_like(y_space)\n",
    "psy_fd1[0] = IC # IC\n",
    "psy_fd2 = np.zeros_like(y_space)\n",
    "psy_fd2[0] = IC # IC\n",
    "psy_fd3 = np.zeros_like(y_space)\n",
    "psy_fd3[0] = IC \n",
    "psy_fdd = np.zeros_like(y_space)\n",
    "\n",
    "### first order\n",
    "n=1\n",
    "for i in range(1, len(x_space)):\n",
    "    psy_fd1[i] = psy_fd1[i-1]  + dx*f(x_space[i-1],psy_fd1[i-1])\n",
    "    \n",
    "###  2nd order\n",
    "# n=2\n",
    "for i in range(1, len(x_space)):\n",
    "    psy_fd2[i] = psy_fd2[i-1] + dx*f(x_space[i-1]+dx/2, psy_fd2[i-1]+dx*f(x_space[i-1],psy_fd2[i-1])/2)\n",
    "    \n",
    "for i in range(1, len(x_space)):\n",
    "    psy_fdd[i] = psy_fd3[i-1]  + dx*f(x_space[i-1],psy_fd3[i-1])\n",
    "    psy_fd3[i] = psy_fd3[i-1] + dx*(f(x_space[i-1],psy_fd3[i-1])+f(x_space[i],psy_fdd[i]))/2\n",
    "psy_fd = psy_fd1\n",
    "plt.figure()\n",
    "plt.plot(x_space, y_space, 'b*')\n",
    "plt.plot(x_space, psy_fd1, 'g')\n",
    "plt.plot(x_space, psy_fd2, 'r')\n",
    "plt.plot(x_space, psy_fd3, 'k')\n",
    "plt.show()"
   ]
  },
  {
   "cell_type": "code",
   "execution_count": 19,
   "metadata": {},
   "outputs": [],
   "source": [
    "def sigmoid(x):\n",
    "    return 1 / (1 + np.exp(-x))\n",
    "\n",
    "def sigmoid_grad(x):\n",
    "    return sigmoid(x) * (1 - sigmoid(x))\n",
    "\n",
    "def neural_network(W, x):\n",
    "    a1 = sigmoid(np.dot(x, W[0]))\n",
    "    return np.dot(a1, W[1])\n",
    "\n",
    "def d_neural_network_dx(W, x, k=1):\n",
    "    return np.dot(np.dot(W[1].T, W[0].T**k), sigmoid_grad(x))\n",
    "\n",
    "def loss_function(W, x, yhat):\n",
    "    loss_sum = 0\n",
    "    for i in range(0,len(x)):\n",
    "        net_out = neural_network(W, x[i])[0][0]\n",
    "        psy_t = yhat[i] +  x[i]**(n+1)*net_out\n",
    "        \n",
    "        d_net_out = d_neural_network_dx(W, x[i])[0][0]\n",
    "        # f(x, psy) = B(x) - psy * A(x)\n",
    "\n",
    "        # d_psy_t = B(x) - yhat*A(x) + (n+1)*NN*x**(n) + d_NN*x**(n+1)\n",
    "        # func = B(x) - yhat*A(x) - NN*x**(n+1)*A(x)\n",
    "        # err = d_psy_t - func\n",
    "        # err = (n+1)*NN*x**(n) + d_NN*x**(n+1) + NN*x**(n+1)*A(x)\n",
    "        # n = 1\n",
    "        # err = 2*NN*x + d_NN*x**2 + A(x)*NN*x**2\n",
    "        # err = NN(A(x)*x**2 + 2*x) + d_NN*x**2\n",
    "        # err = (A(x)*NN + d_NN)*x**2 + 2*x\n",
    "        d_psy_t = f(x[i],yhat[i])+ (n+1)*(x[i]**n)*net_out + x[i]**(n+1)* d_net_out\n",
    "        func = f(x[i], psy_t)\n",
    "        err_sqr = (d_psy_t - func)**2\n",
    "        loss_sum += err_sqr\n",
    "    return loss_sum\n"
   ]
  },
  {
   "cell_type": "markdown",
   "metadata": {},
   "source": [
    "f(x, psy) = B(x) - psy * A(x)\n",
    "\n",
    "d_psy_t = B(x) - yhat*A(x) + (n+1)*NN*x**(n) + d_NN*x**(n+1)\n",
    "\n",
    "func = B(x) - yhat*A(x) - NN*x**(n+1)*A(x)\n",
    "\n",
    "err = d_psy_t - func\n",
    "\n",
    "err = (n+1)*NN*x**(n) + d_NN*x**(n+1) + NN*x**(n+1)*A(x)\n",
    "\n",
    "n = 1\n",
    "\n",
    "err = 2*NN*x + d_NN*x**2 + A(x)*NN*x**2\n",
    "\n",
    "err = NN(A(x)*x**2 + 2*x) + d_NN*x**2\n",
    "\n",
    "err = (A(x)*NN + d_NN)*x**2 + 2*x"
   ]
  },
  {
   "cell_type": "code",
   "execution_count": 20,
   "metadata": {},
   "outputs": [
    {
     "name": "stderr",
     "output_type": "stream",
     "text": [
      "좋은 데이터 개수 0 / 1, 반복문 진행 상황 :  25%|██▌       | 1265/5000 [00:12<00:38, 98.23it/s] \n"
     ]
    }
   ],
   "source": [
    "import time\n",
    "from tqdm import tqdm\n",
    "\n",
    "lmb = 0.001 # init : 0.001\n",
    "samples = 1 # best result 개수\n",
    "\n",
    "base_error = y_space - psy_fd\n",
    "data = {'best_res_time' : [], 'break_average' : [], 'error_total' : [], 'bad_res' : 0, 'error_graph' : []}\n",
    "\n",
    "while len(data['best_res_time']) != samples:\n",
    "    time_start = time.perf_counter()\n",
    "    W = [npr.randn(1, 10), npr.randn(10, 1)]\n",
    "    \n",
    "    data['error_graph'] = []\n",
    "    for i in tqdm(range(5000), desc = '좋은 데이터 개수 {} / {}, 반복문 진행 상황 '.format(len(data['best_res_time']), samples), nrows = 0):\n",
    "        loss_grad = grad(loss_function)(W, x_space,psy_fd)\n",
    "\n",
    "        W[0] = W[0] - lmb * loss_grad[0]\n",
    "        W[1] = W[1] - lmb * loss_grad[1]\n",
    "\n",
    "        cnt = 0\n",
    "        for xi in x_space:\n",
    "            if neural_network(W, xi)[0] < 0:    # 1차 거르는 단계, 첫번째는 초반부에 음수값으로 자리 잡기 시작하면 좋은 데이터가 잘 안나옴.\n",
    "                continue\n",
    "            else:\n",
    "                cnt += 1\n",
    "\n",
    "        y_error = y_space - (psy_fd + [xi**(n+1)*neural_network(W, xi)[0][0] for xi in x_space])\n",
    "        data['error_graph'].append((i, np.linalg.norm(y_error)))\n",
    "        if cnt == len(x_space) and i > 100:\n",
    "            e_cnt = 0\n",
    "            for b_e, y_e in zip(base_error, y_error):\n",
    "                if abs(b_e) < abs(y_e):\n",
    "                    pass\n",
    "                else:\n",
    "                    e_cnt += 1\n",
    "                        \n",
    "            if e_cnt == len(y_error) and np.linalg.norm(y_error) < np.linalg.norm(base_error):   # 결과 값의 모든 에러가 베이스 에러보다 낮을 때 좋은 결과 데이터에 저장.\n",
    "                data['best_res_time'].append(time.perf_counter() - time_start)\n",
    "                data['break_average'].append(i)\n",
    "                data['error_total'].append(np.linalg.norm(y_error))\n",
    "                data['bad_res'] -= 1\n",
    "                break\n",
    "\n",
    "    data['bad_res'] += 1\n"
   ]
  },
  {
   "cell_type": "code",
   "execution_count": 21,
   "metadata": {},
   "outputs": [
    {
     "data": {
      "text/plain": [
       "Text(0, 0.5, 'Error')"
      ]
     },
     "execution_count": 21,
     "metadata": {},
     "output_type": "execute_result"
    },
    {
     "data": {
      "image/png": "[encoded data removed]",
      "text/plain": [
       "<Figure size 432x288 with 1 Axes>"
      ]
     },
     "metadata": {
      "needs_background": "light"
     },
     "output_type": "display_data"
    }
   ],
   "source": [
    "x = [x[0] for x in data['error_graph']]\n",
    "y = [y[1] for y in data['error_graph']]\n",
    "plt.plot(x, y)\n",
    "plt.title('Error & Range')\n",
    "plt.grid(b = True)\n",
    "plt.xlabel('Range')\n",
    "plt.ylabel('Error')"
   ]
  },
  {
   "cell_type": "code",
   "execution_count": 22,
   "metadata": {},
   "outputs": [
    {
     "name": "stdout",
     "output_type": "stream",
     "text": [
      "[array([0.01877826]), array([0.01361636]), array([0.00883387]), array([0.00478978]), array([0.00180437]), array([0.00014468]), array([1.49733803e-05]), array([0.00155249]), array([0.0048282]), array([0.00985172]), array([0.01657918])]\n"
     ]
    },
    {
     "data": {
      "image/png": "[encoded data removed]",
      "text/plain": [
       "<Figure size 432x288 with 1 Axes>"
      ]
     },
     "metadata": {
      "needs_background": "light"
     },
     "output_type": "display_data"
    }
   ],
   "source": [
    "# tf.print(loss_function(W, x_space,psy_fd))\n",
    "res =  psy_fd + [xi**(n+1)*neural_network(W, xi)[0][0] for xi in x_space]\n",
    "\n",
    "aa= [neural_network(W, xi)[0] for xi in x_space]\n",
    "print(aa)\n",
    "beingsaved = plt.figure()\n",
    "plt.plot(x_space, y_space, 'g-',label='analytic sol.') \n",
    "plt.plot(x_space, psy_fd, 'b:',label='provisional sol.')\n",
    "plt.plot(x_space, res, 'r--',label='Proposed')\n",
    "plt.xlabel('Time (t)')\n",
    "plt.ylabel('Solutions (y)')\n",
    "#plt.yscale(\"log\")\n",
    "plt.legend()\n",
    "plt.show()\n",
    "#beingsaved.savefig('test3comp.eps', format='eps', dpi=1000)"
   ]
  },
  {
   "cell_type": "code",
   "execution_count": 23,
   "metadata": {},
   "outputs": [
    {
     "name": "stdout",
     "output_type": "stream",
     "text": [
      "0.135206258559286\n",
      "0.1464926370136472\n"
     ]
    }
   ],
   "source": [
    "print(np.linalg.norm(y_space - res))\n",
    "print(np.linalg.norm(y_space - psy_fd))"
   ]
  },
  {
   "cell_type": "code",
   "execution_count": 24,
   "metadata": {
    "scrolled": true
   },
   "outputs": [
    {
     "data": {
      "image/png": "[encoded data removed]",
      "text/plain": [
       "<Figure size 432x288 with 1 Axes>"
      ]
     },
     "metadata": {
      "needs_background": "light"
     },
     "output_type": "display_data"
    }
   ],
   "source": [
    "beingsaved1 = plt.figure()\n",
    "plt.plot(x_space, abs(y_space-psy_fd), 'b*-',label='analytic-provisional sol.') \n",
    "plt.plot(x_space, abs(y_space-res), 'r.--',label='analytic-Proposed')\n",
    "#plt.plot(x_space[1:], abs(y_space[1:]-psy_fd[1:]), 'b*-',label='analytic-provisional sol.') \n",
    "#plt.plot(x_space[1:], abs(y_space[1:]-res[1:]), 'r.--',label='analytic-Proposed')\n",
    "plt.xlabel('Time (t)')\n",
    "plt.ylabel('Error')\n",
    "#plt.yscale(\"log\")\n",
    "plt.legend()\n",
    "plt.show()\n",
    "#beingsaved1.savefig('test3err.eps', format='eps', dpi=1000)"
   ]
  },
  {
   "cell_type": "code",
   "execution_count": 25,
   "metadata": {},
   "outputs": [],
   "source": [
    "#print(y_space[1:]-psy_fd[1:])"
   ]
  },
  {
   "cell_type": "code",
   "execution_count": 26,
   "metadata": {},
   "outputs": [
    {
     "name": "stdout",
     "output_type": "stream",
     "text": [
      " 13.6 secs\n"
     ]
    }
   ],
   "source": [
    "time_elapsed = (time.perf_counter() - time_start)\n",
    "# memMb=resource.getrusage(resource.RUSAGE_SELF).ru_maxrss/1024.0/1024.0\n",
    "print (\"%5.1f secs\" % (time_elapsed))\n",
    "# print (\"%5.1f secs %5.1f MByte\" % (time_elapsed,memMb))"
   ]
  },
  {
   "cell_type": "code",
   "execution_count": null,
   "metadata": {},
   "outputs": [],
   "source": []
  }
 ],
 "metadata": {
  "kernelspec": {
   "display_name": "Python 3.9.5 64-bit",
   "language": "python",
   "name": "python3"
  },
  "language_info": {
   "codemirror_mode": {
    "name": "ipython",
    "version": 3
   },
   "file_extension": ".py",
   "mimetype": "text/x-python",
   "name": "python",
   "nbconvert_exporter": "python",
   "pygments_lexer": "ipython3",
   "version": "3.9.5"
  },
  "vscode": {
   "interpreter": {
    "hash": "c347c8f9a7ef94e4c9e03b4513be7835ed18f45b99a2a817fb579f408b867b16"
   }
  }
 },
 "nbformat": 4,
 "nbformat_minor": 2
}
