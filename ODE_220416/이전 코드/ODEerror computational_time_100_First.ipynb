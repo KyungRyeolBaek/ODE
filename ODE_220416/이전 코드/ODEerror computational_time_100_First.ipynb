{
 "cells": [
  {
   "cell_type": "code",
   "execution_count": 1,
   "metadata": {},
   "outputs": [],
   "source": [
    "####%%%%%!pip install autograd\n",
    "########!pip install tensorflow"
   ]
  },
  {
   "cell_type": "code",
   "execution_count": 2,
   "metadata": {},
   "outputs": [],
   "source": [
    "import tensorflow as tf\n",
    "import autograd.numpy as np\n",
    "from autograd import grad \n",
    "import autograd.numpy.random as npr\n",
    "from autograd.core import primitive\n",
    "from matplotlib import pyplot as plt\n",
    "%matplotlib inline"
   ]
  },
  {
   "cell_type": "code",
   "execution_count": 3,
   "metadata": {},
   "outputs": [],
   "source": [
    "nx = 11\n",
    "Tfinal=1\n",
    "dx = Tfinal / (nx-1)"
   ]
  },
  {
   "cell_type": "code",
   "execution_count": 4,
   "metadata": {},
   "outputs": [],
   "source": [
    "# psy' = -psy*A(x)+B(x)\n",
    "def A(x):\n",
    "    '''Left part of initial equation    '''\n",
    "    return x + (1. + 3.*x**2) / (1. + x + x**3)\n",
    "def B(x):\n",
    "    '''Right part of initial equation'''\n",
    "    return x**3 + 2.*x + x**2 * ((1. + 3.*x**2) / (1. + x + x**3))\n",
    "def f(x, psy):\n",
    "    '''d(psy)/dx = f(x, psy)This is f() function on the right'''\n",
    "    return B(x) - psy * A(x)\n",
    "def psy_analytic(x):\n",
    "    ''' Analytical solution of current problem'''\n",
    "    return (np.exp((-x**2)/2.)) / (1. + x + x**3) + x**2\n",
    "IC =1."
   ]
  },
  {
   "cell_type": "code",
   "execution_count": 5,
   "metadata": {
    "scrolled": true
   },
   "outputs": [
    {
     "name": "stdout",
     "output_type": "stream",
     "text": [
      "[0.  0.1 0.2 0.3 0.4 0.5 0.6 0.7 0.8 0.9 1. ] 0.1\n"
     ]
    },
    {
     "data": {
      "image/png": "[encoded data removed]",
      "text/plain": [
       "<Figure size 432x288 with 1 Axes>"
      ]
     },
     "metadata": {
      "needs_background": "light"
     },
     "output_type": "display_data"
    }
   ],
   "source": [
    "x_space = np.linspace(0, Tfinal, nx)    \n",
    "y_space = psy_analytic(x_space)\n",
    "print(x_space,dx)\n",
    "\n",
    "psy_fd1 = np.zeros_like(y_space)\n",
    "psy_fd1[0] = IC # IC\n",
    "psy_fd2 = np.zeros_like(y_space)\n",
    "psy_fd2[0] = IC # IC\n",
    "psy_fd3 = np.zeros_like(y_space)\n",
    "psy_fd3[0] = IC \n",
    "psy_fdd = np.zeros_like(y_space)\n",
    "\n",
    "n=1\n",
    "for i in range(1, len(x_space)):\n",
    "    psy_fd1[i] = psy_fd1[i-1]  + dx*f(x_space[i-1],psy_fd1[i-1])\n",
    "\n",
    "for i in range(1, len(x_space)):\n",
    "    psy_fd2[i] = psy_fd2[i-1] + dx*f(x_space[i-1]+dx/2, psy_fd2[i-1]+dx*f(x_space[i-1],psy_fd2[i-1])/2)\n",
    "    \n",
    "for i in range(1, len(x_space)):\n",
    "    psy_fdd[i] = psy_fd3[i-1]  + dx*f(x_space[i-1],psy_fd3[i-1])\n",
    "    psy_fd3[i] = psy_fd3[i-1] + dx*(f(x_space[i-1],psy_fd3[i-1])+f(x_space[i],psy_fdd[i]))/2\n",
    "\n",
    "psy_fd = psy_fd1\n",
    "plt.figure()\n",
    "plt.plot(x_space, y_space, 'b*')\n",
    "plt.plot(x_space, psy_fd1, 'g')\n",
    "plt.plot(x_space, psy_fd2, 'r')\n",
    "plt.plot(x_space, psy_fd3, 'k')\n",
    "plt.show()"
   ]
  },
  {
   "cell_type": "code",
   "execution_count": 6,
   "metadata": {},
   "outputs": [],
   "source": [
    "def sigmoid(x):\n",
    "    return 1 / (1 + np.exp(-x))\n",
    "\n",
    "def sigmoid_grad(x):\n",
    "    return sigmoid(x) * (1 - sigmoid(x))\n",
    "\n",
    "def neural_network(W, x):\n",
    "    a1 = sigmoid(np.dot(x, W[0]))\n",
    "    return np.dot(a1, W[1])\n",
    "\n",
    "def d_neural_network_dx(W, x, k=1):\n",
    "    return np.dot(np.dot(W[1].T, W[0].T**k), sigmoid_grad(x))\n",
    "\n",
    "def loss_function(W, x, yhat):\n",
    "    loss_sum = 0\n",
    "    for i in range(0,len(x)):\n",
    "        net_out = neural_network(W, x[i])[0][0]\n",
    "        psy_t = yhat[i] +  x[i]**(n+1)*net_out\n",
    "\n",
    "        d_net_out = d_neural_network_dx(W, x[i])[0][0]\n",
    "        d_psy_t = f(x[i],yhat[i])+ (n+1)*(x[i]**n)*net_out + x[i]**(n+1)* d_net_out\n",
    "\n",
    "        func = f(x[i], psy_t)\n",
    "        err_sqr = (d_psy_t - func)**2\n",
    "        loss_sum += err_sqr\n",
    "    return loss_sum\n"
   ]
  },
  {
   "cell_type": "code",
   "execution_count": 7,
   "metadata": {},
   "outputs": [],
   "source": [
    "# !pip install tqdm"
   ]
  },
  {
   "cell_type": "code",
   "execution_count": 8,
   "metadata": {},
   "outputs": [
    {
     "name": "stdout",
     "output_type": "stream",
     "text": [
      "좋은 데이터 개수 70 / 100 \n",
      "버려진 데이터 : 29 개 \n",
      " --------------\n",
      "좋은 데이터 개수 71 / 100 \n",
      "버려진 데이터 : 29 개 \n",
      " --------------\n",
      "좋은 데이터 개수 72 / 100 \n",
      "버려진 데이터 : 29 개 \n",
      " --------------\n"
     ]
    }
   ],
   "source": [
    "import time\n",
    "\n",
    "lmb = 0.001 # init : 0.001\n",
    "samples = 100 # best result 개수\n",
    "\n",
    "base_error = y_space - psy_fd\n",
    "data = {'best_res_time' : [], 'break_average' : [], 'error_total' : [], 'bad_res' : 0}\n",
    "\n",
    "while len(data['best_res_time']) != samples:\n",
    "    time_start = time.perf_counter()\n",
    "    W = [npr.randn(1, 10), npr.randn(10, 1)]\n",
    "    \n",
    "    if (data['bad_res'] + len(data['best_res_time']))//3 == samples // 3:\n",
    "        print('좋은 데이터 개수 {} / {} \\n버려진 데이터 : {} 개 \\n --------------'.format(len(data['best_res_time']), samples, data['bad_res']))\n",
    "\n",
    "    for i in range(5000):\n",
    "        loss_grad = grad(loss_function)(W, x_space,psy_fd)\n",
    "        \n",
    "        W[0] = W[0] - lmb * loss_grad[0]\n",
    "        W[1] = W[1] - lmb * loss_grad[1]\n",
    "\n",
    "        cnt = 0\n",
    "        for xi in x_space:\n",
    "            if neural_network(W, xi)[0] < 0:    # 1차 거르는 단계, 첫번째는 초반부에 음수값으로 자리 잡기 시작하면 좋은 데이터가 잘 안나옴.\n",
    "                continue\n",
    "            else:\n",
    "                cnt += 1\n",
    "\n",
    "        y_error = y_space - (psy_fd + [xi**(n+1)*neural_network(W, xi)[0][0] for xi in x_space])\n",
    "        if cnt == len(x_space) and i > 1:\n",
    "            e_cnt = 0\n",
    "            for b_e, y_e in zip(base_error, y_error):\n",
    "                if abs(b_e) < abs(y_e):\n",
    "                    pass\n",
    "                else:\n",
    "                    e_cnt += 1\n",
    "                        \n",
    "            if e_cnt == len(y_error) and np.linalg.norm(y_error) < np.linalg.norm(base_error):   # 결과 값의 모든 에러가 베이스 에러보다 낮을 때 좋은 결과 데이터에 저장.\n",
    "                data['best_res_time'].append(time.perf_counter() - time_start)\n",
    "                data['break_average'].append(i)\n",
    "                data['error_total'].append(np.linalg.norm(y_error))\n",
    "                data['bad_res'] -= 1\n",
    "                break\n",
    "\n",
    "    data['bad_res'] += 1\n"
   ]
  },
  {
   "cell_type": "code",
   "execution_count": 9,
   "metadata": {},
   "outputs": [
    {
     "name": "stdout",
     "output_type": "stream",
     "text": [
      "첫번째 코드 \n",
      " ------------- \n",
      " 총 데이터 개수 : 143 \n",
      " 결과가 좋은 데이터 개수 : 100 개 \n",
      " 결과가 나쁜 데이터 개수 : 43 개 \n",
      " -------------- \n",
      " 결과가 좋은 데이터 \n",
      " 평균 초 : 6.0 초 \n",
      " 데이터 한개당 반복 횟수 : 575.17 번 \n",
      " 평균 에러 : 0.10039 \n",
      " -------- \n",
      " 원본 에러 : 0.14649 \n"
     ]
    }
   ],
   "source": [
    "print (\"첫번째 코드 \\n ------------- \\n 총 데이터 개수 : {4} \\n 결과가 좋은 데이터 개수 : {0} 개 \\n 결과가 나쁜 데이터 개수 : {3} 개 \\n -------------- \\n 결과가 좋은 데이터 \\n 평균 초 : {1:.1f} 초 \\n 데이터 한개당 반복 횟수 : {2:} 번 \\n 평균 에러 : {5:.5f} \\n -------- \\n 원본 에러 : {6:.5f} \".format(len(data['best_res_time']), sum(data['best_res_time']) / samples, sum(data['break_average']) / samples, data['bad_res'], data['bad_res'] + samples, sum(data['error_total']) / samples, np.linalg.norm(base_error)))"
   ]
  },
  {
   "cell_type": "code",
   "execution_count": 10,
   "metadata": {},
   "outputs": [
    {
     "data": {
      "text/plain": [
       "Text(0, 0.5, 'Error')"
      ]
     },
     "execution_count": 10,
     "metadata": {},
     "output_type": "execute_result"
    },
    {
     "data": {
      "image/png": "[encoded data removed]",
      "text/plain": [
       "<Figure size 432x288 with 1 Axes>"
      ]
     },
     "metadata": {
      "needs_background": "light"
     },
     "output_type": "display_data"
    }
   ],
   "source": [
    "plt.scatter(data['break_average'], data['error_total'])\n",
    "plt.title('Error & Range')   # 반복 횟수에 따른 에러 분포도\n",
    "plt.grid(b = True)\n",
    "plt.xlabel('Range')  # 반복 횟수\n",
    "plt.ylabel('Error')  # 에러"
   ]
  },
  {
   "cell_type": "code",
   "execution_count": 11,
   "metadata": {},
   "outputs": [
    {
     "data": {
      "text/plain": [
       "[0.03458837117937924,\n",
       " 0.0743294270541224,\n",
       " 0.09969220557865044,\n",
       " 0.13862765038014485,\n",
       " 0.10283493695180833,\n",
       " 0.12417004219870292,\n",
       " 0.1430883004358577,\n",
       " 0.07325708405065204,\n",
       " 0.10129903838142722,\n",
       " 0.09954783904059931,\n",
       " 0.10960396223603362,\n",
       " 0.128790709218669,\n",
       " 0.10491527816279163,\n",
       " 0.08774194360308148,\n",
       " 0.09977244195286067,\n",
       " 0.07121250803126492,\n",
       " 0.14223536078662793,\n",
       " 0.07207853168836653,\n",
       " 0.10802459461610428,\n",
       " 0.12838112641006605,\n",
       " 0.13740037478633793,\n",
       " 0.09982404778071152,\n",
       " 0.06927933702682025,\n",
       " 0.12796332246392506,\n",
       " 0.08931951257783828,\n",
       " 0.10311720153048815,\n",
       " 0.13544905928717615,\n",
       " 0.07768077258961655,\n",
       " 0.09970705462347454,\n",
       " 0.10106893620253976,\n",
       " 0.054083907692369024,\n",
       " 0.10363801516507634,\n",
       " 0.1000452796335461,\n",
       " 0.13490699026238684,\n",
       " 0.08206099632342223,\n",
       " 0.11051479862119823,\n",
       " 0.12638360762850986,\n",
       " 0.09698709399307714,\n",
       " 0.06538326731261175,\n",
       " 0.13526942515670087,\n",
       " 0.08711059891864871,\n",
       " 0.09983268825903496,\n",
       " 0.07477663984005176,\n",
       " 0.04846349513932582,\n",
       " 0.09981202109639767,\n",
       " 0.10021109433000995,\n",
       " 0.06898392445642515,\n",
       " 0.13946424280668027,\n",
       " 0.07077757728821382,\n",
       " 0.030744897228370625,\n",
       " 0.10233951507885146,\n",
       " 0.14441284682962274,\n",
       " 0.06950640044870962,\n",
       " 0.14481357696857444,\n",
       " 0.1004800904898202,\n",
       " 0.09172216600896592,\n",
       " 0.1320175450249183,\n",
       " 0.13970250017176972,\n",
       " 0.10643663978441316,\n",
       " 0.13956396199335291,\n",
       " 0.13377789841340373,\n",
       " 0.1001217579911916,\n",
       " 0.08920647716663116,\n",
       " 0.07395880631896025,\n",
       " 0.0821306001737636,\n",
       " 0.06474163402417044,\n",
       " 0.07391954156877487,\n",
       " 0.10523271539569014,\n",
       " 0.09922620869198093,\n",
       " 0.12103124938827967,\n",
       " 0.14228598683627605,\n",
       " 0.04027795230160295,\n",
       " 0.09989401953765498,\n",
       " 0.14165341825582442,\n",
       " 0.1343954840935179,\n",
       " 0.14071517204518297,\n",
       " 0.09338029520824118,\n",
       " 0.14558228909607132,\n",
       " 0.034543794993356976,\n",
       " 0.1422061622179808,\n",
       " 0.1045697944518117,\n",
       " 0.06130591281376033,\n",
       " 0.05323687501367679,\n",
       " 0.09996259202117413,\n",
       " 0.1008846958428108,\n",
       " 0.11934358798202882,\n",
       " 0.14062196598141607,\n",
       " 0.06840762950016685,\n",
       " 0.13064566963662277,\n",
       " 0.07996520589557121,\n",
       " 0.07431061643018938,\n",
       " 0.08576455496443745,\n",
       " 0.02753881810328082,\n",
       " 0.09583171749525513,\n",
       " 0.06918531406693772,\n",
       " 0.09987334670057169,\n",
       " 0.14123299002148543,\n",
       " 0.09982098767311874,\n",
       " 0.11383466303632005,\n",
       " 0.12920344103595321]"
      ]
     },
     "execution_count": 11,
     "metadata": {},
     "output_type": "execute_result"
    }
   ],
   "source": [
    "data['error_total']"
   ]
  },
  {
   "cell_type": "code",
   "execution_count": 12,
   "metadata": {},
   "outputs": [
    {
     "name": "stdout",
     "output_type": "stream",
     "text": [
      "[array([0.02830138]), array([0.02011648]), array([0.01262345]), array([0.00645402]), array([0.00212924]), array([2.53332178e-05]), array([0.00035941]), array([0.00319389]), array([0.00845562]), array([0.01596425]), array([0.02546397])]\n"
     ]
    },
    {
     "data": {
      "image/png": "[encoded data removed]",
      "text/plain": [
       "<Figure size 432x288 with 1 Axes>"
      ]
     },
     "metadata": {
      "needs_background": "light"
     },
     "output_type": "display_data"
    }
   ],
   "source": [
    "res =  psy_fd + [xi**(n+1)*neural_network(W, xi)[0][0] for xi in x_space]\n",
    "\n",
    "aa= [neural_network(W, xi)[0] for xi in x_space]\n",
    "print(aa)\n",
    "beingsaved = plt.figure()\n",
    "plt.plot(x_space, y_space, 'g-',label='analytic sol.') \n",
    "plt.plot(x_space, psy_fd, 'b:',label='provisional sol.')\n",
    "plt.plot(x_space, res, 'r--',label='Proposed')\n",
    "plt.xlabel('Time (t)')\n",
    "plt.ylabel('Solutions (y)')\n",
    "plt.legend()\n",
    "plt.show()"
   ]
  },
  {
   "cell_type": "code",
   "execution_count": 13,
   "metadata": {},
   "outputs": [
    {
     "name": "stdout",
     "output_type": "stream",
     "text": [
      "0.12920344103595321\n",
      "0.1464926370136472\n"
     ]
    }
   ],
   "source": [
    "print(np.linalg.norm(y_space - res))    # 빨간색 에러\n",
    "print(np.linalg.norm(y_space - psy_fd)) # 파란색 에러"
   ]
  },
  {
   "cell_type": "code",
   "execution_count": 14,
   "metadata": {
    "scrolled": true
   },
   "outputs": [
    {
     "data": {
      "image/png": "[encoded data removed]",
      "text/plain": [
       "<Figure size 432x288 with 1 Axes>"
      ]
     },
     "metadata": {
      "needs_background": "light"
     },
     "output_type": "display_data"
    }
   ],
   "source": [
    "beingsaved1 = plt.figure()\n",
    "plt.plot(x_space, abs(y_space-psy_fd), 'b*-',label='analytic-provisional sol.') \n",
    "plt.plot(x_space, abs(y_space-res), 'r.--',label='analytic-Proposed')\n",
    "plt.xlabel('Time (t)')\n",
    "plt.ylabel('Error')\n",
    "plt.legend()\n",
    "plt.show()"
   ]
  },
  {
   "cell_type": "code",
   "execution_count": 15,
   "metadata": {},
   "outputs": [
    {
     "name": "stdout",
     "output_type": "stream",
     "text": [
      "[0.         0.01373522 0.02358341 0.03138227 0.03812134 0.04423903\n",
      " 0.04977717 0.05453251 0.05822219 0.0606262  0.0616698 ]\n",
      "[1.         0.9        0.82783933 0.77903784 0.75242261 0.74883599\n",
      " 0.77017339 0.81858278 0.89585611 1.00307362 1.14050709]\n",
      "[1.         0.90020116 0.82834427 0.7796187  0.75276329 0.74884232\n",
      " 0.77030278 0.82014778 0.90126771 1.01600466 1.16597107]\n"
     ]
    }
   ],
   "source": [
    "print(abs(y_space-psy_fd))\n",
    "print(psy_fd)\n",
    "print(res)"
   ]
  },
  {
   "cell_type": "code",
   "execution_count": null,
   "metadata": {},
   "outputs": [],
   "source": []
  }
 ],
 "metadata": {
  "kernelspec": {
   "display_name": "Python 3",
   "language": "python",
   "name": "python3"
  },
  "language_info": {
   "codemirror_mode": {
    "name": "ipython",
    "version": 3
   },
   "file_extension": ".py",
   "mimetype": "text/x-python",
   "name": "python",
   "nbconvert_exporter": "python",
   "pygments_lexer": "ipython3",
   "version": "3.7.6"
  }
 },
 "nbformat": 4,
 "nbformat_minor": 2
}
