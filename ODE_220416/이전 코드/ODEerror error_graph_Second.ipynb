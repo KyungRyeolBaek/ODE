{
 "cells": [
  {
   "cell_type": "code",
   "execution_count": 1,
   "metadata": {},
   "outputs": [],
   "source": [
    "####%%%%%!pip install autograd\n",
    "########!pip install tensorflow"
   ]
  },
  {
   "cell_type": "code",
   "execution_count": 2,
   "metadata": {},
   "outputs": [],
   "source": [
    "import tensorflow as tf\n",
    "import autograd.numpy as np\n",
    "from autograd import grad \n",
    "import autograd.numpy.random as npr\n",
    "from autograd.core import primitive\n",
    "from matplotlib import pyplot as plt\n",
    "%matplotlib inline\n",
    "import time\n"
   ]
  },
  {
   "cell_type": "code",
   "execution_count": 3,
   "metadata": {},
   "outputs": [],
   "source": [
    "nx = 11\n",
    "Tfinal=1\n",
    "dx = Tfinal / (nx-1)"
   ]
  },
  {
   "cell_type": "code",
   "execution_count": 4,
   "metadata": {},
   "outputs": [],
   "source": [
    "IC =100.\n",
    "def A(x):\n",
    "    '''Left part of initial equation    '''\n",
    "    return 10.\n",
    "def B(x):\n",
    "    '''Right part of initial equation'''\n",
    "    return 0.\n",
    "def f(x, psy):\n",
    "    '''d(psy)/dx = f(x, psy)This is f() function on the right'''\n",
    "    return B(x) - psy * A(x)\n",
    "def psy_analytic(x):\n",
    "    ''' Analytical solution of current problem'''\n",
    "    return np.exp(-10*x)*IC"
   ]
  },
  {
   "cell_type": "code",
   "execution_count": 5,
   "metadata": {
    "scrolled": true
   },
   "outputs": [
    {
     "data": {
      "image/png": "[encoded data removed]",
      "text/plain": [
       "<Figure size 432x288 with 1 Axes>"
      ]
     },
     "metadata": {
      "needs_background": "light"
     },
     "output_type": "display_data"
    }
   ],
   "source": [
    "x_space = np.linspace(0, Tfinal, nx)    \n",
    "y_space = psy_analytic(x_space)\n",
    "\n",
    "psy_fd1 = np.zeros_like(y_space)\n",
    "psy_fd1[0] = IC # IC\n",
    "psy_fd2 = np.zeros_like(y_space)\n",
    "psy_fd2[0] = IC # IC\n",
    "psy_fd3 = np.zeros_like(y_space)\n",
    "psy_fd3[0] = IC \n",
    "psy_fdd = np.zeros_like(y_space)\n",
    "\n",
    "### first order\n",
    "n=1\n",
    "for i in range(1, len(x_space)):\n",
    "    psy_fd1[i] = psy_fd1[i-1]  + dx*f(x_space[i-1],psy_fd1[i-1])\n",
    "    \n",
    "###  2nd order\n",
    "# n=2\n",
    "for i in range(1, len(x_space)):\n",
    "    psy_fd2[i] = psy_fd2[i-1] + dx*f(x_space[i-1]+dx/2, psy_fd2[i-1]+dx*f(x_space[i-1],psy_fd2[i-1])/2)\n",
    "    \n",
    "for i in range(1, len(x_space)):\n",
    "    psy_fdd[i] = psy_fd3[i-1]  + dx*f(x_space[i-1],psy_fd3[i-1])\n",
    "    psy_fd3[i] = psy_fd3[i-1] + dx*(f(x_space[i-1],psy_fd3[i-1])+f(x_space[i],psy_fdd[i]))/2\n",
    "psy_fd = psy_fd1\n",
    "plt.figure()\n",
    "plt.plot(x_space, y_space, 'b*')\n",
    "plt.plot(x_space, psy_fd1, 'g')\n",
    "plt.plot(x_space, psy_fd2, 'r')\n",
    "plt.plot(x_space, psy_fd3, 'k')\n",
    "plt.show()"
   ]
  },
  {
   "cell_type": "code",
   "execution_count": 6,
   "metadata": {},
   "outputs": [],
   "source": [
    "def sigmoid(x):\n",
    "    return 1 / (1 + np.exp(-x))\n",
    "\n",
    "def sigmoid_grad(x):\n",
    "    return sigmoid(x) * (1 - sigmoid(x))\n",
    "\n",
    "def neural_network(W, x):\n",
    "    a1 = sigmoid(np.dot(x, W[0]))\n",
    "    return np.dot(a1, W[1])\n",
    "\n",
    "def d_neural_network_dx(W, x, k=1):\n",
    "    return np.dot(np.dot(W[1].T, W[0].T**k), sigmoid_grad(x))\n",
    "\n",
    "def loss_function(W, x, yhat):\n",
    "    loss_sum = 0\n",
    "    for i in range(0,len(x)):\n",
    "        net_out = neural_network(W, x[i])[0][0]\n",
    "        psy_t = yhat[i] +  x[i]**(n+1)*net_out\n",
    "        \n",
    "        d_net_out = d_neural_network_dx(W, x[i])[0][0]\n",
    "        d_psy_t = f(x[i],yhat[i])+ (n+1)*(x[i]**n)*net_out + x[i]**(n+1)* d_net_out\n",
    "        func = f(x[i], psy_t)\n",
    "        err_sqr = (d_psy_t - func)**2\n",
    "        loss_sum += err_sqr\n",
    "    return loss_sum\n"
   ]
  },
  {
   "cell_type": "code",
   "execution_count": 7,
   "metadata": {},
   "outputs": [
    {
     "name": "stderr",
     "output_type": "stream",
     "text": [
      "좋은 데이터 개수 0 / 1, 반복문 진행 상황 : 100%|██████████| 5000/5000 [00:50<00:00, 99.74it/s] \n",
      "좋은 데이터 개수 0 / 1, 반복문 진행 상황 : 100%|██████████| 5000/5000 [00:50<00:00, 98.65it/s] \n",
      "좋은 데이터 개수 0 / 1, 반복문 진행 상황 : 100%|██████████| 5000/5000 [00:50<00:00, 99.83it/s] \n",
      "좋은 데이터 개수 0 / 1, 반복문 진행 상황 : 100%|██████████| 5000/5000 [00:50<00:00, 99.67it/s] \n",
      "좋은 데이터 개수 0 / 1, 반복문 진행 상황 :   8%|▊         | 388/5000 [00:03<00:45, 101.98it/s]\n"
     ]
    }
   ],
   "source": [
    "import time\n",
    "from tqdm import tqdm\n",
    "\n",
    "lmb = 0.001 # init : 0.001\n",
    "samples = 1 # best result 개수\n",
    "\n",
    "base_error = y_space - psy_fd\n",
    "data = {'best_res_time' : [], 'break_average' : [], 'error_total' : [], 'bad_res' : 0, 'error_graph' : []}\n",
    "\n",
    "while len(data['best_res_time']) != samples:\n",
    "    time_start = time.perf_counter()\n",
    "    W = [npr.randn(1, 10), npr.randn(10, 1)]\n",
    "    \n",
    "    data['error_graph'] = []\n",
    "    for i in tqdm(range(5000), desc = '좋은 데이터 개수 {} / {}, 반복문 진행 상황 '.format(len(data['best_res_time']), samples), nrows = 0):\n",
    "        loss_grad = grad(loss_function)(W, x_space,psy_fd)\n",
    "\n",
    "        W[0] = W[0] - lmb * loss_grad[0]\n",
    "        W[1] = W[1] - lmb * loss_grad[1]\n",
    "\n",
    "        cnt = 0\n",
    "        for xi in x_space:\n",
    "            if neural_network(W, xi)[0] < 0:    # 1차 거르는 단계, 첫번째는 초반부에 음수값으로 자리 잡기 시작하면 좋은 데이터가 잘 안나옴.\n",
    "                continue\n",
    "            else:\n",
    "                cnt += 1\n",
    "\n",
    "        y_error = y_space - (psy_fd + [xi**(n+1)*neural_network(W, xi)[0][0] for xi in x_space])\n",
    "        data['error_graph'].append((i, np.linalg.norm(y_error)))\n",
    "        if cnt == len(x_space) and i > 100:\n",
    "            e_cnt = 0\n",
    "            for b_e, y_e in zip(base_error, y_error):\n",
    "                if abs(b_e) < abs(y_e):\n",
    "                    pass\n",
    "                else:\n",
    "                    e_cnt += 1\n",
    "                        \n",
    "            if e_cnt == len(y_error) and np.linalg.norm(y_error) < np.linalg.norm(base_error):   # 결과 값의 모든 에러가 베이스 에러보다 낮을 때 좋은 결과 데이터에 저장.\n",
    "                data['best_res_time'].append(time.perf_counter() - time_start)\n",
    "                data['break_average'].append(i)\n",
    "                data['error_total'].append(np.linalg.norm(y_error))\n",
    "                data['bad_res'] -= 1\n",
    "                break\n",
    "\n",
    "    data['bad_res'] += 1\n"
   ]
  },
  {
   "cell_type": "code",
   "execution_count": 8,
   "metadata": {},
   "outputs": [
    {
     "data": {
      "text/plain": [
       "Text(0, 0.5, 'Error')"
      ]
     },
     "execution_count": 8,
     "metadata": {},
     "output_type": "execute_result"
    },
    {
     "data": {
      "image/png": "[encoded data removed]",
      "text/plain": [
       "<Figure size 432x288 with 1 Axes>"
      ]
     },
     "metadata": {
      "needs_background": "light"
     },
     "output_type": "display_data"
    }
   ],
   "source": [
    "x = [x[0] for x in data['error_graph']]\n",
    "y = [y[1] for y in data['error_graph']]\n",
    "plt.plot(x, y)\n",
    "plt.title('Error & Range')\n",
    "plt.grid(b = True)\n",
    "plt.xlabel('Range')\n",
    "plt.ylabel('Error')"
   ]
  },
  {
   "cell_type": "code",
   "execution_count": 9,
   "metadata": {},
   "outputs": [
    {
     "name": "stdout",
     "output_type": "stream",
     "text": [
      "[array([0.00564135]), array([0.00418438]), array([0.00283336]), array([0.00168204]), array([0.00080222]), array([0.00023793]), array([4.19004605e-06]), array([8.97130973e-05]), array([0.00046235]), array([0.00107576]), array([0.00187602])]\n"
     ]
    },
    {
     "data": {
      "image/png": "[encoded data removed]",
      "text/plain": [
       "<Figure size 432x288 with 1 Axes>"
      ]
     },
     "metadata": {
      "needs_background": "light"
     },
     "output_type": "display_data"
    }
   ],
   "source": [
    "# tf.print(loss_function(W, x_space,psy_fd))\n",
    "res =  psy_fd + [xi**(n+1)*neural_network(W, xi)[0][0] for xi in x_space]\n",
    "\n",
    "aa= [neural_network(W, xi)[0] for xi in x_space]\n",
    "print(aa)\n",
    "beingsaved = plt.figure()\n",
    "plt.plot(x_space, y_space, 'g-',label='analytic sol.') \n",
    "plt.plot(x_space, psy_fd, 'b:',label='provisional sol.')\n",
    "plt.plot(x_space, res, 'r--',label='Proposed')\n",
    "plt.xlabel('Time (t)')\n",
    "plt.ylabel('Solutions (y)')\n",
    "#plt.yscale(\"log\")\n",
    "plt.legend()\n",
    "plt.show()\n",
    "#beingsaved.savefig('test3comp.eps', format='eps', dpi=1000)"
   ]
  },
  {
   "cell_type": "code",
   "execution_count": 10,
   "metadata": {},
   "outputs": [
    {
     "name": "stdout",
     "output_type": "stream",
     "text": [
      "39.56220617570226\n",
      "39.562310653835524\n"
     ]
    }
   ],
   "source": [
    "print(np.linalg.norm(y_space - res))\n",
    "print(np.linalg.norm(y_space - psy_fd))"
   ]
  },
  {
   "cell_type": "code",
   "execution_count": 11,
   "metadata": {
    "scrolled": true
   },
   "outputs": [
    {
     "data": {
      "image/png": "[encoded data removed]",
      "text/plain": [
       "<Figure size 432x288 with 1 Axes>"
      ]
     },
     "metadata": {
      "needs_background": "light"
     },
     "output_type": "display_data"
    }
   ],
   "source": [
    "beingsaved1 = plt.figure()\n",
    "plt.plot(x_space, abs(y_space-psy_fd), 'b*-',label='analytic-provisional sol.') \n",
    "plt.plot(x_space, abs(y_space-res), 'r.--',label='analytic-Proposed')\n",
    "#plt.plot(x_space[1:], abs(y_space[1:]-psy_fd[1:]), 'b*-',label='analytic-provisional sol.') \n",
    "#plt.plot(x_space[1:], abs(y_space[1:]-res[1:]), 'r.--',label='analytic-Proposed')\n",
    "plt.xlabel('Time (t)')\n",
    "plt.ylabel('Error')\n",
    "#plt.yscale(\"log\")\n",
    "plt.legend()\n",
    "plt.show()\n",
    "#beingsaved1.savefig('test3err.eps', format='eps', dpi=1000)"
   ]
  },
  {
   "cell_type": "code",
   "execution_count": 12,
   "metadata": {},
   "outputs": [],
   "source": [
    "#print(y_space[1:]-psy_fd[1:])"
   ]
  },
  {
   "cell_type": "code",
   "execution_count": 13,
   "metadata": {},
   "outputs": [
    {
     "name": "stdout",
     "output_type": "stream",
     "text": [
      "  4.4 secs\n"
     ]
    }
   ],
   "source": [
    "time_elapsed = (time.perf_counter() - time_start)\n",
    "# memMb=resource.getrusage(resource.RUSAGE_SELF).ru_maxrss/1024.0/1024.0\n",
    "print (\"%5.1f secs\" % (time_elapsed))\n",
    "# print (\"%5.1f secs %5.1f MByte\" % (time_elapsed,memMb))"
   ]
  },
  {
   "cell_type": "code",
   "execution_count": null,
   "metadata": {},
   "outputs": [],
   "source": []
  }
 ],
 "metadata": {
  "kernelspec": {
   "display_name": "Python 3",
   "language": "python",
   "name": "python3"
  },
  "language_info": {
   "codemirror_mode": {
    "name": "ipython",
    "version": 3
   },
   "file_extension": ".py",
   "mimetype": "text/x-python",
   "name": "python",
   "nbconvert_exporter": "python",
   "pygments_lexer": "ipython3",
   "version": "3.7.6"
  }
 },
 "nbformat": 4,
 "nbformat_minor": 2
}
