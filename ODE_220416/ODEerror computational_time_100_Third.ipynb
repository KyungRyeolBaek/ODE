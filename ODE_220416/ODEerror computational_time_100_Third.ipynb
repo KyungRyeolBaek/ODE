{
 "cells": [
  {
   "cell_type": "code",
   "execution_count": 1,
   "metadata": {},
   "outputs": [],
   "source": [
    "####%%%%%!pip install autograd\n",
    "########!pip install tensorflow"
   ]
  },
  {
   "cell_type": "code",
   "execution_count": 2,
   "metadata": {},
   "outputs": [],
   "source": [
    "import tensorflow as tf\n",
    "import autograd.numpy as np\n",
    "from autograd import grad \n",
    "import autograd.numpy.random as npr\n",
    "from autograd.core import primitive\n",
    "from matplotlib import pyplot as plt\n",
    "%matplotlib inline"
   ]
  },
  {
   "cell_type": "code",
   "execution_count": 3,
   "metadata": {},
   "outputs": [],
   "source": [
    "nx = 11\n",
    "Tfinal=1\n",
    "dx = Tfinal / (nx-1)"
   ]
  },
  {
   "cell_type": "code",
   "execution_count": 4,
   "metadata": {},
   "outputs": [],
   "source": [
    "def A(x):\n",
    "    '''Left part of initial equation    '''\n",
    "    return 1/5.\n",
    "def B(x):\n",
    "    '''Right part of initial equation'''\n",
    "    return np.exp(-x/5)*np.cos(x)\n",
    "def f(x, psy):\n",
    "    '''d(psy)/dx = f(x, psy)This is f() function on the right'''\n",
    "    return np.exp(-x/5)*np.cos(x) - psy /5.\n",
    "def psy_analytic(x):\n",
    "    ''' Analytical solution of current problem'''\n",
    "    return np.exp(-x/5)*np.sin(x) \n",
    "IC = 0."
   ]
  },
  {
   "cell_type": "code",
   "execution_count": 5,
   "metadata": {
    "scrolled": true
   },
   "outputs": [
    {
     "name": "stdout",
     "output_type": "stream",
     "text": [
      "[0.  0.1 0.2 0.3 0.4 0.5 0.6 0.7 0.8 0.9 1. ] 0.1\n"
     ]
    },
    {
     "data": {
      "image/png": "[encoded data removed]",
      "text/plain": [
       "<Figure size 432x288 with 1 Axes>"
      ]
     },
     "metadata": {
      "needs_background": "light"
     },
     "output_type": "display_data"
    }
   ],
   "source": [
    "x_space = np.linspace(0, Tfinal, nx)    \n",
    "y_space = psy_analytic(x_space)\n",
    "print(x_space,dx)\n",
    "\n",
    "psy_fd1 = np.zeros_like(y_space)\n",
    "psy_fd1[0] = IC # IC\n",
    "psy_fd2 = np.zeros_like(y_space)\n",
    "psy_fd2[0] = IC # IC\n",
    "psy_fd3 = np.zeros_like(y_space)\n",
    "psy_fd3[0] = IC \n",
    "psy_fdd = np.zeros_like(y_space)\n",
    "\n",
    "n=1\n",
    "for i in range(1, len(x_space)):\n",
    "    psy_fd1[i] = psy_fd1[i-1]  + dx*f(x_space[i-1],psy_fd1[i-1])\n",
    "\n",
    "for i in range(1, len(x_space)):\n",
    "    psy_fd2[i] = psy_fd2[i-1] + dx*f(x_space[i-1]+dx/2, psy_fd2[i-1]+dx*f(x_space[i-1],psy_fd2[i-1])/2)\n",
    "    \n",
    "for i in range(1, len(x_space)):\n",
    "    psy_fdd[i] = psy_fd3[i-1]  + dx*f(x_space[i-1],psy_fd3[i-1])\n",
    "    psy_fd3[i] = psy_fd3[i-1] + dx*(f(x_space[i-1],psy_fd3[i-1])+f(x_space[i],psy_fdd[i]))/2\n",
    "\n",
    "psy_fd = psy_fd1\n",
    "plt.figure()\n",
    "plt.plot(x_space, y_space, 'b*')\n",
    "plt.plot(x_space, psy_fd1, 'g')\n",
    "plt.plot(x_space, psy_fd2, 'r')\n",
    "plt.plot(x_space, psy_fd3, 'k')\n",
    "plt.show()"
   ]
  },
  {
   "cell_type": "code",
   "execution_count": 6,
   "metadata": {},
   "outputs": [],
   "source": [
    "def sigmoid(x):\n",
    "    return 1 / (1 + np.exp(-x))\n",
    "\n",
    "def sigmoid_grad(x):\n",
    "    return sigmoid(x) * (1 - sigmoid(x))\n",
    "\n",
    "def neural_network(W, x):\n",
    "    a1 = sigmoid(np.dot(x, W[0]))\n",
    "    return np.dot(a1, W[1])\n",
    "\n",
    "def d_neural_network_dx(W, x, k=1):\n",
    "    return np.dot(np.dot(W[1].T, W[0].T**k), sigmoid_grad(x))\n",
    "\n",
    "def loss_function(W, x, yhat):\n",
    "    loss_sum = 0\n",
    "    for i in range(0,len(x)):\n",
    "        net_out = neural_network(W, x[i])[0][0]\n",
    "        psy_t = yhat[i] +  x[i]**(n+1)*net_out\n",
    "\n",
    "        d_net_out = d_neural_network_dx(W, x[i])[0][0]\n",
    "        d_psy_t = f(x[i],yhat[i])+ (n+1)*(x[i]**n)*net_out + x[i]**(n+1)* d_net_out\n",
    "\n",
    "        func = f(x[i], psy_t)\n",
    "        err_sqr = (d_psy_t - func)**2\n",
    "        loss_sum += err_sqr\n",
    "    return loss_sum\n"
   ]
  },
  {
   "cell_type": "code",
   "execution_count": 7,
   "metadata": {},
   "outputs": [
    {
     "name": "stdout",
     "output_type": "stream",
     "text": [
      "좋은 데이터 개수 59 / 100 \n",
      "버려진 데이터 : 40 개 \n",
      " --------------\n",
      "좋은 데이터 개수 59 / 100 \n",
      "버려진 데이터 : 41 개 \n",
      " --------------\n",
      "좋은 데이터 개수 60 / 100 \n",
      "버려진 데이터 : 41 개 \n",
      " --------------\n"
     ]
    }
   ],
   "source": [
    "import time\n",
    "\n",
    "lmb = 0.001 # init : 0.001\n",
    "samples = 100 # best result 개수\n",
    "\n",
    "base_error = y_space - psy_fd\n",
    "data = {'best_res_time' : [], 'break_average' : [], 'error_total' : [], 'bad_res' : 0}\n",
    "\n",
    "while len(data['best_res_time']) != samples:\n",
    "    time_start = time.perf_counter()\n",
    "    W = [npr.randn(1, 10), npr.randn(10, 1)]\n",
    "    \n",
    "    if (data['bad_res'] + len(data['best_res_time']))//3 == samples // 3:\n",
    "        print('좋은 데이터 개수 {} / {} \\n버려진 데이터 : {} 개 \\n --------------'.format(len(data['best_res_time']), samples, data['bad_res']))\n",
    "\n",
    "    for i in range(5000):\n",
    "        loss_grad = grad(loss_function)(W, x_space,psy_fd)\n",
    "        \n",
    "        W[0] = W[0] - lmb * loss_grad[0]\n",
    "        W[1] = W[1] - lmb * loss_grad[1]\n",
    "\n",
    "        cnt = 0\n",
    "        for xi in x_space:\n",
    "            if neural_network(W, xi)[0] > 0:    # 1차 거르는 단계, 세번째는 초반부에 양수값으로 자리 잡기 시작하면 좋은 데이터가 잘 안나옴.\n",
    "                continue\n",
    "            else:\n",
    "                cnt += 1\n",
    "\n",
    "        y_error = y_space - (psy_fd + [xi**(n+1)*neural_network(W, xi)[0][0] for xi in x_space])\n",
    "        if cnt == len(x_space) and i > 1:\n",
    "            e_cnt = 0\n",
    "            for b_e, y_e in zip(base_error, y_error):\n",
    "                if abs(b_e) < abs(y_e):\n",
    "                    pass\n",
    "                else:\n",
    "                    e_cnt += 1\n",
    "                        \n",
    "            if e_cnt == len(y_error) and np.linalg.norm(y_error) < np.linalg.norm(base_error):   # 결과 값의 모든 에러가 베이스 에러보다 낮을 때 좋은 결과 데이터에 저장.\n",
    "                data['best_res_time'].append(time.perf_counter() - time_start)\n",
    "                data['break_average'].append(i)\n",
    "                data['error_total'].append(np.linalg.norm(y_error))\n",
    "                data['bad_res'] -= 1\n",
    "                break\n",
    "\n",
    "    data['bad_res'] += 1"
   ]
  },
  {
   "cell_type": "code",
   "execution_count": 8,
   "metadata": {},
   "outputs": [
    {
     "name": "stdout",
     "output_type": "stream",
     "text": [
      "세번째 코드 \n",
      " ------------- \n",
      " 총 데이터 개수 : 172 \n",
      " 결과가 좋은 데이터 개수 : 100 개 \n",
      " 결과가 나쁜 데이터 개수 : 72 개 \n",
      " -------------- \n",
      " 결과가 좋은 데이터 \n",
      " 평균 초 : 12.6 초 \n",
      " 데이터 한개당 반복 횟수 : 1224.28 번 \n",
      " 평균 에러 : 0.04035 \n",
      " -------- \n",
      " 원본 에러 : 0.05942 \n"
     ]
    }
   ],
   "source": [
    "print (\"세번째 코드 \\n ------------- \\n 총 데이터 개수 : {4} \\n 결과가 좋은 데이터 개수 : {0} 개 \\n 결과가 나쁜 데이터 개수 : {3} 개 \\n -------------- \\n 결과가 좋은 데이터 \\n 평균 초 : {1:.1f} 초 \\n 데이터 한개당 반복 횟수 : {2:} 번 \\n 평균 에러 : {5:.5f} \\n -------- \\n 원본 에러 : {6:.5f} \".format(len(data['best_res_time']), sum(data['best_res_time']) / samples, sum(data['break_average']) / samples, data['bad_res'], data['bad_res'] + samples, sum(data['error_total']) / samples, np.linalg.norm(base_error)))"
   ]
  },
  {
   "cell_type": "code",
   "execution_count": 9,
   "metadata": {},
   "outputs": [
    {
     "data": {
      "text/plain": [
       "Text(0, 0.5, 'Error')"
      ]
     },
     "execution_count": 9,
     "metadata": {},
     "output_type": "execute_result"
    },
    {
     "data": {
      "image/png": "[encoded data removed]",
      "text/plain": [
       "<Figure size 432x288 with 1 Axes>"
      ]
     },
     "metadata": {
      "needs_background": "light"
     },
     "output_type": "display_data"
    }
   ],
   "source": [
    "plt.scatter(data['break_average'], data['error_total'])\n",
    "plt.title('Error & Range')   # 반복 횟수에 따른 에러 분포도\n",
    "plt.grid(b = True)\n",
    "plt.xlabel('Range')  # 반복 횟수\n",
    "plt.ylabel('Error')  # 에러"
   ]
  },
  {
   "cell_type": "code",
   "execution_count": 10,
   "metadata": {},
   "outputs": [
    {
     "data": {
      "text/plain": [
       "[0.04028119365355018,\n",
       " 0.03339072809219278,\n",
       " 0.033914621263937864,\n",
       " 0.03401474500158097,\n",
       " 0.03449016857644022,\n",
       " 0.03838953783707366,\n",
       " 0.03892420134942336,\n",
       " 0.04149442549448746,\n",
       " 0.043040722733238765,\n",
       " 0.04568969765284005,\n",
       " 0.03587586304290141,\n",
       " 0.038903007163610184,\n",
       " 0.03701412980401996,\n",
       " 0.03295814080038057,\n",
       " 0.04830786342146737,\n",
       " 0.054710764837123706,\n",
       " 0.04425074741217487,\n",
       " 0.054964767240768535,\n",
       " 0.03282035602326273,\n",
       " 0.0343931216032227,\n",
       " 0.048386454066976954,\n",
       " 0.042083347170256094,\n",
       " 0.032997163593985426,\n",
       " 0.04755092232774622,\n",
       " 0.037139137795911055,\n",
       " 0.03823395174124566,\n",
       " 0.03291543241262826,\n",
       " 0.03842790409668231,\n",
       " 0.033089118528662004,\n",
       " 0.05483972669713323,\n",
       " 0.04005430993825662,\n",
       " 0.04463600975865398,\n",
       " 0.04295728493711523,\n",
       " 0.032906898724270064,\n",
       " 0.03590359224513796,\n",
       " 0.040839947704316606,\n",
       " 0.04207002298594255,\n",
       " 0.03363255868527366,\n",
       " 0.0374794741239323,\n",
       " 0.049317758079113864,\n",
       " 0.03355140008595823,\n",
       " 0.0332391816804402,\n",
       " 0.03298002826375628,\n",
       " 0.039693244083185544,\n",
       " 0.048094460105029685,\n",
       " 0.04000694445884149,\n",
       " 0.03258039627852191,\n",
       " 0.04904392766273525,\n",
       " 0.03320236509934983,\n",
       " 0.033551329551041044,\n",
       " 0.04203884436467896,\n",
       " 0.033234088178369474,\n",
       " 0.033158370311437105,\n",
       " 0.04335734353109803,\n",
       " 0.03766301618426392,\n",
       " 0.05457768367831013,\n",
       " 0.043239678524363535,\n",
       " 0.05109265415487082,\n",
       " 0.05809058569506271,\n",
       " 0.041759461194589974,\n",
       " 0.04487691561844668,\n",
       " 0.04002306197959917,\n",
       " 0.03581051621678093,\n",
       " 0.0392608080892837,\n",
       " 0.04524750438231777,\n",
       " 0.045570360455779856,\n",
       " 0.04434094920688932,\n",
       " 0.05144640232463669,\n",
       " 0.03946401165657333,\n",
       " 0.04282298192207513,\n",
       " 0.03826908168403478,\n",
       " 0.03568148550945802,\n",
       " 0.055214431028093265,\n",
       " 0.0332823078496272,\n",
       " 0.05478516167161185,\n",
       " 0.03619505327628731,\n",
       " 0.03408133031865004,\n",
       " 0.03337757015059928,\n",
       " 0.04505422361652498,\n",
       " 0.053476938839352464,\n",
       " 0.03666320137756934,\n",
       " 0.03684616487485993,\n",
       " 0.034993685218004215,\n",
       " 0.03322727381100709,\n",
       " 0.03519082916861582,\n",
       " 0.05369037348523877,\n",
       " 0.03730793376153562,\n",
       " 0.03747590886637524,\n",
       " 0.038232441660566226,\n",
       " 0.03968803188851623,\n",
       " 0.035855731412889044,\n",
       " 0.032941476115247795,\n",
       " 0.033646643643078886,\n",
       " 0.05712259852901529,\n",
       " 0.03723031409647746,\n",
       " 0.03295192937426753,\n",
       " 0.036357693123131585,\n",
       " 0.033738481237306384,\n",
       " 0.05264120498412929,\n",
       " 0.03326725577233589]"
      ]
     },
     "execution_count": 10,
     "metadata": {},
     "output_type": "execute_result"
    }
   ],
   "source": [
    "data['error_total']"
   ]
  },
  {
   "cell_type": "code",
   "execution_count": 11,
   "metadata": {},
   "outputs": [
    {
     "name": "stdout",
     "output_type": "stream",
     "text": [
      "[array([-0.20378571]), array([-0.18480727]), array([-0.16593105]), array([-0.14725368]), array([-0.12886128]), array([-0.1108254]), array([-0.09320048]), array([-0.0760227]), array([-0.05931031]), array([-0.04306522]), array([-0.02727549])]\n"
     ]
    },
    {
     "data": {
      "image/png": "[encoded data removed]",
      "text/plain": [
       "<Figure size 432x288 with 1 Axes>"
      ]
     },
     "metadata": {
      "needs_background": "light"
     },
     "output_type": "display_data"
    }
   ],
   "source": [
    "res =  psy_fd + [xi**(n+1)*neural_network(W, xi)[0][0] for xi in x_space]\n",
    "\n",
    "aa= [neural_network(W, xi)[0] for xi in x_space]\n",
    "print(aa)\n",
    "beingsaved = plt.figure()\n",
    "plt.plot(x_space, y_space, 'g-',label='analytic sol.') \n",
    "plt.plot(x_space, psy_fd, 'b:',label='provisional sol.')\n",
    "plt.plot(x_space, res, 'r--',label='Proposed')\n",
    "plt.xlabel('Time (t)')\n",
    "plt.ylabel('Solutions (y)')\n",
    "plt.legend()\n",
    "plt.show()"
   ]
  },
  {
   "cell_type": "code",
   "execution_count": 12,
   "metadata": {},
   "outputs": [
    {
     "name": "stdout",
     "output_type": "stream",
     "text": [
      "0.03326725577233589\n",
      "0.05942444747896128\n"
     ]
    }
   ],
   "source": [
    "print(np.linalg.norm(y_space - res))    # 빨간색 에러\n",
    "print(np.linalg.norm(y_space - psy_fd)) # 파란색 에러"
   ]
  },
  {
   "cell_type": "code",
   "execution_count": 13,
   "metadata": {
    "scrolled": true
   },
   "outputs": [
    {
     "data": {
      "image/png": "[encoded data removed]",
      "text/plain": [
       "<Figure size 432x288 with 1 Axes>"
      ]
     },
     "metadata": {
      "needs_background": "light"
     },
     "output_type": "display_data"
    }
   ],
   "source": [
    "beingsaved1 = plt.figure()\n",
    "plt.plot(x_space, abs(y_space-psy_fd), 'b*-',label='analytic-provisional sol.') \n",
    "plt.plot(x_space, abs(y_space-res), 'r.--',label='analytic-Proposed')\n",
    "plt.xlabel('Time (t)')\n",
    "plt.ylabel('Error')\n",
    "plt.legend()\n",
    "plt.show()"
   ]
  },
  {
   "cell_type": "code",
   "execution_count": 14,
   "metadata": {},
   "outputs": [
    {
     "name": "stdout",
     "output_type": "stream",
     "text": [
      "[0.         0.00214342 0.00465078 0.00747288 0.01055943 0.01385959\n",
      " 0.01732253 0.02089792 0.02453644 0.02819023 0.03181333]\n",
      "[0.         0.1        0.19553018 0.28578333 0.37003787 0.44766176\n",
      " 0.51811548 0.58095387 0.63582698 0.68247987 0.7207515 ]\n",
      "[0.         0.09815193 0.18889293 0.2725305  0.34942007 0.41995541\n",
      " 0.4845633  0.54370275 0.59786838 0.64759704 0.69347601]\n"
     ]
    }
   ],
   "source": [
    "print(abs(y_space-psy_fd))\n",
    "print(psy_fd)\n",
    "print(res)"
   ]
  },
  {
   "cell_type": "code",
   "execution_count": null,
   "metadata": {},
   "outputs": [],
   "source": []
  }
 ],
 "metadata": {
  "kernelspec": {
   "display_name": "Python 3",
   "language": "python",
   "name": "python3"
  },
  "language_info": {
   "codemirror_mode": {
    "name": "ipython",
    "version": 3
   },
   "file_extension": ".py",
   "mimetype": "text/x-python",
   "name": "python",
   "nbconvert_exporter": "python",
   "pygments_lexer": "ipython3",
   "version": "3.7.6"
  }
 },
 "nbformat": 4,
 "nbformat_minor": 2
}
