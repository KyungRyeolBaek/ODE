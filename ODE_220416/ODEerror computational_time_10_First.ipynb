{
 "cells": [
  {
   "cell_type": "code",
   "execution_count": 1,
   "metadata": {},
   "outputs": [],
   "source": [
    "####%%%%%!pip install autograd\n",
    "########!pip install tensorflow"
   ]
  },
  {
   "cell_type": "code",
   "execution_count": 2,
   "metadata": {},
   "outputs": [],
   "source": [
    "import tensorflow as tf\n",
    "import autograd.numpy as np\n",
    "from autograd import grad \n",
    "import autograd.numpy.random as npr\n",
    "from autograd.core import primitive\n",
    "from matplotlib import pyplot as plt\n",
    "%matplotlib inline"
   ]
  },
  {
   "cell_type": "code",
   "execution_count": 3,
   "metadata": {},
   "outputs": [],
   "source": [
    "nx = 11\n",
    "Tfinal=1\n",
    "dx = Tfinal / (nx-1)"
   ]
  },
  {
   "cell_type": "code",
   "execution_count": 4,
   "metadata": {},
   "outputs": [],
   "source": [
    "# psy' = -psy*A(x)+B(x)\n",
    "def A(x):\n",
    "    '''Left part of initial equation    '''\n",
    "    return x + (1. + 3.*x**2) / (1. + x + x**3)\n",
    "def B(x):\n",
    "    '''Right part of initial equation'''\n",
    "    return x**3 + 2.*x + x**2 * ((1. + 3.*x**2) / (1. + x + x**3))\n",
    "def f(x, psy):\n",
    "    '''d(psy)/dx = f(x, psy)This is f() function on the right'''\n",
    "    return B(x) - psy * A(x)\n",
    "def psy_analytic(x):\n",
    "    ''' Analytical solution of current problem'''\n",
    "    return (np.exp((-x**2)/2.)) / (1. + x + x**3) + x**2\n",
    "IC =1."
   ]
  },
  {
   "cell_type": "code",
   "execution_count": 5,
   "metadata": {
    "scrolled": true
   },
   "outputs": [
    {
     "name": "stdout",
     "output_type": "stream",
     "text": [
      "[0.  0.1 0.2 0.3 0.4 0.5 0.6 0.7 0.8 0.9 1. ] 0.1\n"
     ]
    },
    {
     "data": {
      "image/png": "[encoded data removed]",
      "text/plain": [
       "<Figure size 432x288 with 1 Axes>"
      ]
     },
     "metadata": {
      "needs_background": "light"
     },
     "output_type": "display_data"
    }
   ],
   "source": [
    "x_space = np.linspace(0, Tfinal, nx)    \n",
    "y_space = psy_analytic(x_space)\n",
    "print(x_space,dx)\n",
    "\n",
    "psy_fd1 = np.zeros_like(y_space)\n",
    "psy_fd1[0] = IC # IC\n",
    "psy_fd2 = np.zeros_like(y_space)\n",
    "psy_fd2[0] = IC # IC\n",
    "psy_fd3 = np.zeros_like(y_space)\n",
    "psy_fd3[0] = IC \n",
    "psy_fdd = np.zeros_like(y_space)\n",
    "\n",
    "n=1\n",
    "for i in range(1, len(x_space)):\n",
    "    psy_fd1[i] = psy_fd1[i-1]  + dx*f(x_space[i-1],psy_fd1[i-1])\n",
    "\n",
    "for i in range(1, len(x_space)):\n",
    "    psy_fd2[i] = psy_fd2[i-1] + dx*f(x_space[i-1]+dx/2, psy_fd2[i-1]+dx*f(x_space[i-1],psy_fd2[i-1])/2)\n",
    "    \n",
    "for i in range(1, len(x_space)):\n",
    "    psy_fdd[i] = psy_fd3[i-1]  + dx*f(x_space[i-1],psy_fd3[i-1])\n",
    "    psy_fd3[i] = psy_fd3[i-1] + dx*(f(x_space[i-1],psy_fd3[i-1])+f(x_space[i],psy_fdd[i]))/2\n",
    "\n",
    "psy_fd = psy_fd1\n",
    "plt.figure()\n",
    "plt.plot(x_space, y_space, 'b*')\n",
    "plt.plot(x_space, psy_fd1, 'g')\n",
    "plt.plot(x_space, psy_fd2, 'r')\n",
    "plt.plot(x_space, psy_fd3, 'k')\n",
    "plt.show()"
   ]
  },
  {
   "cell_type": "code",
   "execution_count": 6,
   "metadata": {},
   "outputs": [],
   "source": [
    "def sigmoid(x):\n",
    "    return 1 / (1 + np.exp(-x))\n",
    "\n",
    "def sigmoid_grad(x):\n",
    "    return sigmoid(x) * (1 - sigmoid(x))\n",
    "\n",
    "def neural_network(W, x):\n",
    "    a1 = sigmoid(np.dot(x, W[0]))\n",
    "    return np.dot(a1, W[1])\n",
    "\n",
    "def d_neural_network_dx(W, x, k=1):\n",
    "    return np.dot(np.dot(W[1].T, W[0].T**k), sigmoid_grad(x))\n",
    "\n",
    "def loss_function(W, x, yhat):\n",
    "    loss_sum = 0\n",
    "    for i in range(0,len(x)):\n",
    "        net_out = neural_network(W, x[i])[0][0]\n",
    "        psy_t = yhat[i] +  x[i]**(n+1)*net_out\n",
    "\n",
    "        d_net_out = d_neural_network_dx(W, x[i])[0][0]\n",
    "        d_psy_t = f(x[i],yhat[i])+ (n+1)*(x[i]**n)*net_out + x[i]**(n+1)* d_net_out\n",
    "\n",
    "        func = f(x[i], psy_t)\n",
    "        err_sqr = (d_psy_t - func)**2\n",
    "        loss_sum += err_sqr\n",
    "    return loss_sum\n"
   ]
  },
  {
   "cell_type": "code",
   "execution_count": 7,
   "metadata": {},
   "outputs": [],
   "source": [
    "# !pip install tqdm"
   ]
  },
  {
   "cell_type": "code",
   "execution_count": 8,
   "metadata": {},
   "outputs": [
    {
     "name": "stderr",
     "output_type": "stream",
     "text": [
      "좋은 데이터 개수 0 / 10, 반복문 진행 상황 :  26%|██▌       | 1290/5000 [00:13<00:37, 97.67it/s] \n",
      "좋은 데이터 개수 1 / 10, 반복문 진행 상황 :   0%|          | 3/5000 [00:00<01:04, 77.13it/s]\n",
      "좋은 데이터 개수 2 / 10, 반복문 진행 상황 :   0%|          | 14/5000 [00:00<01:12, 68.81it/s]\n",
      "좋은 데이터 개수 3 / 10, 반복문 진행 상황 :  67%|██████▋   | 3373/5000 [00:36<00:17, 93.22it/s] \n",
      "좋은 데이터 개수 4 / 10, 반복문 진행 상황 :   2%|▏         | 111/5000 [00:01<00:55, 88.33it/s]\n",
      "좋은 데이터 개수 5 / 10, 반복문 진행 상황 :  14%|█▍        | 702/5000 [00:07<00:47, 89.97it/s]\n",
      "좋은 데이터 개수 6 / 10, 반복문 진행 상황 :   0%|          | 3/5000 [00:00<01:08, 73.37it/s]\n",
      "좋은 데이터 개수 7 / 10, 반복문 진행 상황 :  84%|████████▍ | 4195/5000 [00:45<00:08, 91.60it/s] \n",
      "좋은 데이터 개수 8 / 10, 반복문 진행 상황 : 100%|██████████| 5000/5000 [00:54<00:00, 91.69it/s]\n",
      "좋은 데이터 개수 8 / 10, 반복문 진행 상황 : 100%|██████████| 5000/5000 [00:54<00:00, 92.04it/s] \n",
      "좋은 데이터 개수 8 / 10, 반복문 진행 상황 :   3%|▎         | 170/5000 [00:01<00:50, 95.39it/s]\n",
      "좋은 데이터 개수 9 / 10, 반복문 진행 상황 : 100%|██████████| 5000/5000 [00:53<00:00, 93.13it/s] \n",
      "좋은 데이터 개수 9 / 10, 반복문 진행 상황 : 100%|██████████| 5000/5000 [00:52<00:00, 94.77it/s] \n",
      "좋은 데이터 개수 9 / 10, 반복문 진행 상황 :  33%|███▎      | 1652/5000 [00:16<00:34, 97.93it/s] \n"
     ]
    }
   ],
   "source": [
    "import time\n",
    "from tqdm import tqdm\n",
    "\n",
    "lmb = 0.001 # init : 0.001\n",
    "samples = 10 # best result 개수\n",
    "\n",
    "base_error = y_space - psy_fd\n",
    "data = {'best_res_time' : [], 'break_average' : [], 'error_total' : [], 'bad_res' : 0}\n",
    "\n",
    "while len(data['best_res_time']) != samples:\n",
    "    time_start = time.perf_counter()\n",
    "    W = [npr.randn(1, 10), npr.randn(10, 1)]\n",
    "\n",
    "    for i in tqdm(range(5000), desc = '좋은 데이터 개수 {} / {}, 반복문 진행 상황 '.format(len(data['best_res_time']), samples), nrows = 0):\n",
    "        loss_grad = grad(loss_function)(W, x_space,psy_fd)\n",
    "        \n",
    "        W[0] = W[0] - lmb * loss_grad[0]\n",
    "        W[1] = W[1] - lmb * loss_grad[1]\n",
    "\n",
    "        cnt = 0\n",
    "        for xi in x_space:\n",
    "            if neural_network(W, xi)[0] < 0:    # 1차 거르는 단계, 첫번째는 초반부에 음수값으로 자리 잡기 시작하면 좋은 데이터가 잘 안나옴.\n",
    "                continue\n",
    "            else:\n",
    "                cnt += 1\n",
    "\n",
    "        y_error = y_space - (psy_fd + [xi**(n+1)*neural_network(W, xi)[0][0] for xi in x_space])\n",
    "        if cnt == len(x_space) and i > 1:\n",
    "            e_cnt = 0\n",
    "            for b_e, y_e in zip(base_error, y_error):\n",
    "                if abs(b_e) < abs(y_e):\n",
    "                    pass\n",
    "                else:\n",
    "                    e_cnt += 1\n",
    "                        \n",
    "            if e_cnt == len(y_error) and np.linalg.norm(y_error) < np.linalg.norm(base_error):   # 결과 값의 모든 에러가 베이스 에러보다 낮을 때 좋은 결과 데이터에 저장.\n",
    "                data['best_res_time'].append(time.perf_counter() - time_start)\n",
    "                data['break_average'].append(i)\n",
    "                data['error_total'].append(np.linalg.norm(y_error))\n",
    "                data['bad_res'] -= 1\n",
    "                break\n",
    "\n",
    "    data['bad_res'] += 1\n"
   ]
  },
  {
   "cell_type": "code",
   "execution_count": 17,
   "metadata": {},
   "outputs": [
    {
     "name": "stdout",
     "output_type": "stream",
     "text": [
      "첫번째 코드 \n",
      " ------------- \n",
      " 총 데이터 개수 : 14 \n",
      " 결과가 좋은 데이터 개수 : 10 개 \n",
      " 결과가 나쁜 데이터 개수 : 4 개 \n",
      " -------------- \n",
      " 결과가 좋은 데이터 \n",
      " 평균 초 : 12.3 초 \n",
      " 데이터 한개당 반복 횟수 : 1151.3 번 \n",
      " 평균 에러 : 0.11193 \n",
      " -------- \n",
      " 원본 에러 : 0.14649 \n"
     ]
    }
   ],
   "source": [
    "print (\"첫번째 코드 \\n ------------- \\n 총 데이터 개수 : {4} \\n 결과가 좋은 데이터 개수 : {0} 개 \\n 결과가 나쁜 데이터 개수 : {3} 개 \\n -------------- \\n 결과가 좋은 데이터 \\n 평균 초 : {1:.1f} 초 \\n 데이터 한개당 반복 횟수 : {2:} 번 \\n 평균 에러 : {5:.5f} \\n -------- \\n 원본 에러 : {6:.5f} \".format(len(data['best_res_time']), sum(data['best_res_time']) / samples, sum(data['break_average']) / samples, data['bad_res'], data['bad_res'] + samples, sum(data['error_total']) / samples, np.linalg.norm(base_error)))"
   ]
  },
  {
   "cell_type": "code",
   "execution_count": 10,
   "metadata": {},
   "outputs": [
    {
     "data": {
      "text/plain": [
       "Text(0, 0.5, 'Error')"
      ]
     },
     "execution_count": 10,
     "metadata": {},
     "output_type": "execute_result"
    },
    {
     "data": {
      "image/png": "[encoded data removed]",
      "text/plain": [
       "<Figure size 432x288 with 1 Axes>"
      ]
     },
     "metadata": {
      "needs_background": "light"
     },
     "output_type": "display_data"
    }
   ],
   "source": [
    "plt.scatter(data['break_average'], data['error_total'])\n",
    "plt.title('Error & Range')   # 반복 횟수에 따른 에러 분포도\n",
    "plt.grid(b = True)\n",
    "plt.xlabel('Range')  # 반복 횟수\n",
    "plt.ylabel('Error')  # 에러"
   ]
  },
  {
   "cell_type": "code",
   "execution_count": 11,
   "metadata": {},
   "outputs": [
    {
     "data": {
      "text/plain": [
       "[0.14241494161782367,\n",
       " 0.07243957106127855,\n",
       " 0.09661477169769954,\n",
       " 0.14600932242389233,\n",
       " 0.09987473357126282,\n",
       " 0.11576598743827798,\n",
       " 0.07282491485047295,\n",
       " 0.14539623880176994,\n",
       " 0.10021287102028961,\n",
       " 0.12772385304338446]"
      ]
     },
     "execution_count": 11,
     "metadata": {},
     "output_type": "execute_result"
    }
   ],
   "source": [
    "data['error_total']"
   ]
  },
  {
   "cell_type": "code",
   "execution_count": 12,
   "metadata": {},
   "outputs": [
    {
     "name": "stdout",
     "output_type": "stream",
     "text": [
      "[array([0.03158442]), array([0.02251575]), array([0.01420007]), array([0.00732589]), array([0.00246418]), array([3.43601766e-05]), array([0.00029212]), array([0.00333641]), array([0.00913017]), array([0.01752842]), array([0.02830822])]\n"
     ]
    },
    {
     "data": {
      "image/png": "[encoded data removed]",
      "text/plain": [
       "<Figure size 432x288 with 1 Axes>"
      ]
     },
     "metadata": {
      "needs_background": "light"
     },
     "output_type": "display_data"
    }
   ],
   "source": [
    "res =  psy_fd + [xi**(n+1)*neural_network(W, xi)[0][0] for xi in x_space]\n",
    "\n",
    "aa= [neural_network(W, xi)[0] for xi in x_space]\n",
    "print(aa)\n",
    "beingsaved = plt.figure()\n",
    "plt.plot(x_space, y_space, 'g-',label='analytic sol.') \n",
    "plt.plot(x_space, psy_fd, 'b:',label='provisional sol.')\n",
    "plt.plot(x_space, res, 'r--',label='Proposed')\n",
    "plt.xlabel('Time (t)')\n",
    "plt.ylabel('Solutions (y)')\n",
    "plt.legend()\n",
    "plt.show()"
   ]
  },
  {
   "cell_type": "code",
   "execution_count": 13,
   "metadata": {},
   "outputs": [
    {
     "name": "stdout",
     "output_type": "stream",
     "text": [
      "0.12772385304338446\n",
      "0.1464926370136472\n"
     ]
    }
   ],
   "source": [
    "print(np.linalg.norm(y_space - res))    # 빨간색 에러\n",
    "print(np.linalg.norm(y_space - psy_fd)) # 파란색 에러"
   ]
  },
  {
   "cell_type": "code",
   "execution_count": 14,
   "metadata": {
    "scrolled": true
   },
   "outputs": [
    {
     "data": {
      "image/png": "[encoded data removed]",
      "text/plain": [
       "<Figure size 432x288 with 1 Axes>"
      ]
     },
     "metadata": {
      "needs_background": "light"
     },
     "output_type": "display_data"
    }
   ],
   "source": [
    "beingsaved1 = plt.figure()\n",
    "plt.plot(x_space, abs(y_space-psy_fd), 'b*-',label='analytic-provisional sol.') \n",
    "plt.plot(x_space, abs(y_space-res), 'r.--',label='analytic-Proposed')\n",
    "plt.xlabel('Time (t)')\n",
    "plt.ylabel('Error')\n",
    "plt.legend()\n",
    "plt.show()"
   ]
  },
  {
   "cell_type": "code",
   "execution_count": 15,
   "metadata": {},
   "outputs": [
    {
     "name": "stdout",
     "output_type": "stream",
     "text": [
      "[0.         0.01373522 0.02358341 0.03138227 0.03812134 0.04423903\n",
      " 0.04977717 0.05453251 0.05822219 0.0606262  0.0616698 ]\n",
      "[1.         0.9        0.82783933 0.77903784 0.75242261 0.74883599\n",
      " 0.77017339 0.81858278 0.89585611 1.00307362 1.14050709]\n",
      "[1.         0.90022516 0.82840733 0.77969717 0.75281688 0.74884458\n",
      " 0.77027855 0.82021762 0.90169942 1.01727164 1.16881531]\n"
     ]
    }
   ],
   "source": [
    "print(abs(y_space-psy_fd))\n",
    "print(psy_fd)\n",
    "print(res)"
   ]
  },
  {
   "cell_type": "code",
   "execution_count": null,
   "metadata": {},
   "outputs": [],
   "source": []
  }
 ],
 "metadata": {
  "kernelspec": {
   "display_name": "Python 3",
   "language": "python",
   "name": "python3"
  },
  "language_info": {
   "codemirror_mode": {
    "name": "ipython",
    "version": 3
   },
   "file_extension": ".py",
   "mimetype": "text/x-python",
   "name": "python",
   "nbconvert_exporter": "python",
   "pygments_lexer": "ipython3",
   "version": "3.7.6"
  }
 },
 "nbformat": 4,
 "nbformat_minor": 2
}
