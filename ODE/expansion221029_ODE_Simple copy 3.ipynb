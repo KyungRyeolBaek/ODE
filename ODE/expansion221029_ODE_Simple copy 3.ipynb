{
 "cells": [
  {
   "cell_type": "markdown",
   "metadata": {},
   "source": [
    "2022-09-15\n",
    "\n",
    "1. EC를 추가\n",
    "\n",
    "y = 1 + w1*(x) + w2*(x**2) + w3*(x**3) + w4*(x**4) + EC*(x**5)\n",
    "\n",
    "2. 두가지 경우 비교\n",
    "\n",
    "y = 1 + w1*(x) + w2*(x**2) + w3*(x**3) + w4*(x**4) + w5*(x**5)\n",
    "\n",
    "y = 1 + w1*(x) + w2*(x**2) + w3*(x**3) + w4*(x**4) + EC*(x**5)\n",
    "\n",
    "y = 1 + w1*(x) + w2*(x**2) + w3*(x**3) + w4*(x**4) + sigmoid* w *(x**5)"
   ]
  },
  {
   "cell_type": "markdown",
   "metadata": {},
   "source": [
    "2022-09-20\n",
    "\n",
    "loss =\n",
    "\n",
    "[f(1 + w1*(x) + w2*(x**2) + w3*(x**3) + w4*(x**4)) - {w1 + 2*w2 + 3*w3*(x**2) + 4*w4*(x**3)}\n",
    " + f(EC)*(x**5) - {5*f(EC)*(x**4) + d_EC*(x**5)}]**2\n",
    "\n",
    " [f(1 + w1*(x) + w2*(x**2) + w3*(x**3) + w4*(x**4)) - {w1 + 2*w2 + 3*w3*(x**2) + 4*w4*(x**3)}]**2\n",
    " + [f(EC)*(x**5) - {5*f(EC)*(x**4) + d_EC*(x**5)}]**2"
   ]
  },
  {
   "cell_type": "markdown",
   "metadata": {},
   "source": [
    "2022-09-29\n",
    "\n",
    "Work 1\n",
    "\n",
    "1 : ODE 4차 오차 감소율 없을때 출력\n",
    "\n",
    "2 : ODE 5차 오차 감소율 없을때 출력\n",
    "\n",
    "3 : ODE 4차 + EC Case1 w 계수들 exact 계수들과 일치하는 경우에 대해서 비교"
   ]
  },
  {
   "cell_type": "markdown",
   "metadata": {},
   "source": [
    "2022-10-10\n",
    "\n",
    "Exam 1\n",
    "\n",
    "exp(-x)\n",
    "\n",
    "Error, exact(4차, 5차), train(4차, 5차, 4차+EC Case1, Case2)"
   ]
  },
  {
   "cell_type": "markdown",
   "metadata": {},
   "source": [
    "2022-10-12\n",
    "\n",
    "EC 각 데이터별 학습\n",
    "\n",
    "내적 부분 변경\n",
    "\n",
    "데이터에 따라서 다른 값."
   ]
  },
  {
   "cell_type": "markdown",
   "metadata": {},
   "source": [
    "2022-10-16\n",
    "\n",
    "NN + NN*x**2"
   ]
  },
  {
   "cell_type": "markdown",
   "metadata": {},
   "source": [
    "2022-10-23\n",
    "\n",
    "1_NN + 1_NN\n",
    "\n",
    "2_NN + 1_NN\n",
    "\n",
    "3_NN + 1_NN"
   ]
  },
  {
   "cell_type": "markdown",
   "metadata": {},
   "source": [
    "2022-10-24\n",
    "\n",
    "코드 전체 다시 훑어 보기, 수정\n",
    "\n",
    "tensorflow2 함정\n",
    "\n",
    "range -> tf.range 사용하면 속도 빨라짐\n",
    "\n",
    "tensor로 계산되다 numpy 사용시 gradient 추척 못 할 수 있음\n",
    "\n",
    "tf.watch(변수)로 추적 해야 할 수 있음\n",
    "```\n",
    "ex)\n",
    "with tf.GradientTape(watch_accessed_variables=False) as tape:\n",
    "    tape.watch(input_)\n",
    "    logits_seven = model(input_)[:, 7]\n",
    "grad_for_inp = tape.gradient(logits_seven, input_)\n",
    "\n",
    "print(grad_for_inp)\n",
    "```\n",
    "\n",
    "여러 손실을 총 손실에 추가하는 경우 추적을 못 할 수 있음\n"
   ]
  },
  {
   "cell_type": "markdown",
   "metadata": {},
   "source": [
    "2022-10-26\n",
    "\n",
    "1 + NN(x)*x \n",
    "\n",
    "1 + w*x\n",
    "\n",
    "차이\n",
    "\n",
    "---\n",
    "\n",
    "loss_function2\n",
    "\n",
    "y'(x) = f(x, y)\n",
    "\n",
    "y(x) = p2(x) + z(x)\n",
    "\n",
    "z(x) = y(x) - p2(x) ~~ NN(x)*x := p2^\n",
    "\n",
    "z'(x) = f(x, y) - P2'(x) ~~ NN(x) + d_NN(x)*x\n",
    "\n",
    "Loss Function\n",
    "\n",
    "f(x, p2(x) + NN(x)*x) - p2'(x) - (NN(x) + d_NN(x)*x)"
   ]
  },
  {
   "cell_type": "markdown",
   "metadata": {},
   "source": [
    "2022-10-27\n",
    "\n",
    "코드 정리\n",
    "\n",
    "loss_function 다양한 종류로 실행"
   ]
  },
  {
   "cell_type": "markdown",
   "metadata": {},
   "source": [
    "2022-10-28\n",
    "\n",
    "loss Function2 \n",
    "\n",
    "f(x, p2(x) + NN(x)*x) - p2'(x) - (NN(x) + d_NN(x)*x)\n",
    "\n",
    "결과 좋음\n",
    "\n",
    "loss가 더 적은 결과가 exp와 더 멀어짐.\n",
    "\n",
    "loss 0.8664 일때 exp와 비슷함.\n",
    "\n",
    "근사값을 통해 loss를 구하기에 생기는 일 같다는 생각이 듦.\n",
    "\n",
    "오히려 loss가 0이 될수록 우리가 원하는 결과 값이랑 다를 수 있음.\n",
    "\n",
    "오히려 로컬 미니멈에 빠져야 원하는 결과를 얻을 수 있음.\n",
    "\n",
    "과적합이 문제가 됨\n",
    "\n",
    "random seed 값 알아 놓기\n",
    "\n",
    "f(x, p2(x) + NN(x)*x) - p2'(x) - (NN(x) + d_NN(x)*x)\n",
    "\n",
    "bias 추가 하면 어떠할지"
   ]
  },
  {
   "cell_type": "markdown",
   "metadata": {},
   "source": [
    "2022-10-29\n",
    "\n",
    "bias 추가 -> 결과 안좋음\n",
    "\n",
    "1 + EC random seed 찾기\n",
    "\n",
    "2 + EC random seed 찾기"
   ]
  },
  {
   "cell_type": "code",
   "execution_count": 1,
   "metadata": {},
   "outputs": [
    {
     "data": {
      "text/plain": [
       "'\\n    모든 주석은 읽고 필요 없는 부분은 지우셔도 됩니다.\\n'"
      ]
     },
     "execution_count": 1,
     "metadata": {},
     "output_type": "execute_result"
    }
   ],
   "source": [
    "'''\n",
    "    모든 주석은 읽고 필요 없는 부분은 지우셔도 됩니다.\n",
    "'''"
   ]
  },
  {
   "cell_type": "markdown",
   "metadata": {},
   "source": [
    "Module import"
   ]
  },
  {
   "cell_type": "code",
   "execution_count": 1,
   "metadata": {},
   "outputs": [],
   "source": [
    "import tensorflow as tf\n",
    "import numpy as np\n",
    "import matplotlib.pyplot as plt\n",
    "from tensorflow import keras\n",
    "from tensorflow import transpose\n",
    "from tensorflow.math import sigmoid\n",
    "from tensorflow.experimental.numpy import dot"
   ]
  },
  {
   "cell_type": "markdown",
   "metadata": {},
   "source": [
    "Solve the following initial value differential equation $$ y'=\\lambda y,  \\quad  y(0)=y_0$$"
   ]
  },
  {
   "cell_type": "markdown",
   "metadata": {},
   "source": [
    "Fuction Define"
   ]
  },
  {
   "cell_type": "code",
   "execution_count": 2,
   "metadata": {},
   "outputs": [],
   "source": [
    "def psy_analytic(x, lamb = 1):\n",
    "    '''\n",
    "        psy_analytic = np.exp(lamb*x)\n",
    "    '''\n",
    "    return tf.math.exp(lamb*x)\n",
    "\n",
    "def A(x):\n",
    "    return -1\n",
    "\n",
    "def B(x):\n",
    "    return 0\n",
    "\n",
    "def f(x, psy):\n",
    "    '''\n",
    "        d(psy)/dx = f(x, psy)\n",
    "        y' = B(x) - A(x) * y\n",
    "    '''\n",
    "    return B(x) - A(x)*psy\n",
    "\n",
    "def y(x, w, n = 4, bias = 1.): \n",
    "    '''\n",
    "        y(x) = 1 + w1*(x) + w2*(x**2) + w3*(x**3) + w4*(x**4) + ... + wn*(x**n)\n",
    "    '''\n",
    "    y = bias\n",
    "    for i in range(1, n+1):\n",
    "        y += w[i-1]*x**i\n",
    "    \n",
    "    return y\n",
    "\n",
    "def yprime(x, w, n=4, bias = 0.):\n",
    "    '''\n",
    "        yprime = w1 + 2*w2*x + 3*w3*(x**2) + 4*w4*(x**3) + ... + n*wn*(x**(n-1))\n",
    "    '''\n",
    "    yprime = bias\n",
    "    for i in range(n):\n",
    "        yprime += (i+1)*w[i]*x**i\n",
    "    \n",
    "    return yprime\n",
    "\n",
    "def sigmoid_grad(x):\n",
    "    return sigmoid(x) * (1 - sigmoid(x))\n",
    "\n",
    "def neural_network(W, x):\n",
    "    a1 = sigmoid(dot(x, W[0]))\n",
    "    return dot(a1, W[1])[0][0]\n",
    "\n",
    "def d_neural_network_dx(W, x, k=1):\n",
    "    return dot(dot(transpose(W[1]), transpose(W[0])**k), sigmoid_grad(x))[0][0]\n",
    "\n",
    "def loss_function_yhat(w, x, n):\n",
    "    err_sqr = tf.square(yprime(x, w, n, bias = 0) - f(x, y(x, w, n, bias = 1)))\n",
    "    loss_sum = tf.math.reduce_sum(err_sqr)\n",
    "    return loss_sum\n",
    "\n",
    "def loss_function(yhat, yhatprime, W, x):\n",
    "    loss_sum = 0.\n",
    "    for i in tf.range(tf.size(x)):\n",
    "        a1 = sigmoid(dot(x[i], W[0]))\n",
    "        net_out = dot(a1, W[1])\n",
    "        psy_t = yhat[i] + net_out*x[i]\n",
    "\n",
    "        d_net_out = dot(dot(transpose(W[1]), transpose(W[0])**1), sigmoid_grad(x[i]))\n",
    "        d_psy_t = yhatprime[i] + net_out + d_net_out*x[i]\n",
    "        \n",
    "        err_sqr = tf.square(d_net_out - f(x[i], psy_t))\n",
    "        loss_sum += tf.reduce_sum(err_sqr)\n",
    "        \n",
    "    return loss_sum"
   ]
  },
  {
   "cell_type": "code",
   "execution_count": 3,
   "metadata": {},
   "outputs": [],
   "source": [
    "'''\n",
    "    yhat_w_loss 출력\n",
    "    w 값, low_loss_sum(가장 낮은 지점 loss 합)\n",
    "\n",
    "    yhat 값 생성 방법\n",
    "    yhat_w, yhat_loss = yhat_w_loss(x, 차수)\n",
    "    yhat = y(x, yhat_w, 차수, bias)\n",
    "'''\n",
    "def yhat_w_loss(x, n = 4, target_loss = np.Inf, early_stop = np.Inf, max_train_count = np.Inf):\n",
    "    print('Start yhat')\n",
    "    # 차수, weight 개수\n",
    "    w = tf.Variable(tf.random.normal(shape=(n,), dtype=tf.float32, seed=777), trainable=True) # w = [weight1, weight2, weight3, weight4, ... , weight(n)]\n",
    "\n",
    "    # 원하는 loss 값에 도달할 때 까지 Epoch 횟수 올리기\n",
    "    Epoch = 0\n",
    "\n",
    "    # 옵티마이져 종류 Adam, SDG, RMSprop, Adadelta, Adagrad, Adamax, Nadam, Ftrl 가능\n",
    "    optimizer = keras.optimizers.Adam(learning_rate=1e-3)\n",
    "\n",
    "    # 학습 과정\n",
    "    low_loss = np.inf\n",
    "    low_loss_Epoch = 0\n",
    "    while True:\n",
    "        Epoch += 1\n",
    "        loss_sum = 0.0\n",
    "        with tf.GradientTape() as tape:\n",
    "            loss_sum = loss_function_yhat(w, x, n)\n",
    "\n",
    "        # Gradient 값 저장\n",
    "        gradients = tape.gradient(loss_sum, w)\n",
    "        # Gradient 값 w에 적용\n",
    "        optimizer.apply_gradients(zip([gradients], [w]))\n",
    "        \n",
    "        # early stop\n",
    "        '''\n",
    "            target_loss : 초기값 inf, 값을 정해 줄 수 있음.\n",
    "            low_loss : 반복중 가장 낮은 loss 값\n",
    "            early_stop : 초기값 inf, low_loss를 구하고 얼마나 반복 하고 멈출 것인지.\n",
    "            조건\n",
    "            1. target_loss 보다 loss_sum이 작아졌는지\n",
    "            2. low_loss 보다 loss_sum이 작아졌는지\n",
    "\n",
    "            조건 1, 2 만족 시 low_loss가 loss_sum으로 변경\n",
    "\n",
    "            3. low_loss가 갱신된 Epoch 부터 지정한 early_stop 값 만큼 반복 후 중단.\n",
    "        '''\n",
    "        if target_loss >= loss_sum and low_loss > loss_sum:\n",
    "            low_loss = loss_sum\n",
    "            early_stop_w = w\n",
    "            low_loss_Epoch = Epoch\n",
    "        \n",
    "        if low_loss_Epoch != 0 and low_loss_Epoch + early_stop <= Epoch:\n",
    "            print('early stop')\n",
    "            break\n",
    "\n",
    "        # 학습 중간에 출력\n",
    "        if Epoch % 1000 == 0:\n",
    "            print('Epoch : {}, Loss_sum : {:.4f}, w : {}'.format(Epoch, loss_sum, w.numpy()))\n",
    "\n",
    "        if Epoch == max_train_count:\n",
    "            print('max count')\n",
    "            break\n",
    "        \n",
    "    print('low_loss_Epoch : {}, low_Loss_sum : {:.4f}, low_loss_w : {}'.format(low_loss_Epoch, low_loss, early_stop_w))\n",
    "\n",
    "    return early_stop_w, low_loss"
   ]
  },
  {
   "cell_type": "code",
   "execution_count": 4,
   "metadata": {},
   "outputs": [],
   "source": [
    "def EC_W(x, yhat, yhatprime, n = 4, min_loss = -1, target_loss = np.Inf, early_stop = np.Inf, max_train_count = np.Inf):\n",
    "    print('Start add EC')\n",
    "    seed = 777\n",
    "    W = [tf.Variable(tf.random.normal(shape=(1, 10), dtype=tf.float32, seed=seed), trainable=True), \n",
    "        tf.Variable(tf.random.normal(shape=(10, 1), dtype=tf.float32, seed=seed), trainable=True)] \n",
    "    \n",
    "    # 원하는 loss 값에 도달할 때 까지 Epoch 횟수 올리기\n",
    "    Epoch = 0\n",
    "\n",
    "    # 옵티마이져 종류 Adam, SDG, RMSprop, Adadelta, Adagrad, Adamax, Nadam, Ftrl 가능\n",
    "    optimizer = keras.optimizers.Adam(learning_rate=1e-3)\n",
    "\n",
    "    # 학습 과정\n",
    "    low_loss = np.inf\n",
    "    low_loss_Epoch = 0\n",
    "    while True:\n",
    "        loss_sum = 0.0\n",
    "        with tf.GradientTape() as tape:\n",
    "            loss_sum = loss_function(yhat, yhatprime, W, x)\n",
    "\n",
    "        # Gradient 값 저장\n",
    "        gradients = tape.gradient(loss_sum, W)\n",
    "        # Gradient 값 w에 적용\n",
    "        optimizer.apply_gradients(zip([gradients[0], gradients[1]], [W[0], W[1]]))\n",
    "\n",
    "        # early stop\n",
    "        if target_loss >= loss_sum and low_loss > loss_sum:\n",
    "            low_loss = loss_sum\n",
    "            early_stop_w = W\n",
    "            low_loss_Epoch = Epoch\n",
    "\n",
    "        if loss_sum <= 0.5:\n",
    "            print('not this seed : {}, break Epoch {}'.format(seed, Epoch))\n",
    "            seed += 1\n",
    "            Epoch = 0\n",
    "            low_loss = np.inf\n",
    "            low_loss_Epoch = 0\n",
    "            W = [tf.Variable(tf.random.normal(shape=(1, 10), dtype=tf.float32, seed=seed), trainable=True), \n",
    "                tf.Variable(tf.random.normal(shape=(10, 1), dtype=tf.float32, seed=seed), trainable=True)] \n",
    "            continue\n",
    "        \n",
    "        if low_loss_Epoch != 0 and low_loss_Epoch + early_stop <= Epoch:\n",
    "            print('early stop')\n",
    "            break\n",
    "\n",
    "        # min_loss가 loss_sum 보다 작아지면 멈춤\n",
    "        if min_loss > loss_sum:\n",
    "            print('min_loss')\n",
    "            break\n",
    "\n",
    "        if Epoch % 1000 == 0:\n",
    "            print('Epoch : {}, Loss_sum : {:.4f}'.format(Epoch, loss_sum))\n",
    "\n",
    "        if Epoch == max_train_count:\n",
    "            print('max count')\n",
    "            break\n",
    "        Epoch += 1\n",
    "    print('low_loss_Epoch : {}, low_Loss_sum : {:.4f}, low_loss_w : {}, seed : {}'.format(low_loss_Epoch, low_loss, early_stop_w, seed))\n",
    "\n",
    "    return early_stop_w, low_loss"
   ]
  },
  {
   "cell_type": "code",
   "execution_count": 5,
   "metadata": {},
   "outputs": [
    {
     "name": "stdout",
     "output_type": "stream",
     "text": [
      "Start yhat\n",
      "Epoch : 1000, Loss_sum : 24.7032, w : [1.4452205]\n",
      "early stop\n",
      "low_loss_Epoch : 1582, low_Loss_sum : 24.6271, low_loss_w : <tf.Variable 'Variable:0' shape=(1,) dtype=float32, numpy=array([1.4896877], dtype=float32)>\n"
     ]
    }
   ],
   "source": [
    "# random seed 값 지정, global한 randomseed값과 operation seed를 모두 설정해야 같은 결과값을 도출할 수 있음.\n",
    "tf.random.set_seed(7777)\n",
    "\n",
    "# 최대 x 범위 : start <= x < limit, delta로 슬라이싱\n",
    "start, limit, delta = 0, 1, 0.01\n",
    "x = tf.Variable(tf.range(start, limit, delta))\n",
    "\n",
    "# yhat 생성\n",
    "n = 1\n",
    "yhat_w_1, low_loss_1 = yhat_w_loss(x, n, early_stop=1)\n",
    "yhat_1 = y(x, yhat_w_1, n, bias = 1)\n",
    "yhatprime_1 = yprime(x, yhat_w_1, n, bias = 0)"
   ]
  },
  {
   "cell_type": "code",
   "execution_count": 6,
   "metadata": {},
   "outputs": [
    {
     "name": "stdout",
     "output_type": "stream",
     "text": [
      "Start add EC\n",
      "Epoch : 0, Loss_sum : 486.6661\n",
      "Epoch : 1000, Loss_sum : 7.5905\n",
      "min_loss\n",
      "low_loss_Epoch : 1501, low_Loss_sum : 0.6993, low_loss_w : [<tf.Variable 'Variable:0' shape=(1, 10) dtype=float32, numpy=\n",
      "array([[ 0.4683452 ,  0.75437903, -1.179829  ,  0.8052548 ,  0.4718116 ,\n",
      "        -0.88889575,  1.6570157 ,  0.04500543, -2.264028  ,  0.44648412]],\n",
      "      dtype=float32)>, <tf.Variable 'Variable:0' shape=(10, 1) dtype=float32, numpy=\n",
      "array([[-2.110921  ],\n",
      "       [-1.5169386 ],\n",
      "       [-2.8235142 ],\n",
      "       [ 0.22158994],\n",
      "       [ 0.5322162 ],\n",
      "       [ 1.5810361 ],\n",
      "       [ 0.911171  ],\n",
      "       [-1.001184  ],\n",
      "       [-0.81520826],\n",
      "       [ 0.5828311 ]], dtype=float32)>], seed : 777\n"
     ]
    }
   ],
   "source": [
    "# add EC\n",
    "EC_W_1, loss_1 = EC_W(x, yhat_1, yhatprime_1, n, early_stop=1, min_loss=0.7)"
   ]
  },
  {
   "cell_type": "code",
   "execution_count": 7,
   "metadata": {},
   "outputs": [
    {
     "data": {
      "image/png": "[encoded data removed]",
      "text/plain": [
       "<Figure size 1296x360 with 2 Axes>"
      ]
     },
     "metadata": {
      "needs_background": "light"
     },
     "output_type": "display_data"
    }
   ],
   "source": [
    "# Graph\n",
    "fig = plt.figure(figsize=(18,5))\n",
    "ax = fig.add_subplot(121)\n",
    "ax.plot(yhat_1, label = 'yhat')\n",
    "ax.plot(yhat_1 + [neural_network(EC_W_1, x[i])*x[i] for i in tf.range(tf.size(x))], label = 'y')\n",
    "ax.plot(psy_analytic(x,1), label = 'analysis')\n",
    "ax.tick_params(labelsize=10)\n",
    "ax.legend(fontsize=20)\n",
    "ax.grid()\n",
    "# Error\n",
    "ax2 = fig.add_subplot(122)\n",
    "ax2.plot(abs(yhat_1 - psy_analytic(x,1)), label = 'yhat')\n",
    "ax2.plot(abs(yhat_1 + [neural_network(EC_W_1, x[i])*x[i] for i in tf.range(tf.size(x))] - psy_analytic(x,1)), label = 'y')\n",
    "ax2.tick_params(labelsize=10)\n",
    "ax2.legend(fontsize=20)\n",
    "ax2.grid()\n"
   ]
  },
  {
   "cell_type": "code",
   "execution_count": 10,
   "metadata": {},
   "outputs": [
    {
     "data": {
      "text/plain": [
       "<tf.Tensor: shape=(), dtype=float32, numpy=0.696216>"
      ]
     },
     "execution_count": 10,
     "metadata": {},
     "output_type": "execute_result"
    }
   ],
   "source": [
    "loss_function(yhat_1, yhatprime_1, EC_W_1, x)"
   ]
  },
  {
   "cell_type": "code",
   "execution_count": 14,
   "metadata": {},
   "outputs": [
    {
     "name": "stdout",
     "output_type": "stream",
     "text": [
      "tf.Tensor([[-0.05172783]], shape=(1, 1), dtype=float32)\n",
      "tf.Tensor([[-0.04454857]], shape=(1, 1), dtype=float32)\n",
      "tf.Tensor([[-0.03760642]], shape=(1, 1), dtype=float32)\n",
      "tf.Tensor([[-0.03090113]], shape=(1, 1), dtype=float32)\n",
      "tf.Tensor([[-0.02443242]], shape=(1, 1), dtype=float32)\n",
      "tf.Tensor([[-0.0182001]], shape=(1, 1), dtype=float32)\n",
      "tf.Tensor([[-0.01220357]], shape=(1, 1), dtype=float32)\n",
      "tf.Tensor([[-0.00644267]], shape=(1, 1), dtype=float32)\n",
      "tf.Tensor([[-0.00091648]], shape=(1, 1), dtype=float32)\n",
      "tf.Tensor([[0.00437558]], shape=(1, 1), dtype=float32)\n",
      "tf.Tensor([[0.00943428]], shape=(1, 1), dtype=float32)\n",
      "tf.Tensor([[0.01426047]], shape=(1, 1), dtype=float32)\n",
      "tf.Tensor([[0.01885515]], shape=(1, 1), dtype=float32)\n",
      "tf.Tensor([[0.02321917]], shape=(1, 1), dtype=float32)\n",
      "tf.Tensor([[0.02735388]], shape=(1, 1), dtype=float32)\n",
      "tf.Tensor([[0.03126025]], shape=(1, 1), dtype=float32)\n",
      "tf.Tensor([[0.03493983]], shape=(1, 1), dtype=float32)\n",
      "tf.Tensor([[0.0383938]], shape=(1, 1), dtype=float32)\n",
      "tf.Tensor([[0.04162371]], shape=(1, 1), dtype=float32)\n",
      "tf.Tensor([[0.04463089]], shape=(1, 1), dtype=float32)\n",
      "tf.Tensor([[0.04741704]], shape=(1, 1), dtype=float32)\n",
      "tf.Tensor([[0.04998392]], shape=(1, 1), dtype=float32)\n",
      "tf.Tensor([[0.0523333]], shape=(1, 1), dtype=float32)\n",
      "tf.Tensor([[0.0544669]], shape=(1, 1), dtype=float32)\n",
      "tf.Tensor([[0.05638647]], shape=(1, 1), dtype=float32)\n",
      "tf.Tensor([[0.05809414]], shape=(1, 1), dtype=float32)\n",
      "tf.Tensor([[0.05959207]], shape=(1, 1), dtype=float32)\n",
      "tf.Tensor([[0.06088197]], shape=(1, 1), dtype=float32)\n",
      "tf.Tensor([[0.06196624]], shape=(1, 1), dtype=float32)\n",
      "tf.Tensor([[0.06284702]], shape=(1, 1), dtype=float32)\n",
      "tf.Tensor([[0.06352669]], shape=(1, 1), dtype=float32)\n",
      "tf.Tensor([[0.06400752]], shape=(1, 1), dtype=float32)\n",
      "tf.Tensor([[0.0642916]], shape=(1, 1), dtype=float32)\n",
      "tf.Tensor([[0.06438172]], shape=(1, 1), dtype=float32)\n",
      "tf.Tensor([[0.06427997]], shape=(1, 1), dtype=float32)\n",
      "tf.Tensor([[0.06398946]], shape=(1, 1), dtype=float32)\n",
      "tf.Tensor([[0.06351233]], shape=(1, 1), dtype=float32)\n",
      "tf.Tensor([[0.06285125]], shape=(1, 1), dtype=float32)\n",
      "tf.Tensor([[0.06200862]], shape=(1, 1), dtype=float32)\n",
      "tf.Tensor([[0.06098753]], shape=(1, 1), dtype=float32)\n",
      "tf.Tensor([[0.05979091]], shape=(1, 1), dtype=float32)\n",
      "tf.Tensor([[0.05842078]], shape=(1, 1), dtype=float32)\n",
      "tf.Tensor([[0.0568803]], shape=(1, 1), dtype=float32)\n",
      "tf.Tensor([[0.05517238]], shape=(1, 1), dtype=float32)\n",
      "tf.Tensor([[0.05330026]], shape=(1, 1), dtype=float32)\n",
      "tf.Tensor([[0.05126548]], shape=(1, 1), dtype=float32)\n",
      "tf.Tensor([[0.04907209]], shape=(1, 1), dtype=float32)\n",
      "tf.Tensor([[0.04672301]], shape=(1, 1), dtype=float32)\n",
      "tf.Tensor([[0.04422086]], shape=(1, 1), dtype=float32)\n",
      "tf.Tensor([[0.0415684]], shape=(1, 1), dtype=float32)\n",
      "tf.Tensor([[0.03876877]], shape=(1, 1), dtype=float32)\n",
      "tf.Tensor([[0.03582519]], shape=(1, 1), dtype=float32)\n",
      "tf.Tensor([[0.03274029]], shape=(1, 1), dtype=float32)\n",
      "tf.Tensor([[0.02951729]], shape=(1, 1), dtype=float32)\n",
      "tf.Tensor([[0.02615905]], shape=(1, 1), dtype=float32)\n",
      "tf.Tensor([[0.02266872]], shape=(1, 1), dtype=float32)\n",
      "tf.Tensor([[0.01904923]], shape=(1, 1), dtype=float32)\n",
      "tf.Tensor([[0.01530403]], shape=(1, 1), dtype=float32)\n",
      "tf.Tensor([[0.01143539]], shape=(1, 1), dtype=float32)\n",
      "tf.Tensor([[0.00744659]], shape=(1, 1), dtype=float32)\n",
      "tf.Tensor([[0.00334126]], shape=(1, 1), dtype=float32)\n",
      "tf.Tensor([[-0.00087845]], shape=(1, 1), dtype=float32)\n",
      "tf.Tensor([[-0.00520909]], shape=(1, 1), dtype=float32)\n",
      "tf.Tensor([[-0.00964785]], shape=(1, 1), dtype=float32)\n",
      "tf.Tensor([[-0.01419151]], shape=(1, 1), dtype=float32)\n",
      "tf.Tensor([[-0.01883674]], shape=(1, 1), dtype=float32)\n",
      "tf.Tensor([[-0.02358174]], shape=(1, 1), dtype=float32)\n",
      "tf.Tensor([[-0.028422]], shape=(1, 1), dtype=float32)\n",
      "tf.Tensor([[-0.03335583]], shape=(1, 1), dtype=float32)\n",
      "tf.Tensor([[-0.03837949]], shape=(1, 1), dtype=float32)\n",
      "tf.Tensor([[-0.04349077]], shape=(1, 1), dtype=float32)\n",
      "tf.Tensor([[-0.04868597]], shape=(1, 1), dtype=float32)\n",
      "tf.Tensor([[-0.05396295]], shape=(1, 1), dtype=float32)\n",
      "tf.Tensor([[-0.05931896]], shape=(1, 1), dtype=float32)\n",
      "tf.Tensor([[-0.06474996]], shape=(1, 1), dtype=float32)\n",
      "tf.Tensor([[-0.07025421]], shape=(1, 1), dtype=float32)\n",
      "tf.Tensor([[-0.07582885]], shape=(1, 1), dtype=float32)\n",
      "tf.Tensor([[-0.08147013]], shape=(1, 1), dtype=float32)\n",
      "tf.Tensor([[-0.08717608]], shape=(1, 1), dtype=float32)\n",
      "tf.Tensor([[-0.0929442]], shape=(1, 1), dtype=float32)\n",
      "tf.Tensor([[-0.09877104]], shape=(1, 1), dtype=float32)\n",
      "tf.Tensor([[-0.10465461]], shape=(1, 1), dtype=float32)\n",
      "tf.Tensor([[-0.11059159]], shape=(1, 1), dtype=float32)\n",
      "tf.Tensor([[-0.11658007]], shape=(1, 1), dtype=float32)\n",
      "tf.Tensor([[-0.12261719]], shape=(1, 1), dtype=float32)\n",
      "tf.Tensor([[-0.12870014]], shape=(1, 1), dtype=float32)\n",
      "tf.Tensor([[-0.13482606]], shape=(1, 1), dtype=float32)\n",
      "tf.Tensor([[-0.14099318]], shape=(1, 1), dtype=float32)\n",
      "tf.Tensor([[-0.14719856]], shape=(1, 1), dtype=float32)\n",
      "tf.Tensor([[-0.15343952]], shape=(1, 1), dtype=float32)\n",
      "tf.Tensor([[-0.15971404]], shape=(1, 1), dtype=float32)\n",
      "tf.Tensor([[-0.1660201]], shape=(1, 1), dtype=float32)\n",
      "tf.Tensor([[-0.17235482]], shape=(1, 1), dtype=float32)\n",
      "tf.Tensor([[-0.17871535]], shape=(1, 1), dtype=float32)\n",
      "tf.Tensor([[-0.1851002]], shape=(1, 1), dtype=float32)\n",
      "tf.Tensor([[-0.19150662]], shape=(1, 1), dtype=float32)\n",
      "tf.Tensor([[-0.19793278]], shape=(1, 1), dtype=float32)\n",
      "tf.Tensor([[-0.20437568]], shape=(1, 1), dtype=float32)\n",
      "tf.Tensor([[-0.21083432]], shape=(1, 1), dtype=float32)\n",
      "tf.Tensor([[-0.21730518]], shape=(1, 1), dtype=float32)\n",
      "tf.Tensor(6.4644184, shape=(), dtype=float32)\n"
     ]
    }
   ],
   "source": [
    "loss_sum = 0.\n",
    "for i in tf.range(tf.size(x)):\n",
    "    a1 = sigmoid(dot(x[i], EC_W_1[0]))\n",
    "    net_out = dot(a1, EC_W_1[1])\n",
    "    psy_t = yhat_1[i] + net_out*x[i]\n",
    "\n",
    "    d_net_out = dot(dot(transpose(EC_W_1[1]), transpose(EC_W_1[0])**1), sigmoid_grad(x[i]))\n",
    "    d_psy_t = yhatprime_1[i] + net_out + d_net_out*x[i]\n",
    "    \n",
    "    err_sqr = tf.sqrt(tf.square(d_net_out - f(x[i], psy_t)))\n",
    "    loss_sum += tf.reduce_sum(err_sqr)\n",
    "    print(d_net_out - f(x[i], psy_t))\n",
    "print(loss_sum)\n",
    "    "
   ]
  },
  {
   "cell_type": "code",
   "execution_count": 33,
   "metadata": {},
   "outputs": [
    {
     "name": "stdout",
     "output_type": "stream",
     "text": [
      "tf.Tensor(41.35902, shape=(), dtype=float32)\n"
     ]
    }
   ],
   "source": [
    "all_sum = 0.\n",
    "for v in yhatprime_1 - f(x, yhat_1):\n",
    "    all_sum += abs(v)\n",
    "print(all_sum)"
   ]
  },
  {
   "cell_type": "code",
   "execution_count": 22,
   "metadata": {},
   "outputs": [
    {
     "data": {
      "text/plain": [
       "<tf.Tensor: shape=(100,), dtype=float32, numpy=\n",
       "array([ 0.48968768,  0.4747908 ,  0.45989394,  0.44499707,  0.4301002 ,\n",
       "        0.41520333,  0.40030646,  0.3854096 ,  0.37051272,  0.35561585,\n",
       "        0.34071898,  0.32582211,  0.31092525,  0.29602838,  0.2811314 ,\n",
       "        0.26623452,  0.25133765,  0.23644078,  0.22154391,  0.20664704,\n",
       "        0.19175005,  0.17685318,  0.16195631,  0.14705944,  0.13216257,\n",
       "        0.1172657 ,  0.10236883,  0.08747196,  0.07257509,  0.05767822,\n",
       "        0.04278135,  0.02788448,  0.01298761, -0.00190926, -0.01680613,\n",
       "       -0.031703  , -0.04659975, -0.06149662, -0.07639349, -0.09129035,\n",
       "       -0.10618722, -0.12108409, -0.13598096, -0.15087783, -0.16577458,\n",
       "       -0.18067145, -0.19556832, -0.2104652 , -0.22536206, -0.24025893,\n",
       "       -0.2551558 , -0.27005267, -0.28494954, -0.2998464 , -0.31474328,\n",
       "       -0.32964015, -0.34453702, -0.3594339 , -0.37433076, -0.38922763,\n",
       "       -0.4041245 , -0.41902137, -0.43391824, -0.4488151 , -0.46371198,\n",
       "       -0.47860885, -0.49350572, -0.5084026 , -0.52329946, -0.5381963 ,\n",
       "       -0.5530932 , -0.56799006, -0.58288693, -0.5977838 , -0.6126807 ,\n",
       "       -0.62757754, -0.6424744 , -0.6573713 , -0.67226815, -0.687165  ,\n",
       "       -0.7020619 , -0.71695876, -0.73185563, -0.7467525 , -0.76164937,\n",
       "       -0.77654624, -0.7914431 , -0.80634   , -0.82123685, -0.8361335 ,\n",
       "       -0.85103035, -0.8659272 , -0.8808241 , -0.89572096, -0.9106178 ,\n",
       "       -0.9255147 , -0.94041157, -0.95530844, -0.9702053 , -0.9851022 ],\n",
       "      dtype=float32)>"
      ]
     },
     "execution_count": 22,
     "metadata": {},
     "output_type": "execute_result"
    }
   ],
   "source": [
    "yhatprime_1 - f(x, yhat_1)"
   ]
  },
  {
   "cell_type": "code",
   "execution_count": 31,
   "metadata": {},
   "outputs": [
    {
     "data": {
      "text/plain": [
       "<tf.Tensor: shape=(), dtype=float32, numpy=7.6242533>"
      ]
     },
     "execution_count": 31,
     "metadata": {},
     "output_type": "execute_result"
    }
   ],
   "source": [
    "tf.reduce_sum(abs(yhat_1 - psy_analytic(x, 1)))"
   ]
  },
  {
   "cell_type": "code",
   "execution_count": 30,
   "metadata": {},
   "outputs": [
    {
     "data": {
      "image/png": "[encoded data removed]",
      "text/plain": [
       "<Figure size 1296x360 with 2 Axes>"
      ]
     },
     "metadata": {
      "needs_background": "light"
     },
     "output_type": "display_data"
    }
   ],
   "source": [
    "# Graph\n",
    "fig = plt.figure(figsize=(18,5))\n",
    "ax = fig.add_subplot(121)\n",
    "ax.plot(yhat_1, label = 'yhat')\n",
    "ax.plot(yhat_1 + [neural_network(EC_W_1, x[i])*x[i] for i in tf.range(tf.size(x))], label = 'y')\n",
    "ax.plot(psy_analytic(x,1), label = 'analysis')\n",
    "ax.tick_params(labelsize=10)\n",
    "ax.legend(fontsize=20)\n",
    "ax.grid()\n",
    "# Error\n",
    "ax2 = fig.add_subplot(122)\n",
    "ax2.plot(abs(yhat_1 - psy_analytic(x,1)), label = 'yhat')\n",
    "ax2.plot(abs(yhat_1 + [neural_network(EC_W_1, x[i])*x[i] for i in tf.range(tf.size(x))] - psy_analytic(x,1)), label = 'y')\n",
    "ax2.tick_params(labelsize=10)\n",
    "ax2.legend(fontsize=20)\n",
    "ax2.grid()\n"
   ]
  },
  {
   "cell_type": "code",
   "execution_count": null,
   "metadata": {},
   "outputs": [],
   "source": []
  }
 ],
 "metadata": {
  "kernelspec": {
   "display_name": "Python 3.10.4 ('ODE')",
   "language": "python",
   "name": "python3"
  },
  "language_info": {
   "codemirror_mode": {
    "name": "ipython",
    "version": 3
   },
   "file_extension": ".py",
   "mimetype": "text/x-python",
   "name": "python",
   "nbconvert_exporter": "python",
   "pygments_lexer": "ipython3",
   "version": "3.10.4"
  },
  "vscode": {
   "interpreter": {
    "hash": "a37a875133dc80c33f2ec96aea7a9fa5375ebe8d8c5e67883faafd638e38fe9a"
   }
  }
 },
 "nbformat": 4,
 "nbformat_minor": 2
}
