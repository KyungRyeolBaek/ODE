{
  "cells": [
    {
      "cell_type": "markdown",
      "metadata": {
        "id": "iLojN8R-kwI5"
      },
      "source": [
        "# ODE example"
      ]
    },
    {
      "cell_type": "code",
      "execution_count": 1,
      "metadata": {
        "id": "ymDh1g2XWjfF"
      },
      "outputs": [],
      "source": [
        "import autograd.numpy as np\n",
        "from autograd import grad \n",
        "import autograd.numpy.random as npr\n",
        "\n",
        "from autograd.core import primitive\n",
        "\n",
        "from matplotlib import pyplot as plt\n",
        "%matplotlib inline"
      ]
    },
    {
      "cell_type": "code",
      "execution_count": 2,
      "metadata": {
        "id": "e4IS90KJWjfH"
      },
      "outputs": [],
      "source": [
        "nx = 10\n",
        "dx = 1. / nx"
      ]
    },
    {
      "cell_type": "code",
      "execution_count": 3,
      "metadata": {
        "id": "PWPphUaXWjfH"
      },
      "outputs": [],
      "source": [
        "def A(x):\n",
        "    '''\n",
        "        Left part of initial equation\n",
        "    '''\n",
        "    return x + (1. + 3.*x**2) / (1. + x + x**3)\n",
        "\n",
        "\n",
        "def B(x):\n",
        "    '''\n",
        "        Right part of initial equation\n",
        "    '''\n",
        "    return x**3 + 2.*x + x**2 * ((1. + 3.*x**2) / (1. + x + x**3))\n",
        "\n",
        "\n",
        "def f(x, psy):\n",
        "    '''\n",
        "        d(psy)/dx = f(x, psy)\n",
        "        This is f() function on the right\n",
        "    '''\n",
        "    return B(x) - psy * A(x)\n",
        "\n",
        "\n",
        "def psy_analytic(x):\n",
        "    '''\n",
        "        Analytical solution of current problem\n",
        "    '''\n",
        "    return (np.exp((-x**2)/2.)) / (1. + x + x**3) + x**2"
      ]
    },
    {
      "cell_type": "code",
      "execution_count": 4,
      "metadata": {
        "colab": {
          "base_uri": "https://localhost:8080/",
          "height": 264
        },
        "id": "j62FP8WlWjfH",
        "outputId": "7f7497fb-9047-4481-f0f5-df026453c5f2"
      },
      "outputs": [
        {
          "data": {
            "image/png": "[encoded data removed]",
            "text/plain": [
              "<Figure size 432x288 with 1 Axes>"
            ]
          },
          "metadata": {
            "needs_background": "light"
          },
          "output_type": "display_data"
        }
      ],
      "source": [
        "x_space = np.linspace(0, 1, nx)    \n",
        "y_space = psy_analytic(x_space)\n",
        "psy_fd = np.zeros_like(y_space)\n",
        "psy_fd[0] = 1. # IC\n",
        "\n",
        "for i in range(1, len(x_space)):\n",
        "    psy_fd[i] = psy_fd[i-1] + B(x_space[i]) * dx - psy_fd[i-1] * A(x_space[i]) * dx\n",
        "  \n",
        "plt.figure()\n",
        "plt.plot(x_space, y_space) \n",
        "plt.plot(x_space, psy_fd)\n",
        "plt.show()"
      ]
    },
    {
      "cell_type": "code",
      "execution_count": 5,
      "metadata": {
        "id": "d-kstGU-WjfI"
      },
      "outputs": [],
      "source": [
        "def sigmoid(x):\n",
        "    return 1 / (1 + np.exp(-x))\n",
        "\n",
        "\n",
        "def sigmoid_grad(x):\n",
        "    return sigmoid(x) * (1 - sigmoid(x))\n",
        "\n",
        "\n",
        "def neural_network(W, x):\n",
        "    a1 = sigmoid(np.dot(x, W[0]))\n",
        "    return np.dot(a1, W[1])\n",
        "\n",
        "\n",
        "def d_neural_network_dx(W, x, k=1):\n",
        "    return np.dot(np.dot(W[1].T, W[0].T**k), sigmoid_grad(x))\n",
        "\n",
        "\n",
        "def loss_function(W, x):\n",
        "    loss_sum = 0.\n",
        "    for xi in x:\n",
        "        net_out = neural_network(W, xi)[0][0]\n",
        "        psy_t = 1. + xi * net_out\n",
        "        d_net_out = d_neural_network_dx(W, xi)[0][0]\n",
        "        d_psy_t = net_out + xi * d_net_out\n",
        "        func = f(xi, psy_t)       \n",
        "        err_sqr = (d_psy_t - func)**2\n",
        "\n",
        "        loss_sum += err_sqr\n",
        "    return loss_sum"
      ]
    },
    {
      "cell_type": "code",
      "execution_count": 6,
      "metadata": {
        "id": "q8xzvh1eWjfJ"
      },
      "outputs": [],
      "source": [
        "W = [npr.randn(1, 10), npr.randn(10, 1)]\n",
        "lmb = 0.001\n",
        "\n",
        "# x = np.array(1)\n",
        "# print neural_network(W, x)\n",
        "# print d_neural_network_dx(W, x)\n",
        "\n",
        "for i in range(1000):\n",
        "    loss_grad =  grad(loss_function)(W, x_space)\n",
        "    \n",
        "#     print loss_grad[0].shape, W[0].shape\n",
        "#     print loss_grad[1].shape, W[1].shape\n",
        "    \n",
        "    W[0] = W[0] - lmb * loss_grad[0]\n",
        "    W[1] = W[1] - lmb * loss_grad[1]\n",
        "    \n",
        "#     print loss_function(W, x_space)"
      ]
    },
    {
      "cell_type": "code",
      "execution_count": 7,
      "metadata": {
        "colab": {
          "base_uri": "https://localhost:8080/",
          "height": 477
        },
        "id": "OtekhGLWWjfJ",
        "outputId": "875e688b-5679-4c69-9bdb-42fd7e54b126"
      },
      "outputs": [
        {
          "name": "stdout",
          "output_type": "stream",
          "text": [
            "0.09698428937006887\n",
            "[array([[ 0.85812864, -0.42459189,  0.03600711, -0.46833495,  0.6249287 ,\n",
            "         1.20750763,  1.10922222, -0.07035751, -0.97730942,  0.30306812]]), array([[ 1.27279332],\n",
            "       [ 0.19326391],\n",
            "       [-1.45457338],\n",
            "       [-1.04282397],\n",
            "       [ 1.12759432],\n",
            "       [ 1.274326  ],\n",
            "       [ 0.04577021],\n",
            "       [-1.42150738],\n",
            "       [-1.96332455],\n",
            "       [-0.24671099]])]\n"
          ]
        },
        {
          "data": {
            "image/png": "[encoded data removed]",
            "text/plain": [
              "<Figure size 432x288 with 1 Axes>"
            ]
          },
          "metadata": {
            "needs_background": "light"
          },
          "output_type": "display_data"
        }
      ],
      "source": [
        "print(loss_function(W, x_space))\n",
        "res = [1 + xi * neural_network(W, xi)[0][0] for xi in x_space] \n",
        "\n",
        "print(W)\n",
        "\n",
        "plt.figure()\n",
        "plt.plot(x_space, y_space) \n",
        "plt.plot(x_space, psy_fd)\n",
        "plt.plot(x_space, res)\n",
        "plt.show()"
      ]
    },
    {
      "cell_type": "code",
      "execution_count": null,
      "metadata": {
        "collapsed": true,
        "id": "0GCDySGmWjfJ"
      },
      "outputs": [],
      "source": []
    }
  ],
  "metadata": {
    "colab": {
      "name": "ODE example.ipynb",
      "provenance": []
    },
    "kernelspec": {
      "display_name": "Python 3.10.4 ('ODE')",
      "language": "python",
      "name": "python3"
    },
    "language_info": {
      "codemirror_mode": {
        "name": "ipython",
        "version": 3
      },
      "file_extension": ".py",
      "mimetype": "text/x-python",
      "name": "python",
      "nbconvert_exporter": "python",
      "pygments_lexer": "ipython3",
      "version": "3.10.4"
    },
    "vscode": {
      "interpreter": {
        "hash": "a37a875133dc80c33f2ec96aea7a9fa5375ebe8d8c5e67883faafd638e38fe9a"
      }
    }
  },
  "nbformat": 4,
  "nbformat_minor": 0
}
