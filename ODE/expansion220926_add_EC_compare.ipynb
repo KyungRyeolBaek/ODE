{
 "cells": [
  {
   "cell_type": "markdown",
   "metadata": {},
   "source": [
    "2022-09-15\n",
    "\n",
    "1. EC를 추가\n",
    "\n",
    "y = 1 + w1*(x) + w2*(x**2) + w3*(x**3) + w4*(x**4) + EC*(x**5)\n",
    "\n",
    "2. 두가지 경우 비교\n",
    "\n",
    "y = 1 + w1*(x) + w2*(x**2) + w3*(x**3) + w4*(x**4) + w5*(x**5)\n",
    "\n",
    "y = 1 + w1*(x) + w2*(x**2) + w3*(x**3) + w4*(x**4) + EC*(x**5)\n",
    "\n",
    "y = 1 + w1*(x) + w2*(x**2) + w3*(x**3) + w4*(x**4) + sigmoid* w *(x**5)"
   ]
  },
  {
   "cell_type": "markdown",
   "metadata": {},
   "source": [
    "2022-09-20\n",
    "\n",
    "loss =\n",
    "\n",
    "[f(1 + w1*(x) + w2*(x**2) + w3*(x**3) + w4*(x**4)) - {w1 + 2*w2 + 3*w3*(x**2) + 4*w4*(x**3)}\n",
    " + f(EC)*(x**5) - {5*f(EC)*(x**4) + d_EC*(x**5)}]**2\n",
    "\n",
    " [f(1 + w1*(x) + w2*(x**2) + w3*(x**3) + w4*(x**4)) - {w1 + 2*w2 + 3*w3*(x**2) + 4*w4*(x**3)}]**2\n",
    " + [f(EC)*(x**5) - {5*f(EC)*(x**4) + d_EC*(x**5)}]**2"
   ]
  },
  {
   "cell_type": "markdown",
   "metadata": {},
   "source": [
    "Module import"
   ]
  },
  {
   "cell_type": "code",
   "execution_count": 23,
   "metadata": {},
   "outputs": [],
   "source": [
    "import tensorflow as tf\n",
    "import numpy as np\n",
    "import matplotlib.pyplot as plt\n",
    "from tensorflow import keras\n",
    "from collections import deque"
   ]
  },
  {
   "cell_type": "markdown",
   "metadata": {},
   "source": [
    "Solve the following initial value differential equation $$ y'=\\lambda y,  \\quad  y(0)=y_0$$"
   ]
  },
  {
   "cell_type": "markdown",
   "metadata": {},
   "source": [
    "Fuction Define"
   ]
  },
  {
   "cell_type": "code",
   "execution_count": 24,
   "metadata": {},
   "outputs": [],
   "source": [
    "# analysis 함수 \n",
    "def anal(x, lamb):\n",
    "    return np.exp(lamb*x)\n",
    "\n",
    "# n : w 개수, w : weight\n",
    "def y(x, w, n = 4):\n",
    "    y = 1         # y = 1 + w1*(x) + w2*(x**2) + w3*(x**3) + w4*(x**4)\n",
    "    for i in range(1, n+1):\n",
    "        y += w[i-1]*(x**i)\n",
    "    \n",
    "    return y\n",
    "\n",
    "def yprime(x, w, n = 4):\n",
    "    yprime = 0    # yprime = w1 + 2*w2*x + 3*w3*(x**2) + 4*w4*(x**3)\n",
    "    for i in range(1, n + 1):\n",
    "        yprime += i*w[i-1]*(x**(i-1))\n",
    "\n",
    "    return yprime\n",
    "\n",
    "def f(y, lamb):\n",
    "    return lamb*y\n",
    "\n",
    "def sigmoid(x):\n",
    "    return 1 / (1 + tf.math.exp(-x))\n",
    "\n",
    "def sigmoid_grad(x):\n",
    "    return sigmoid(x) * (1 - sigmoid(x))\n",
    "\n",
    "def neural_network(W, x):\n",
    "    a1 = sigmoid(tf.experimental.numpy.dot(x, W[0]))\n",
    "    return tf.experimental.numpy.dot(a1, W[1])\n",
    "\n",
    "def d_neural_network_dx(W, x, k=1):\n",
    "    return tf.experimental.numpy.dot(tf.experimental.numpy.dot(tf.transpose(W[1]), tf.transpose(W[0])**k), sigmoid_grad(x))\n",
    "\n",
    "def net_out(W):\n",
    "    return neural_network(W, 1)\n",
    "\n",
    "def EC_predict(W, x, lamb, n):\n",
    "    return f(net_out(W)*x**(n+1), lamb)\n",
    "\n",
    "def d_net_out(W, x):\n",
    "    return d_neural_network_dx(W, x)\n",
    "\n",
    "def EC_d_y(W, x, n):\n",
    "    return (n+1)*(x**n)*net_out(W) + x**(n+1)* d_net_out(W, x)"
   ]
  },
  {
   "cell_type": "markdown",
   "metadata": {},
   "source": [
    "Parameter"
   ]
  },
  {
   "cell_type": "code",
   "execution_count": 25,
   "metadata": {},
   "outputs": [],
   "source": [
    "# 최대 x 범위 : 0 <= x < x_max, lambda 값\n",
    "x_max = 1\n",
    "x = tf.Variable(np.array([[i/100] for i in range(0, x_max * 100, 1)], dtype = np.float32))\n",
    "lamb = -1\n",
    "\n",
    "# 차수, weight 개수\n",
    "n = 4\n",
    "w = tf.Variable(tf.random.normal(shape=(n,), dtype=tf.float32), trainable=True) # w = [weight1, weight2, weight3, weight4]\n",
    "\n",
    "# EC, Weight 개수\n",
    "EC_n = 10\n",
    "# W = [[1, EC_n], [EC_n, 1]]\n",
    "W = [tf.Variable(tf.random.normal(shape=(1, EC_n), dtype=tf.float32), trainable=True), tf.Variable(tf.random.normal(shape=(EC_n, 1), dtype=tf.float32), trainable=True)] \n",
    "\n",
    "# 변화 w 값, loss 저장\n",
    "w_trace = [np.append(np.array(w.numpy()), net_out(W).numpy())]\n",
    "loss_trace = []\n",
    "\n",
    "#  학습률 조정\n",
    "learning_rate = 0.01\n",
    "# EPOCH = 100\n",
    "\n",
    "# 원하는 loss 값에 도달할 때 까지 Epoch 횟수 올리기\n",
    "Epoch = 0\n",
    "target_loss = 0.0001"
   ]
  },
  {
   "cell_type": "markdown",
   "metadata": {},
   "source": [
    "ODE"
   ]
  },
  {
   "cell_type": "code",
   "execution_count": 29,
   "metadata": {},
   "outputs": [],
   "source": [
    "def ODE_train(n = 4, target_loss = 0.0001, learning_rate = 0.01, show_w_trace = True, show_loss_trace = True, show_error = True, show_compare_analysis = True):\n",
    "    # 최대 x 범위 : 0 <= x < x_max, lambda 값\n",
    "    x_max = 1\n",
    "    x = tf.Variable(np.array([[i/100] for i in range(0, x_max * 100, 1)], dtype = np.float32))\n",
    "    lamb = -1\n",
    "\n",
    "    # 차수, weight 개수\n",
    "    w = tf.Variable(tf.random.normal(shape=(n,), dtype=tf.float32), trainable=True) # w = [weight1, weight2, weight3, weight4, ... , weight(n)]\n",
    "\n",
    "    # 변화 w 값, loss 저장\n",
    "    w_trace.append(w.numpy())\n",
    "    loss_trace = []\n",
    "\n",
    "    # 원하는 loss 값에 도달할 때 까지 Epoch 횟수 올리기\n",
    "    Epoch = 0\n",
    "\n",
    "    # y' = f(y, t)를 만족하는 y 찾는 과정\n",
    "    optimizer = keras.optimizers.SGD(learning_rate=1e-3)\n",
    "\n",
    "    # 학습 과정\n",
    "    while True:\n",
    "        Epoch += 1\n",
    "        dq = deque([1,2,3], 3)\n",
    "        for x_unit in x:\n",
    "            with tf.GradientTape() as tape:\n",
    "                # 예측 값\n",
    "                predict = f(y(x_unit, w, n), lamb)\n",
    "                # y' = f(y, t)\n",
    "                loss = tf.math.sqrt(tf.square(predict - yprime(x_unit, w, n)))\n",
    "                loss_trace.append(loss.numpy())\n",
    "                dq.append(float(loss))\n",
    "                # # 오차\n",
    "                w_trace.append(w.numpy())\n",
    "                # w = tf.Variable(w - learning_rate*gradients)\n",
    "            gradients = tape.gradient(loss, w)\n",
    "            optimizer.apply_gradients(zip([gradients], [w]))\n",
    "            \n",
    "        dif = float(loss) < target_loss\n",
    "        if dif:\n",
    "            break\n",
    "        if dif and round(dq[0], 15) >= round(dq[2], 15):\n",
    "                break\n",
    "        if Epoch % 1000 == 0:\n",
    "            print('Epoch : {}, Loss : {:.10f}'.format(Epoch, float(loss)))\n",
    "    print('Epoch : {}, Loss : {:.10f}'.format(Epoch, float(loss)))\n",
    "\n",
    "    if show_w_trace:\n",
    "        fig, ax = plt.subplots(figsize=(6, 6))\n",
    "        ax.set_title('Weight & Epoch in x')\n",
    "        ax.set_xlabel('Epoch in x')\n",
    "        ax.set_ylabel('Weight')\n",
    "        ax.plot(w_trace, label = ['w{}'.format(i+1) for i in range(n)])\n",
    "        ax.tick_params(labelsize=10)\n",
    "        ax.legend(fontsize=10)\n",
    "        ax.grid()\n",
    "\n",
    "    if show_loss_trace:\n",
    "        fig, ax = plt.subplots(figsize=(5, 5))\n",
    "        ax.set_title('Loss & Epoch in x')\n",
    "        ax.set_xlabel('Epoch in x')\n",
    "        ax.set_ylabel('Loss')\n",
    "        ax.plot(loss_trace, label = 'loss')\n",
    "        ax.tick_params(labelsize=10)\n",
    "        ax.legend(fontsize=20)\n",
    "        ax.grid()\n",
    "\n",
    "    if show_error:\n",
    "        fig, ax = plt.subplots(figsize=(5, 5))\n",
    "        ax.plot(y(x, w, n) - anal(x,lamb), label = 'error')\n",
    "        ax.tick_params(labelsize=10)\n",
    "        ax.legend(fontsize=20)\n",
    "        ax.grid()\n",
    "\n",
    "    if show_compare_analysis:\n",
    "        fig, ax = plt.subplots(figsize=(7, 7))\n",
    "        ax.set_title('Analysis & f(lambda*y) & Error')\n",
    "        ax.set_xlabel('x')\n",
    "        ax.set_ylabel('y')\n",
    "        ax.plot(anal(x,lamb), label = 'analysis')\n",
    "        ax.plot(y(x, w, n), label = 'y')\n",
    "        # ax.plot(y(x, w, n) + net_out(W)*x**5, label = 'add_EC')\n",
    "        # ax.plot(y(x, w, n) - anal(x,lamb), label = 'error')\n",
    "        ax.tick_params(labelsize=10)\n",
    "        ax.legend(fontsize=20)\n",
    "        ax.grid()\n",
    "\n",
    "    return w"
   ]
  },
  {
   "cell_type": "markdown",
   "metadata": {},
   "source": [
    "ODE + EC"
   ]
  },
  {
   "cell_type": "code",
   "execution_count": null,
   "metadata": {},
   "outputs": [],
   "source": [
    "def ODE_EC_train(n = 4, EC_n = 10, target_loss = 0.0001, learning_rate = 0.01, show_w_trace = True, show_loss_trace = True, show_error = True, show_compare_analysis = True):\n",
    "    # 최대 x 범위 : 0 <= x < x_max, lambda 값\n",
    "    x_max = 1\n",
    "    x = tf.Variable(np.array([[i/100] for i in range(0, x_max * 100, 1)], dtype = np.float32))\n",
    "    lamb = -1\n",
    "\n",
    "    # 차수, weight 개수\n",
    "    w = tf.Variable(tf.random.normal(shape=(n,), dtype=tf.float32), trainable=True) # w = [weight1, weight2, weight3, weight4]\n",
    "\n",
    "    # EC, Weight 개수\n",
    "    # W = [[1, EC_n], [EC_n, 1]]\n",
    "    W = [tf.Variable(tf.random.normal(shape=(1, EC_n), dtype=tf.float32), trainable=True), tf.Variable(tf.random.normal(shape=(EC_n, 1), dtype=tf.float32), trainable=True)] \n",
    "\n",
    "    # 변화 w 값, loss 저장\n",
    "    w_trace = [np.append(np.array(w.numpy()), net_out(W).numpy())]\n",
    "    loss_trace = []\n",
    "\n",
    "    # 원하는 loss 값에 도달할 때 까지 Epoch 횟수 올리기\n",
    "    Epoch = 0\n",
    "    \n",
    "    # y' = f(y, t)를 만족하는 y 찾는 과정\n",
    "    EC_optimizer = keras.optimizers.SGD(learning_rate=1e-3)\n",
    "\n",
    "    # 학습 과정\n",
    "    while True:\n",
    "        Epoch += 1\n",
    "        dq = deque([1,2,3], 3)\n",
    "        for x_unit in x:\n",
    "            with tf.GradientTape() as tape:\n",
    "                # 예측 값\n",
    "                predict = f(y(x_unit, w, n), lamb)\n",
    "                # y' = f(y, t)\n",
    "                loss = tf.square(predict - yprime(x_unit, w, n)) + tf.square(EC_predict(W, x_unit, lamb, n) - EC_d_y(W, x_unit, n))\n",
    "                loss_trace.append(float(loss))\n",
    "                dq.append(float(loss))\n",
    "                # # 오차\n",
    "                w_trace.append(np.append(np.array(w.numpy()), net_out(W).numpy()))\n",
    "                # w = tf.Variable(w - learning_rate*gradients)\n",
    "            [gradients, EC_gradients] = tape.gradient(loss, [w, W])\n",
    "            EC_optimizer.apply_gradients(zip([gradients, EC_gradients[0], EC_gradients[1]], [w, W[0], W[1]]))\n",
    "            \n",
    "        dif = float(loss) < target_loss\n",
    "        if dif:\n",
    "            break\n",
    "        if dif and round(dq[0], 15) >= round(dq[2], 15):\n",
    "                break\n",
    "        if Epoch % 1000 == 0:\n",
    "            print('Epoch : {}, Loss : {:.10f}'.format(Epoch, float(loss)))\n",
    "    print('Epoch : {}, Loss : {:.10f}'.format(Epoch, float(loss)))\n",
    "\n",
    "    if show_w_trace:\n",
    "        fig, ax = plt.subplots(figsize=(6, 6))\n",
    "        ax.set_title('Weight & Epoch in x')\n",
    "        ax.set_xlabel('Epoch in x')\n",
    "        ax.set_ylabel('Weight')\n",
    "        ax.plot(w_trace, label = ['w{}'.format(i+1) for i in range(n)] + ['NN'])\n",
    "        ax.tick_params(labelsize=10)\n",
    "        ax.legend(fontsize=10)\n",
    "        ax.grid()\n",
    "    \n",
    "    if show_loss_trace:\n",
    "        fig, ax = plt.subplots(figsize=(5, 5))\n",
    "        ax.set_title('Loss & Epoch in x')\n",
    "        ax.set_xlabel('Epoch in x')\n",
    "        ax.set_ylabel('Loss')\n",
    "        ax.plot(loss_trace, label = 'loss')\n",
    "        ax.tick_params(labelsize=10)\n",
    "        ax.legend(fontsize=20)\n",
    "        ax.grid()\n",
    "\n",
    "    if show_error:\n",
    "        fig, ax = plt.subplots(figsize=(5, 5))\n",
    "        ax.plot(y(x, w, n) - anal(x,lamb), label = 'error')\n",
    "        ax.tick_params(labelsize=10)\n",
    "        ax.legend(fontsize=20)\n",
    "        ax.grid()\n",
    "\n",
    "    if show_compare_analysis:\n",
    "        fig, ax = plt.subplots(figsize=(7, 7))\n",
    "        ax.set_title('Analysis & f(lambda*y) & Error')\n",
    "        ax.set_xlabel('x')\n",
    "        ax.set_ylabel('y')\n",
    "        ax.plot(anal(x,lamb), label = 'analysis')\n",
    "        # ax.plot(y(x, w, n), label = 'y')\n",
    "        ax.plot(y(x, w, n) + net_out(W)*x**5, label = 'add_EC')\n",
    "        # ax.plot(y(x, w, n) - anal(x,lamb), label = 'error')\n",
    "        ax.tick_params(labelsize=10)\n",
    "        ax.legend(fontsize=20)\n",
    "        ax.grid()\n",
    "\n",
    "    return w, W"
   ]
  },
  {
   "cell_type": "markdown",
   "metadata": {},
   "source": [
    "Train"
   ]
  },
  {
   "cell_type": "code",
   "execution_count": 30,
   "metadata": {},
   "outputs": [
    {
     "ename": "KeyboardInterrupt",
     "evalue": "",
     "output_type": "error",
     "traceback": [
      "\u001b[1;31m---------------------------------------------------------------------------\u001b[0m",
      "\u001b[1;31mKeyboardInterrupt\u001b[0m                         Traceback (most recent call last)",
      "\u001b[1;32mc:\\Users\\kyungryeol\\github\\ODE\\ODE\\expansion220926_add_EC_compare.ipynb 셀 15\u001b[0m in \u001b[0;36m<cell line: 1>\u001b[1;34m()\u001b[0m\n\u001b[1;32m----> <a href='vscode-notebook-cell:/c%3A/Users/kyungryeol/github/ODE/ODE/expansion220926_add_EC_compare.ipynb#X60sZmlsZQ%3D%3D?line=0'>1</a>\u001b[0m w5_train \u001b[39m=\u001b[39m ODE_train(n \u001b[39m=\u001b[39;49m \u001b[39m5\u001b[39;49m)\n",
      "\u001b[1;32mc:\\Users\\kyungryeol\\github\\ODE\\ODE\\expansion220926_add_EC_compare.ipynb 셀 15\u001b[0m in \u001b[0;36mODE_train\u001b[1;34m(n, target_loss, learning_rate, show_w_trace, show_loss_trace, show_error, show_compare_analysis)\u001b[0m\n\u001b[0;32m     <a href='vscode-notebook-cell:/c%3A/Users/kyungryeol/github/ODE/ODE/expansion220926_add_EC_compare.ipynb#X60sZmlsZQ%3D%3D?line=23'>24</a>\u001b[0m \u001b[39mfor\u001b[39;00m x_unit \u001b[39min\u001b[39;00m x:\n\u001b[0;32m     <a href='vscode-notebook-cell:/c%3A/Users/kyungryeol/github/ODE/ODE/expansion220926_add_EC_compare.ipynb#X60sZmlsZQ%3D%3D?line=24'>25</a>\u001b[0m     \u001b[39mwith\u001b[39;00m tf\u001b[39m.\u001b[39mGradientTape() \u001b[39mas\u001b[39;00m tape:\n\u001b[0;32m     <a href='vscode-notebook-cell:/c%3A/Users/kyungryeol/github/ODE/ODE/expansion220926_add_EC_compare.ipynb#X60sZmlsZQ%3D%3D?line=25'>26</a>\u001b[0m         \u001b[39m# 예측 값\u001b[39;00m\n\u001b[1;32m---> <a href='vscode-notebook-cell:/c%3A/Users/kyungryeol/github/ODE/ODE/expansion220926_add_EC_compare.ipynb#X60sZmlsZQ%3D%3D?line=26'>27</a>\u001b[0m         predict \u001b[39m=\u001b[39m f(y(x_unit, w, n), lamb)\n\u001b[0;32m     <a href='vscode-notebook-cell:/c%3A/Users/kyungryeol/github/ODE/ODE/expansion220926_add_EC_compare.ipynb#X60sZmlsZQ%3D%3D?line=27'>28</a>\u001b[0m         \u001b[39m# y' = f(y, t)\u001b[39;00m\n\u001b[0;32m     <a href='vscode-notebook-cell:/c%3A/Users/kyungryeol/github/ODE/ODE/expansion220926_add_EC_compare.ipynb#X60sZmlsZQ%3D%3D?line=28'>29</a>\u001b[0m         loss \u001b[39m=\u001b[39m tf\u001b[39m.\u001b[39mmath\u001b[39m.\u001b[39msqrt(tf\u001b[39m.\u001b[39msquare(predict \u001b[39m-\u001b[39m yprime(x_unit, w, n)))\n",
      "\u001b[1;32mc:\\Users\\kyungryeol\\github\\ODE\\ODE\\expansion220926_add_EC_compare.ipynb 셀 15\u001b[0m in \u001b[0;36my\u001b[1;34m(x, w, n)\u001b[0m\n\u001b[0;32m      <a href='vscode-notebook-cell:/c%3A/Users/kyungryeol/github/ODE/ODE/expansion220926_add_EC_compare.ipynb#X60sZmlsZQ%3D%3D?line=6'>7</a>\u001b[0m y \u001b[39m=\u001b[39m \u001b[39m1\u001b[39m         \u001b[39m# y = 1 + w1*(x) + w2*(x**2) + w3*(x**3) + w4*(x**4)\u001b[39;00m\n\u001b[0;32m      <a href='vscode-notebook-cell:/c%3A/Users/kyungryeol/github/ODE/ODE/expansion220926_add_EC_compare.ipynb#X60sZmlsZQ%3D%3D?line=7'>8</a>\u001b[0m \u001b[39mfor\u001b[39;00m i \u001b[39min\u001b[39;00m \u001b[39mrange\u001b[39m(\u001b[39m1\u001b[39m, n\u001b[39m+\u001b[39m\u001b[39m1\u001b[39m):\n\u001b[1;32m----> <a href='vscode-notebook-cell:/c%3A/Users/kyungryeol/github/ODE/ODE/expansion220926_add_EC_compare.ipynb#X60sZmlsZQ%3D%3D?line=8'>9</a>\u001b[0m     y \u001b[39m+\u001b[39m\u001b[39m=\u001b[39m w[i\u001b[39m-\u001b[39;49m\u001b[39m1\u001b[39;49m]\u001b[39m*\u001b[39m(x\u001b[39m*\u001b[39m\u001b[39m*\u001b[39mi)\n\u001b[0;32m     <a href='vscode-notebook-cell:/c%3A/Users/kyungryeol/github/ODE/ODE/expansion220926_add_EC_compare.ipynb#X60sZmlsZQ%3D%3D?line=10'>11</a>\u001b[0m \u001b[39mreturn\u001b[39;00m y\n",
      "File \u001b[1;32mc:\\Users\\kyungryeol\\Anaconda3\\envs\\ODE\\lib\\site-packages\\tensorflow\\python\\ops\\array_ops.py:1351\u001b[0m, in \u001b[0;36m_SliceHelperVar\u001b[1;34m(var, slice_spec)\u001b[0m\n\u001b[0;32m   1308\u001b[0m \u001b[39mdef\u001b[39;00m \u001b[39m_SliceHelperVar\u001b[39m(var, slice_spec):\n\u001b[0;32m   1309\u001b[0m   \u001b[39m\"\"\"Creates a slice helper object given a variable.\u001b[39;00m\n\u001b[0;32m   1310\u001b[0m \n\u001b[0;32m   1311\u001b[0m \u001b[39m  This allows creating a sub-tensor from part of the current contents\u001b[39;00m\n\u001b[1;32m   (...)\u001b[0m\n\u001b[0;32m   1348\u001b[0m \n\u001b[0;32m   1349\u001b[0m \u001b[39m  \"\"\"\u001b[39;00m\n\u001b[1;32m-> 1351\u001b[0m   \u001b[39mreturn\u001b[39;00m _slice_helper(var\u001b[39m.\u001b[39;49mvalue(), slice_spec, var)\n",
      "File \u001b[1;32mc:\\Users\\kyungryeol\\Anaconda3\\envs\\ODE\\lib\\site-packages\\tensorflow\\python\\ops\\resource_variable_ops.py:582\u001b[0m, in \u001b[0;36mBaseResourceVariable.value\u001b[1;34m(self)\u001b[0m\n\u001b[0;32m    580\u001b[0m   \u001b[39mreturn\u001b[39;00m \u001b[39mself\u001b[39m\u001b[39m.\u001b[39m_cached_value\n\u001b[0;32m    581\u001b[0m \u001b[39mwith\u001b[39;00m ops\u001b[39m.\u001b[39mcolocate_with(\u001b[39mNone\u001b[39;00m, ignore_existing\u001b[39m=\u001b[39m\u001b[39mTrue\u001b[39;00m):\n\u001b[1;32m--> 582\u001b[0m   \u001b[39mreturn\u001b[39;00m \u001b[39mself\u001b[39;49m\u001b[39m.\u001b[39;49m_read_variable_op()\n",
      "File \u001b[1;32mc:\\Users\\kyungryeol\\Anaconda3\\envs\\ODE\\lib\\site-packages\\tensorflow\\python\\ops\\resource_variable_ops.py:691\u001b[0m, in \u001b[0;36mBaseResourceVariable._read_variable_op\u001b[1;34m(self)\u001b[0m\n\u001b[0;32m    689\u001b[0m       result \u001b[39m=\u001b[39m read_and_set_handle()\n\u001b[0;32m    690\u001b[0m \u001b[39melse\u001b[39;00m:\n\u001b[1;32m--> 691\u001b[0m   result \u001b[39m=\u001b[39m read_and_set_handle()\n\u001b[0;32m    693\u001b[0m \u001b[39mif\u001b[39;00m \u001b[39mnot\u001b[39;00m context\u001b[39m.\u001b[39mexecuting_eagerly():\n\u001b[0;32m    694\u001b[0m   \u001b[39m# Note that if a control flow context is active the input of the read op\u001b[39;00m\n\u001b[0;32m    695\u001b[0m   \u001b[39m# might not actually be the handle. This line bypasses it.\u001b[39;00m\n\u001b[0;32m    696\u001b[0m   tape\u001b[39m.\u001b[39mrecord_operation(\n\u001b[0;32m    697\u001b[0m       \u001b[39m\"\u001b[39m\u001b[39mReadVariableOp\u001b[39m\u001b[39m\"\u001b[39m, [result], [\u001b[39mself\u001b[39m\u001b[39m.\u001b[39mhandle],\n\u001b[0;32m    698\u001b[0m       backward_function\u001b[39m=\u001b[39m\u001b[39mlambda\u001b[39;00m x: [x],\n\u001b[0;32m    699\u001b[0m       forward_function\u001b[39m=\u001b[39m\u001b[39mlambda\u001b[39;00m x: [x])\n",
      "File \u001b[1;32mc:\\Users\\kyungryeol\\Anaconda3\\envs\\ODE\\lib\\site-packages\\tensorflow\\python\\ops\\resource_variable_ops.py:681\u001b[0m, in \u001b[0;36mBaseResourceVariable._read_variable_op.<locals>.read_and_set_handle\u001b[1;34m()\u001b[0m\n\u001b[0;32m    680\u001b[0m \u001b[39mdef\u001b[39;00m \u001b[39mread_and_set_handle\u001b[39m():\n\u001b[1;32m--> 681\u001b[0m   result \u001b[39m=\u001b[39m gen_resource_variable_ops\u001b[39m.\u001b[39;49mread_variable_op(\n\u001b[0;32m    682\u001b[0m       \u001b[39mself\u001b[39;49m\u001b[39m.\u001b[39;49mhandle, \u001b[39mself\u001b[39;49m\u001b[39m.\u001b[39;49m_dtype)\n\u001b[0;32m    683\u001b[0m   _maybe_set_handle_data(\u001b[39mself\u001b[39m\u001b[39m.\u001b[39m_dtype, \u001b[39mself\u001b[39m\u001b[39m.\u001b[39mhandle, result)\n\u001b[0;32m    684\u001b[0m   \u001b[39mreturn\u001b[39;00m result\n",
      "File \u001b[1;32mc:\\Users\\kyungryeol\\Anaconda3\\envs\\ODE\\lib\\site-packages\\tensorflow\\python\\ops\\gen_resource_variable_ops.py:478\u001b[0m, in \u001b[0;36mread_variable_op\u001b[1;34m(resource, dtype, name)\u001b[0m\n\u001b[0;32m    476\u001b[0m \u001b[39mif\u001b[39;00m tld\u001b[39m.\u001b[39mis_eager:\n\u001b[0;32m    477\u001b[0m   \u001b[39mtry\u001b[39;00m:\n\u001b[1;32m--> 478\u001b[0m     _result \u001b[39m=\u001b[39m pywrap_tfe\u001b[39m.\u001b[39;49mTFE_Py_FastPathExecute(\n\u001b[0;32m    479\u001b[0m       _ctx, \u001b[39m\"\u001b[39;49m\u001b[39mReadVariableOp\u001b[39;49m\u001b[39m\"\u001b[39;49m, name, resource, \u001b[39m\"\u001b[39;49m\u001b[39mdtype\u001b[39;49m\u001b[39m\"\u001b[39;49m, dtype)\n\u001b[0;32m    480\u001b[0m     \u001b[39mreturn\u001b[39;00m _result\n\u001b[0;32m    481\u001b[0m   \u001b[39mexcept\u001b[39;00m _core\u001b[39m.\u001b[39m_NotOkStatusException \u001b[39mas\u001b[39;00m e:\n",
      "\u001b[1;31mKeyboardInterrupt\u001b[0m: "
     ]
    }
   ],
   "source": [
    "w5_train = ODE_train(n = 5)"
   ]
  },
  {
   "cell_type": "code",
   "execution_count": null,
   "metadata": {},
   "outputs": [
    {
     "name": "stdout",
     "output_type": "stream",
     "text": [
      "140 tf.Tensor([[9.79337e-05]], shape=(1, 1), dtype=float32)\n"
     ]
    },
    {
     "data": {
      "image/png": "[encoded data removed]",
      "text/plain": [
       "<Figure size 432x432 with 1 Axes>"
      ]
     },
     "metadata": {
      "needs_background": "light"
     },
     "output_type": "display_data"
    }
   ],
   "source": [
    "w4_EC_train = ODE_EC_train(n = 4, EC_n = 10)"
   ]
  },
  {
   "cell_type": "markdown",
   "metadata": {},
   "source": [
    "Compare"
   ]
  },
  {
   "cell_type": "code",
   "execution_count": null,
   "metadata": {},
   "outputs": [],
   "source": [
    "# w5_train, w4_EC_train compare\n",
    "\n",
    "fig, ax = plt.subplots(figsize=(7, 7))\n",
    "ax.set_title('Analysis & f(lambda*y) & Error')\n",
    "ax.set_xlabel('x')\n",
    "ax.set_ylabel('y')\n",
    "ax.plot(anal(x,lamb), label = 'analysis')\n",
    "ax.plot(y(x, w5_train, n = 5), label = 'y')\n",
    "ax.plot(y(x, w4_EC_train[0], n = 4) + net_out(w4_EC_train[1])*x**5, label = 'add_EC')\n",
    "# ax.plot(y(x, w, n) - anal(x,lamb), label = 'error')\n",
    "ax.tick_params(labelsize=10)\n",
    "ax.legend(fontsize=20)\n",
    "ax.grid()"
   ]
  },
  {
   "cell_type": "code",
   "execution_count": null,
   "metadata": {},
   "outputs": [],
   "source": [
    "# 2022.07.20\n",
    "# 에러 그래프 부분 보강\n",
    "# epoch 늘려서 학습 결과 찾기\n",
    "# w 값 \n",
    "# w1 = lambda와 비슷하게 -2\n",
    "# w2 = 2\n",
    "# w3 = -1\n",
    "# w4 = 0.5\n",
    "# layer 구조 확인\n",
    "\n",
    "# 2022.08.03\n",
    "# 모델 부분 input -> layer -> layer -> output\n",
    "# layer 추가 할 수 있게 만들어 놓기\n",
    "\n",
    "# 2022.08.23\n",
    "# x 범위 증가 대신 개수 증가로 0 ~ 1 사이\n",
    "# 코드 공유\n",
    "# Error 파트 layer 추가\n",
    "# Solution + Error\n",
    "##  추가 학습 필요 내용 ## \n",
    "# Error에 따른 weight 업데이트 과정 수식 확인\n",
    "# 비지도 학습 진행과정\n"
   ]
  }
 ],
 "metadata": {
  "kernelspec": {
   "display_name": "Python 3.10.4 ('ODE')",
   "language": "python",
   "name": "python3"
  },
  "language_info": {
   "codemirror_mode": {
    "name": "ipython",
    "version": 3
   },
   "file_extension": ".py",
   "mimetype": "text/x-python",
   "name": "python",
   "nbconvert_exporter": "python",
   "pygments_lexer": "ipython3",
   "version": "3.10.4"
  },
  "vscode": {
   "interpreter": {
    "hash": "a37a875133dc80c33f2ec96aea7a9fa5375ebe8d8c5e67883faafd638e38fe9a"
   }
  }
 },
 "nbformat": 4,
 "nbformat_minor": 2
}
