{
 "cells": [
  {
   "cell_type": "markdown",
   "metadata": {},
   "source": [
    "2022-09-15\n",
    "\n",
    "1. EC를 추가\n",
    "\n",
    "y = 1 + w1*(x) + w2*(x**2) + w3*(x**3) + w4*(x**4) + EC*(x**5)\n",
    "\n",
    "2. 두가지 경우 비교\n",
    "\n",
    "y = 1 + w1*(x) + w2*(x**2) + w3*(x**3) + w4*(x**4) + w5*(x**5)\n",
    "\n",
    "y = 1 + w1*(x) + w2*(x**2) + w3*(x**3) + w4*(x**4) + EC*(x**5)\n",
    "\n",
    "y = 1 + w1*(x) + w2*(x**2) + w3*(x**3) + w4*(x**4) + sigmoid* w *(x**5)"
   ]
  },
  {
   "cell_type": "markdown",
   "metadata": {},
   "source": [
    "2022-09-20\n",
    "\n",
    "loss =\n",
    "\n",
    "[f(1 + w1*(x) + w2*(x**2) + w3*(x**3) + w4*(x**4)) - {w1 + 2*w2 + 3*w3*(x**2) + 4*w4*(x**3)}\n",
    " + f(EC)*(x**5) - {5*f(EC)*(x**4) + d_EC*(x**5)}]**2\n",
    "\n",
    " [f(1 + w1*(x) + w2*(x**2) + w3*(x**3) + w4*(x**4)) - {w1 + 2*w2 + 3*w3*(x**2) + 4*w4*(x**3)}]**2\n",
    " + [f(EC)*(x**5) - {5*f(EC)*(x**4) + d_EC*(x**5)}]**2"
   ]
  },
  {
   "cell_type": "markdown",
   "metadata": {},
   "source": [
    "2022-09-29\n",
    "\n",
    "Work 1\n",
    "\n",
    "1 : ODE 4차 오차 감소율 없을때 출력\n",
    "\n",
    "2 : ODE 5차 오차 감소율 없을때 출력\n",
    "\n",
    "3 : ODE 4차 + EC Case1 w 계수들 exact 계수들과 일치하는 경우에 대해서 비교"
   ]
  },
  {
   "cell_type": "markdown",
   "metadata": {},
   "source": [
    "2022-10-10\n",
    "\n",
    "Exam 1\n",
    "\n",
    "exp(-x)\n",
    "\n",
    "Error, exact(4차, 5차), train(4차, 5차, 4차+EC Case1, Case2)"
   ]
  },
  {
   "cell_type": "markdown",
   "metadata": {},
   "source": [
    "2022-10-12\n",
    "\n",
    "EC 각 데이터별 학습\n",
    "\n",
    "내적 부분 변경\n",
    "\n",
    "데이터에 따라서 다른 값."
   ]
  },
  {
   "cell_type": "markdown",
   "metadata": {},
   "source": [
    "2022-10-16\n",
    "\n",
    "NN + NN*x**2"
   ]
  },
  {
   "cell_type": "markdown",
   "metadata": {},
   "source": [
    "2022-10-23\n",
    "\n",
    "1_NN + 1_NN\n",
    "\n",
    "2_NN + 1_NN\n",
    "\n",
    "3_NN + 1_NN"
   ]
  },
  {
   "cell_type": "markdown",
   "metadata": {},
   "source": [
    "2022-10-24\n",
    "\n",
    "코드 전체 다시 훑어 보기, 수정\n",
    "\n",
    "tensorflow2 함정\n",
    "\n",
    "range -> tf.range 사용하면 속도 빨라짐\n",
    "\n",
    "tensor로 계산되다 numpy 사용시 gradient 추척 못 할 수 있음\n",
    "\n",
    "tf.watch(변수)로 추적 해야 할 수 있음\n",
    "```\n",
    "ex)\n",
    "with tf.GradientTape(watch_accessed_variables=False) as tape:\n",
    "    tape.watch(input_)\n",
    "    logits_seven = model(input_)[:, 7]\n",
    "grad_for_inp = tape.gradient(logits_seven, input_)\n",
    "\n",
    "print(grad_for_inp)\n",
    "```\n",
    "\n",
    "여러 손실을 총 손실에 추가하는 경우 추적을 못 할 수 있음\n"
   ]
  },
  {
   "cell_type": "markdown",
   "metadata": {},
   "source": [
    "2022-10-26\n",
    "\n",
    "1 + NN(x)*x \n",
    "\n",
    "1 + w*x\n",
    "\n",
    "차이\n",
    "\n",
    "---\n",
    "\n",
    "loss_function2\n",
    "\n",
    "y'(x) = f(x, y)\n",
    "\n",
    "y(x) = p2(x) + z(x)\n",
    "\n",
    "z(x) = y(x) - p2(x) ~~ NN(x)*x := p2^\n",
    "\n",
    "z'(x) = f(x, y) - P2'(x) ~~ NN(x) + d_NN(x)*x\n",
    "\n",
    "Loss Function\n",
    "\n",
    "f(x, p2(x) + NN(x)*x) - p2'(x) - (NN(x) + d_NN(x)*x)"
   ]
  },
  {
   "cell_type": "markdown",
   "metadata": {},
   "source": [
    "2022-10-27\n",
    "\n",
    "코드 정리\n",
    "\n",
    "loss_function 다양한 종류로 실행"
   ]
  },
  {
   "cell_type": "markdown",
   "metadata": {},
   "source": [
    "2022-10-28\n",
    "\n",
    "loss Function2 \n",
    "\n",
    "f(x, p2(x) + NN(x)*x) - p2'(x) - (NN(x) + d_NN(x)*x)\n",
    "\n",
    "결과 좋음\n",
    "\n",
    "loss가 더 적은 결과가 exp와 더 멀어짐.\n",
    "\n",
    "loss 0.8664 일때 exp와 비슷함.\n",
    "\n",
    "근사값을 통해 loss를 구하기에 생기는 일 같다는 생각이 듦.\n",
    "\n",
    "오히려 loss가 0이 될수록 우리가 원하는 결과 값이랑 다를 수 있음.\n",
    "\n",
    "오히려 로컬 미니멈에 빠져야 원하는 결과를 얻을 수 있음.\n",
    "\n",
    "과적합이 문제가 됨\n",
    "\n",
    "random seed 값 알아 놓기\n",
    "\n",
    "ODE_tensor -> data by W train"
   ]
  },
  {
   "cell_type": "markdown",
   "metadata": {},
   "source": [
    "2022-10-31\n",
    "\n",
    "data by data W 문제점\n",
    "\n",
    "y' = f(x, y)를 비슷하게 만족하는 y의 W값이 너무 많음\n",
    "\n",
    "---\n",
    "\n",
    "square, sqrt의 경우 0 or 음수 값이 들어가면 nan으로 값 오류가 생길 수 있음\n",
    "\n",
    "abs를 통해 절대값을 취해줘도 되지 않나."
   ]
  },
  {
   "cell_type": "code",
   "execution_count": 127,
   "metadata": {},
   "outputs": [
    {
     "data": {
      "text/plain": [
       "'\\n    모든 주석은 읽고 필요 없는 부분은 지우셔도 됩니다.\\n'"
      ]
     },
     "execution_count": 127,
     "metadata": {},
     "output_type": "execute_result"
    }
   ],
   "source": [
    "'''\n",
    "    모든 주석은 읽고 필요 없는 부분은 지우셔도 됩니다.\n",
    "'''"
   ]
  },
  {
   "cell_type": "markdown",
   "metadata": {},
   "source": [
    "Module import"
   ]
  },
  {
   "cell_type": "code",
   "execution_count": 1,
   "metadata": {},
   "outputs": [],
   "source": [
    "import tensorflow as tf\n",
    "import numpy as np\n",
    "import matplotlib.pyplot as plt\n",
    "from tensorflow import keras\n",
    "from tensorflow import transpose\n",
    "from tensorflow.math import sigmoid\n",
    "from tensorflow.experimental.numpy import dot"
   ]
  },
  {
   "cell_type": "markdown",
   "metadata": {},
   "source": [
    "Solve the following initial value differential equation $$ y'=\\lambda y,  \\quad  y(0)=y_0$$"
   ]
  },
  {
   "cell_type": "markdown",
   "metadata": {},
   "source": [
    "Fuction Define"
   ]
  },
  {
   "cell_type": "code",
   "execution_count": 56,
   "metadata": {},
   "outputs": [],
   "source": [
    "def psy_analytic(x, lamb = 1):\n",
    "    '''\n",
    "        psy_analytic = np.exp(lamb*x)\n",
    "    '''\n",
    "    return tf.exp(lamb*x)\n",
    "\n",
    "def A(x):\n",
    "    return -1\n",
    "\n",
    "def B(x):\n",
    "    return 0\n",
    "\n",
    "def f(x, psy):\n",
    "    '''\n",
    "        d(psy)/dx = f(x, psy)\n",
    "        y' = B(x) - A(x) * y\n",
    "    '''\n",
    "    return B(x) - A(x)*psy\n",
    "\n",
    "def y(x, w, n = 4, bias = 1.): \n",
    "    '''\n",
    "        y(x) = 1 + w1*(x) + w2*(x**2) + w3*(x**3) + w4*(x**4) + ... + wn*(x**n)\n",
    "    '''\n",
    "    y = bias\n",
    "    for i in range(1, n+1):\n",
    "        y += w[i-1]*x**i\n",
    "    \n",
    "    return y\n",
    "\n",
    "def yprime(x, w, n=4, bias = 0.):\n",
    "    '''\n",
    "        yprime = w1 + 2*w2*x + 3*w3*(x**2) + 4*w4*(x**3) + ... + n*wn*(x**(n-1))\n",
    "    '''\n",
    "    yprime = bias\n",
    "    for i in range(n):\n",
    "        yprime += (i+1)*w[i]*x**i\n",
    "    \n",
    "    return yprime\n",
    "\n",
    "def sigmoid_grad(x):\n",
    "    return sigmoid(x) * (1 - sigmoid(x))\n",
    "\n",
    "def neural_network(W, x):\n",
    "    a1 = sigmoid(dot(x, W[0]))\n",
    "    return dot(a1, W[1])\n",
    "\n",
    "def d_neural_network_dx(W, x, k=1):\n",
    "    return dot(dot(transpose(W[1]), transpose(W[0])**k), sigmoid_grad(x))\n",
    "\n",
    "def loss_function_yhat(w, x, n):\n",
    "    err_sqr = tf.abs(yprime(x, w, n, bias = 0) - f(x, y(x, w, n, bias = 1)))\n",
    "    loss_sum = tf.reduce_sum(err_sqr)\n",
    "    return loss_sum\n",
    "\n",
    "def loss_function(yhat, yhatprime, W, x, n):\n",
    "    # loss_sum = 0.\n",
    "    # for i in tf.range(tf.size(x)):\n",
    "    #     psy_t = yhat[i] + neural_network(W, x[i])*x[i]**(n+1)\n",
    "    #     d_psy_t = yhatprime[i] + (n+1)*neural_network(W, x[i])*x[i]**n + d_neural_network_dx(W, x[i])*x[i]**(n+1)\n",
    "\n",
    "    #     err_sqr = tf.square(d_psy_t - f(x[i], psy_t))\n",
    "    #     loss_sum += tf.reduce_sum(err_sqr)\n",
    "\n",
    "    psy_t = yhat + neural_network(W, x)*x**(n+1)\n",
    "    d_psy_t = yhatprime + (n+1)*neural_network(W, x)*x**n + d_neural_network_dx(W, x)*x**(n+1)\n",
    "\n",
    "    err_sqr = tf.abs(d_psy_t - f(x, psy_t))\n",
    "    loss_sum = tf.reduce_sum(err_sqr)\n",
    "\n",
    "    return loss_sum"
   ]
  },
  {
   "cell_type": "code",
   "execution_count": 39,
   "metadata": {},
   "outputs": [],
   "source": [
    "'''\n",
    "    yhat_w_loss 출력\n",
    "    w 값, low_loss_sum(가장 낮은 지점 loss 합)\n",
    "\n",
    "    yhat 값 생성 방법\n",
    "    yhat_w, yhat_loss = yhat_w_loss(x, 차수)\n",
    "    yhat = y(x, yhat_w, 차수, bias)\n",
    "'''\n",
    "def yhat_w_loss(x, n = 4, target_loss = np.Inf, early_stop = np.Inf, max_train_count = np.Inf):\n",
    "    print('Start yhat')\n",
    "    # 차수, weight 개수\n",
    "    w = tf.Variable(tf.random.normal(shape=(n,), dtype=tf.float32, seed=777), trainable=True) # w = [weight1, weight2, weight3, weight4, ... , weight(n)]\n",
    "\n",
    "    # 원하는 loss 값에 도달할 때 까지 Epoch 횟수 올리기\n",
    "    Epoch = 0\n",
    "\n",
    "    # 옵티마이져 종류 Adam, SDG, RMSprop, Adadelta, Adagrad, Adamax, Nadam, Ftrl 가능\n",
    "    optimizer = keras.optimizers.Adam(learning_rate=1e-3)\n",
    "\n",
    "    # 학습 과정\n",
    "    low_loss = np.inf\n",
    "    low_loss_Epoch = 0\n",
    "    while True:\n",
    "        loss_sum = 0.0\n",
    "        with tf.GradientTape() as tape:\n",
    "            loss_sum = loss_function_yhat(w, x, n)\n",
    "        \n",
    "        # early stop\n",
    "        if target_loss >= loss_sum and low_loss > loss_sum:\n",
    "            low_loss = loss_sum\n",
    "            early_stop_w = w\n",
    "            low_loss_Epoch = Epoch\n",
    "        '''\n",
    "            target_loss : 초기값 inf, 값을 정해 줄 수 있음.\n",
    "            low_loss : 반복중 가장 낮은 loss 값\n",
    "            early_stop : 초기값 inf, low_loss를 구하고 얼마나 반복 하고 멈출 것인지.\n",
    "            조건\n",
    "            1. target_loss 보다 loss_sum이 작아졌는지\n",
    "            2. low_loss 보다 loss_sum이 작아졌는지\n",
    "\n",
    "            조건 1, 2 만족 시 low_loss가 loss_sum으로 변경\n",
    "\n",
    "            3. low_loss가 갱신된 Epoch 부터 지정한 early_stop 값 만큼 반복 후 중단.\n",
    "        '''\n",
    "        if low_loss_Epoch != 0 and low_loss_Epoch + early_stop <= Epoch:\n",
    "            print('early stop')\n",
    "            break\n",
    "\n",
    "        # 학습 중간에 출력\n",
    "        if Epoch % 1000 == 0:\n",
    "            print('Epoch : {}, Loss_sum : {:.4f}, w : {}'.format(Epoch, loss_sum, w.numpy()))\n",
    "\n",
    "        if Epoch == max_train_count:\n",
    "            print('max count')\n",
    "            break\n",
    "        Epoch += 1\n",
    "        \n",
    "        # Gradient 값 저장\n",
    "        gradients = tape.gradient(loss_sum, w)\n",
    "        # Gradient 값 w에 적용\n",
    "        optimizer.apply_gradients(zip([gradients], [w]))\n",
    "\n",
    "    print('low_loss_Epoch : {}, low_Loss_sum : {:.4f}, low_loss_w : {}'.format(low_loss_Epoch, low_loss, early_stop_w))\n",
    "\n",
    "    return early_stop_w, low_loss"
   ]
  },
  {
   "cell_type": "code",
   "execution_count": 57,
   "metadata": {},
   "outputs": [],
   "source": [
    "def EC_W(x, yhat, yhatprime, n = 4, min_loss = -1, target_loss = np.Inf, early_stop = np.Inf, max_train_count = np.Inf):\n",
    "    print('Start add EC')\n",
    "    data_size = tf.size(x)\n",
    "    W = [tf.Variable(tf.random.normal(shape=(1, 10), dtype=tf.float32, seed=777), trainable=True), \n",
    "        tf.Variable(tf.random.normal(shape=(10, 1), dtype=tf.float32, seed=777), trainable=True)] \n",
    "    # 원하는 loss 값에 도달할 때 까지 Epoch 횟수 올리기\n",
    "    Epoch = 0\n",
    "\n",
    "    # 옵티마이져 종류 Adam, SDG, RMSprop, Adadelta, Adagrad, Adamax, Nadam, Ftrl 가능\n",
    "    optimizer = keras.optimizers.Adam(learning_rate=1e-3)\n",
    "\n",
    "    # 학습 과정\n",
    "    low_loss = np.inf\n",
    "    low_loss_Epoch = 0\n",
    "    data_size = tf.size(x)\n",
    "    while True:\n",
    "        with tf.GradientTape() as tape:\n",
    "            t1 = tf.concat([W[0], W[0]], 0)\n",
    "            t2 = tf.concat([W[1], W[1]], 1)\n",
    "            while tf.size(t1) != data_size*10:\n",
    "                t1 = tf.concat([t1, W[0]], 0)\n",
    "                t2 = tf.concat([t2, W[1]], 1)\n",
    "            t_W = [t1, t2]\n",
    "            loss_sum = loss_function(yhat, yhatprime, t_W, x, n)\n",
    "        \n",
    "        # early stop\n",
    "        # min_loss가 loss_sum 보다 작아지면 early stop 들어감\n",
    "        if min_loss > loss_sum:\n",
    "            if target_loss >= loss_sum and low_loss > loss_sum:\n",
    "                low_loss = loss_sum\n",
    "                early_stop_w = W\n",
    "                low_loss_Epoch = Epoch\n",
    "                \n",
    "            if low_loss_Epoch != 0 and low_loss_Epoch + early_stop <= Epoch:\n",
    "                print('early stop')\n",
    "                break\n",
    "\n",
    "        if Epoch % 1000 == 0:\n",
    "            print('Epoch : {}, Loss_sum : {:.4f}'.format(Epoch, loss_sum))\n",
    "\n",
    "        if Epoch == max_train_count:\n",
    "            print('max count')\n",
    "            break\n",
    "        Epoch += 1\n",
    "        \n",
    "        # Gradient 값 저장\n",
    "        gradients = tape.gradient(loss_sum, W)\n",
    "        # Gradient 값 w에 적용\n",
    "        optimizer.apply_gradients(zip([gradients[0], gradients[1]], [W[0], W[1]]))\n",
    "    print('low_loss_Epoch : {}, low_Loss_sum : {:.4f}, low_loss_w : {}'.format(low_loss_Epoch, low_loss, early_stop_w))\n",
    "\n",
    "    return early_stop_w, low_loss"
   ]
  },
  {
   "cell_type": "markdown",
   "metadata": {},
   "source": [
    "1차 + NN\n",
    "\n",
    "1 + w1 * x + NN * x ** 2"
   ]
  },
  {
   "cell_type": "code",
   "execution_count": 64,
   "metadata": {},
   "outputs": [
    {
     "name": "stdout",
     "output_type": "stream",
     "text": [
      "Start yhat\n",
      "Epoch : 0, Loss_sum : 102.1708, w : [-0.0429858]\n",
      "Epoch : 1000, Loss_sum : 51.6712, w : [0.95700544]\n",
      "Epoch : 2000, Loss_sum : 41.2155, w : [1.3592204]\n",
      "early stop\n",
      "low_loss_Epoch : 2983, low_Loss_sum : 41.1267, low_loss_w : <tf.Variable 'Variable:0' shape=(1,) dtype=float32, numpy=array([1.4084826], dtype=float32)>\n"
     ]
    }
   ],
   "source": [
    "# 최대 x 범위 : start <= x < limit, delta로 슬라이싱\n",
    "start, limit, delta = 0, 1, 0.01\n",
    "x = tf.Variable(tf.range(start, limit, delta))\n",
    "\n",
    "# yhat 생성\n",
    "n = 1\n",
    "yhat_w_1, low_loss_1 = yhat_w_loss(x, n, early_stop=1)\n",
    "yhat_1 = y(x, yhat_w_1, n, bias = 1)\n",
    "yhatprime_1 = yprime(x, yhat_w_1, n, bias = 0)"
   ]
  },
  {
   "cell_type": "code",
   "execution_count": 65,
   "metadata": {},
   "outputs": [
    {
     "name": "stdout",
     "output_type": "stream",
     "text": [
      "Start add EC\n",
      "Epoch : 0, Loss_sum : 374.9833\n",
      "Epoch : 1000, Loss_sum : 32.9859\n",
      "early stop\n",
      "low_loss_Epoch : 1305, low_Loss_sum : 12.9239, low_loss_w : [<tf.Variable 'Variable:0' shape=(1, 10) dtype=float32, numpy=\n",
      "array([[ 0.5749722 , -0.32137993, -0.0801656 ,  0.7930182 ,  0.2458978 ,\n",
      "         0.12866943, -0.3191514 ,  0.49441335,  1.0139875 ,  0.40092793]],\n",
      "      dtype=float32)>, <tf.Variable 'Variable:0' shape=(10, 1) dtype=float32, numpy=\n",
      "array([[-0.33731893],\n",
      "       [-0.68073153],\n",
      "       [-0.05685538],\n",
      "       [-0.89942425],\n",
      "       [ 1.0477116 ],\n",
      "       [ 0.505456  ],\n",
      "       [-0.60524076],\n",
      "       [ 0.6824169 ],\n",
      "       [ 0.25087342],\n",
      "       [-0.98268944]], dtype=float32)>]\n"
     ]
    }
   ],
   "source": [
    "# add EC\n",
    "EC_W_1, loss_1 = EC_W(x, yhat_1, yhatprime_1, n, min_loss=low_loss_1, early_stop=1)"
   ]
  },
  {
   "cell_type": "code",
   "execution_count": 66,
   "metadata": {},
   "outputs": [
    {
     "data": {
      "image/png": "[encoded data removed]",
      "text/plain": [
       "<Figure size 1296x360 with 2 Axes>"
      ]
     },
     "metadata": {
      "needs_background": "light"
     },
     "output_type": "display_data"
    }
   ],
   "source": [
    "start, limit, delta = 0, 1, 0.01\n",
    "x = tf.Variable(tf.range(start, limit, delta))\n",
    "\n",
    "data_size = tf.size(x)\n",
    "t1_1 = tf.concat([EC_W_1[0], EC_W_1[0]], 0)\n",
    "t2_1 = tf.concat([EC_W_1[1], EC_W_1[1]], 1)\n",
    "while tf.size(t1_1) != data_size*10:\n",
    "    t1_1 = tf.concat([t1_1, EC_W_1[0]], 0)\n",
    "    t2_1 = tf.concat([t2_1, EC_W_1[1]], 1)\n",
    "t_W_1 = [t1_1, t2_1]\n",
    "\n",
    "# Graph\n",
    "fig = plt.figure(figsize=(18,5))\n",
    "ax = fig.add_subplot(121)\n",
    "ax.plot(yhat_1, label = 'yhat_1')\n",
    "ax.plot(yhat_1 + neural_network(t_W_1, x)*x**(n+1), label = 'y_1')\n",
    "ax.plot(psy_analytic(x,1), label = 'analysis')\n",
    "ax.tick_params(labelsize=10)\n",
    "ax.legend(fontsize=20)\n",
    "ax.grid()\n",
    "# Error\n",
    "ax2 = fig.add_subplot(122)\n",
    "ax2.plot(abs(yhat_1 - psy_analytic(x,1)), label = 'yhat_1')\n",
    "ax2.plot(abs(yhat_1 + neural_network(t_W_1, x)*x**(n+1) - psy_analytic(x,1)), label = 'y_1')\n",
    "ax2.tick_params(labelsize=10)\n",
    "ax2.legend(fontsize=20)\n",
    "ax2.grid()\n"
   ]
  },
  {
   "cell_type": "markdown",
   "metadata": {},
   "source": [
    "2차 + NN\n",
    "\n",
    "1 + w1 * x + w2 * x ** 2 + NN * x ** 3"
   ]
  },
  {
   "cell_type": "code",
   "execution_count": 67,
   "metadata": {},
   "outputs": [
    {
     "name": "stdout",
     "output_type": "stream",
     "text": [
      "Start yhat\n",
      "Epoch : 0, Loss_sum : 35.7649, w : [0.61059606 0.50479794]\n",
      "early stop\n",
      "low_loss_Epoch : 772, low_Loss_sum : 5.1700, low_loss_w : <tf.Variable 'Variable:0' shape=(2,) dtype=float32, numpy=array([0.87516993, 0.81042504], dtype=float32)>\n",
      "Start add EC\n",
      "Epoch : 0, Loss_sum : 796.1962\n",
      "Epoch : 1000, Loss_sum : 35.1979\n",
      "early stop\n",
      "low_loss_Epoch : 1736, low_Loss_sum : 4.2618, low_loss_w : [<tf.Variable 'Variable:0' shape=(1, 10) dtype=float32, numpy=\n",
      "array([[ 0.1077418 ,  0.14268169,  0.310143  , -1.9162576 ,  0.23134801,\n",
      "        -2.2230902 , -1.6544272 , -1.2415099 , -1.1291169 , -0.5332555 ]],\n",
      "      dtype=float32)>, <tf.Variable 'Variable:0' shape=(10, 1) dtype=float32, numpy=\n",
      "array([[-1.2591165 ],\n",
      "       [-0.5071877 ],\n",
      "       [ 0.3951071 ],\n",
      "       [ 0.9421976 ],\n",
      "       [ 1.360308  ],\n",
      "       [-0.33871067],\n",
      "       [-0.3469629 ],\n",
      "       [ 0.27407655],\n",
      "       [-1.0766772 ],\n",
      "       [ 1.1617311 ]], dtype=float32)>]\n"
     ]
    }
   ],
   "source": [
    "# 최대 x 범위 : start <= x < limit, delta로 슬라이싱\n",
    "start, limit, delta = 0, 1, 0.01\n",
    "x = tf.Variable(tf.range(start, limit, delta))\n",
    "\n",
    "# yhat 생성\n",
    "n = 2\n",
    "yhat_w_2, low_loss_2 = yhat_w_loss(x, n, early_stop=1)\n",
    "yhat_2 = y(x, yhat_w_2, n, bias = 1)\n",
    "yhatprime_2 = yprime(x, yhat_w_2, n, bias = 0)\n",
    "\n",
    "# add EC\n",
    "EC_W_2, loss_2 = EC_W(x, yhat_2, yhatprime_2, n, min_loss=low_loss_2, early_stop=1)"
   ]
  },
  {
   "cell_type": "code",
   "execution_count": 68,
   "metadata": {},
   "outputs": [
    {
     "data": {
      "image/png": "[encoded data removed]",
      "text/plain": [
       "<Figure size 1296x360 with 2 Axes>"
      ]
     },
     "metadata": {
      "needs_background": "light"
     },
     "output_type": "display_data"
    }
   ],
   "source": [
    "start, limit, delta = 0, 1, 0.01\n",
    "x = tf.Variable(tf.range(start, limit, delta))\n",
    "\n",
    "data_size = tf.size(x)\n",
    "t1_2 = tf.concat([EC_W_2[0], EC_W_2[0]], 0)\n",
    "t2_2 = tf.concat([EC_W_2[1], EC_W_2[1]], 1)\n",
    "while tf.size(t1_2) != data_size*10:\n",
    "    t1_2 = tf.concat([t1_2, EC_W_2[0]], 0)\n",
    "    t2_2 = tf.concat([t2_2, EC_W_2[1]], 1)\n",
    "t_W_2 = [t1_2, t2_2]\n",
    "\n",
    "# Graph\n",
    "fig = plt.figure(figsize=(18,5))\n",
    "ax = fig.add_subplot(121)\n",
    "ax.plot(yhat_2, label = 'yhat_2')\n",
    "ax.plot(yhat_2 + neural_network(t_W_2, x)*x**(n+1), label = 'y_2')\n",
    "ax.plot(psy_analytic(x,1), label = 'analysis')\n",
    "ax.tick_params(labelsize=10)\n",
    "ax.legend(fontsize=20)\n",
    "ax.grid()\n",
    "# Error\n",
    "ax2 = fig.add_subplot(122)\n",
    "ax2.plot(abs(yhat_2 - psy_analytic(x,1)), label = 'yhat_2')\n",
    "ax2.plot(abs(yhat_2 + neural_network(t_W_2, x)*x**(n+1) - psy_analytic(x,1)), label = 'y_2')\n",
    "ax2.tick_params(labelsize=10)\n",
    "ax2.legend(fontsize=20)\n",
    "ax2.grid()\n"
   ]
  },
  {
   "cell_type": "markdown",
   "metadata": {},
   "source": [
    "3차 + NN\n",
    "\n",
    "1 + w1 * x + w2 * x ** 2 + w3 * x ** 3 + NN * x ** 4"
   ]
  },
  {
   "cell_type": "code",
   "execution_count": 84,
   "metadata": {},
   "outputs": [
    {
     "name": "stdout",
     "output_type": "stream",
     "text": [
      "Start yhat\n",
      "Epoch : 0, Loss_sum : 151.4894, w : [-1.3721801 -1.2307492  2.413287 ]\n",
      "Epoch : 1000, Loss_sum : 84.5464, w : [-0.37624472 -0.3725093   1.3927469 ]\n",
      "Epoch : 2000, Loss_sum : 17.7680, w : [0.619895   0.46085942 0.37443012]\n",
      "early stop\n",
      "low_loss_Epoch : 2757, low_Loss_sum : 0.4345, low_loss_w : <tf.Variable 'Variable:0' shape=(3,) dtype=float32, numpy=array([1.0126836 , 0.4322329 , 0.27292994], dtype=float32)>\n",
      "Start add EC\n",
      "Epoch : 0, Loss_sum : 1080.1799\n",
      "Epoch : 1000, Loss_sum : 67.3343\n",
      "Epoch : 2000, Loss_sum : 41.6790\n",
      "Epoch : 3000, Loss_sum : 3.1078\n",
      "early stop\n",
      "low_loss_Epoch : 3375, low_Loss_sum : 0.3914, low_loss_w : [<tf.Variable 'Variable:0' shape=(1, 10) dtype=float32, numpy=\n",
      "array([[ 0.5777509 ,  0.19649181, -0.2567102 ,  0.16583021,  0.10680132,\n",
      "        -1.082511  , -0.77419543, -0.9102928 ,  1.9027572 , -0.6357068 ]],\n",
      "      dtype=float32)>, <tf.Variable 'Variable:0' shape=(10, 1) dtype=float32, numpy=\n",
      "array([[ 0.40898567],\n",
      "       [-0.78317946],\n",
      "       [-0.96815395],\n",
      "       [ 0.3927404 ],\n",
      "       [-1.0988705 ],\n",
      "       [ 1.8084723 ],\n",
      "       [ 2.3173554 ],\n",
      "       [-1.1138545 ],\n",
      "       [ 1.0706983 ],\n",
      "       [-0.6654086 ]], dtype=float32)>]\n"
     ]
    }
   ],
   "source": [
    "# 최대 x 범위 : start <= x < limit, delta로 슬라이싱\n",
    "start, limit, delta = 0, 1, 0.01\n",
    "x = tf.Variable(tf.range(start, limit, delta))\n",
    "\n",
    "# yhat 생성\n",
    "n = 3\n",
    "yhat_w_3, low_loss_3 = yhat_w_loss(x, n, early_stop=1)\n",
    "yhat_3 = y(x, yhat_w_3, n, bias = 1)\n",
    "yhatprime_3 = yprime(x, yhat_w_3, n, bias = 0)\n",
    "\n",
    "# add EC\n",
    "EC_W_3, loss_3 = EC_W(x, yhat_3, yhatprime_3, n, min_loss=low_loss_3, early_stop=1)"
   ]
  },
  {
   "cell_type": "code",
   "execution_count": 85,
   "metadata": {},
   "outputs": [
    {
     "data": {
      "image/png": "[encoded data removed]",
      "text/plain": [
       "<Figure size 1296x360 with 2 Axes>"
      ]
     },
     "metadata": {
      "needs_background": "light"
     },
     "output_type": "display_data"
    }
   ],
   "source": [
    "start, limit, delta = 0, 1, 0.01\n",
    "x = tf.Variable(tf.range(start, limit, delta))\n",
    "\n",
    "data_size = tf.size(x)\n",
    "t1_3 = tf.concat([EC_W_3[0], EC_W_3[0]], 0)\n",
    "t2_3 = tf.concat([EC_W_3[1], EC_W_3[1]], 1)\n",
    "while tf.size(t1_3) != data_size*10:\n",
    "    t1_3 = tf.concat([t1_3, EC_W_3[0]], 0)\n",
    "    t2_3 = tf.concat([t2_3, EC_W_3[1]], 1)\n",
    "t_W_3 = [t1_3, t2_3]\n",
    "\n",
    "# Graph\n",
    "fig = plt.figure(figsize=(18,5))\n",
    "ax = fig.add_subplot(121)\n",
    "ax.plot(yhat_3, label = 'yhat_3')\n",
    "ax.plot(yhat_3 + neural_network(t_W_3, x)*x**(n+1), label = 'y_3')\n",
    "ax.plot(psy_analytic(x,1), label = 'analysis')\n",
    "ax.tick_params(labelsize=10)\n",
    "ax.legend(fontsize=20)\n",
    "ax.grid()\n",
    "# Error\n",
    "ax2 = fig.add_subplot(122)\n",
    "ax2.plot(abs(yhat_3 - psy_analytic(x,1)), label = 'yhat_3')\n",
    "ax2.plot(abs(yhat_3 + neural_network(t_W_3, x)*x**(n+1) - psy_analytic(x,1)), label = 'y_3')\n",
    "ax2.tick_params(labelsize=10)\n",
    "ax2.legend(fontsize=20)\n",
    "ax2.grid()\n"
   ]
  },
  {
   "cell_type": "code",
   "execution_count": 115,
   "metadata": {},
   "outputs": [
    {
     "name": "stdout",
     "output_type": "stream",
     "text": [
      "yhat loss : 0.4346, y loss : 0.3950\n"
     ]
    }
   ],
   "source": [
    "'''\n",
    "    yhat loss = yhatprime - f(x, yhat)\n",
    "    \n",
    "    psy = yhat + NN*x**(n+1)\n",
    "    d_psy = yhatprime + (n+1)*NN*x**n + d_NN*x**(n+1)\n",
    "    y loss = d_psy - f(x, psy)\n",
    "'''\n",
    "\n",
    "psy_3 = yhat_3 + neural_network(t_W_3, x)*x**(n+1)\n",
    "d_psy_3 = yhatprime_3 + (n+1)*neural_network(t_W_3, x)*x**n + d_neural_network_dx(t_W_3, x)*x**(n+1)\n",
    "\n",
    "print('yhat loss : {:.4f}, y loss : {:.4f}'.format(tf.reduce_sum(tf.abs(yhat_3 - yhatprime_3)), tf.reduce_sum(tf.abs(d_psy_3 - f(x, psy_3)))))"
   ]
  },
  {
   "cell_type": "code",
   "execution_count": 114,
   "metadata": {},
   "outputs": [
    {
     "name": "stdout",
     "output_type": "stream",
     "text": [
      "yhat error : 0.0443, y error : 0.0751\n"
     ]
    }
   ],
   "source": [
    "'''\n",
    "    psy_analytic = exp(x)\n",
    "    \n",
    "    yhat error = yhat - psy_analytic\n",
    "\n",
    "    psy = yhat + NN*x**(n+1)\n",
    "    y error = psy - psy_analytic\n",
    "'''\n",
    "\n",
    "print('yhat error : {:.4f}, y error : {:.4f}'.format(tf.reduce_sum(tf.abs(yhat_3 - psy_analytic(x, 1))), tf.reduce_sum(tf.abs(psy_3 - psy_analytic(x, 1)))))"
   ]
  },
  {
   "cell_type": "code",
   "execution_count": null,
   "metadata": {},
   "outputs": [],
   "source": []
  }
 ],
 "metadata": {
  "kernelspec": {
   "display_name": "Python 3.10.4 ('ODE')",
   "language": "python",
   "name": "python3"
  },
  "language_info": {
   "codemirror_mode": {
    "name": "ipython",
    "version": 3
   },
   "file_extension": ".py",
   "mimetype": "text/x-python",
   "name": "python",
   "nbconvert_exporter": "python",
   "pygments_lexer": "ipython3",
   "version": "3.10.4"
  },
  "vscode": {
   "interpreter": {
    "hash": "a37a875133dc80c33f2ec96aea7a9fa5375ebe8d8c5e67883faafd638e38fe9a"
   }
  }
 },
 "nbformat": 4,
 "nbformat_minor": 2
}
