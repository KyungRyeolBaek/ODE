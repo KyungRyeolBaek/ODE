{
 "cells": [
  {
   "cell_type": "markdown",
   "metadata": {
    "colab_type": "text",
    "id": "view-in-github"
   },
   "source": [
    "<a href=\"https://colab.research.google.com/github/KyungRyeolBaek/study/blob/main/AI%20study/ODE/ErrorCorr_f(xy)_21_07_25_train.ipynb\" target=\"_parent\"><img src=\"https://colab.research.google.com/assets/colab-badge.svg\" alt=\"Open In Colab\"/></a>"
   ]
  },
  {
   "cell_type": "markdown",
   "metadata": {},
   "source": [
    "# Error Corr"
   ]
  },
  {
   "cell_type": "markdown",
   "metadata": {},
   "source": [
    "f(x, y)\n",
    "\n",
    "anal(x)\n",
    "\n",
    "Error_Corr\n",
    "    sigmoid(x)\n",
    "\n",
    "    sigmoid_grad(x)\n",
    "\n",
    "    neural_network(W, x)\n",
    "\n",
    "    d_neural_network_dx(W, x, k=1)\n",
    "\n",
    "f(x, y)"
   ]
  },
  {
   "cell_type": "markdown",
   "metadata": {},
   "source": [
    "python version 3.10.4\n",
    "\n",
    "tensorflow version 2.9.1"
   ]
  },
  {
   "cell_type": "code",
   "execution_count": 6,
   "metadata": {},
   "outputs": [],
   "source": [
    "import tensorflow as tf\n",
    "import numpy as np"
   ]
  },
  {
   "cell_type": "code",
   "execution_count": 28,
   "metadata": {},
   "outputs": [
    {
     "ename": "NotImplementedError",
     "evalue": "Updating a `Tensor` is not implemented. Received: var=[-0.76617265 -1.0167525   0.42480996  0.4262353 ].",
     "output_type": "error",
     "traceback": [
      "\u001b[1;31m---------------------------------------------------------------------------\u001b[0m",
      "\u001b[1;31mNotImplementedError\u001b[0m                       Traceback (most recent call last)",
      "\u001b[1;32mc:\\Users\\kyungryeol\\github\\ODE\\ODE\\ErrorCorr_f(xy)_22_06_01.ipynb Cell 6'\u001b[0m in \u001b[0;36m<cell line: 42>\u001b[1;34m()\u001b[0m\n\u001b[0;32m     <a href='vscode-notebook-cell:/c%3A/Users/kyungryeol/github/ODE/ODE/ErrorCorr_f%28xy%29_22_06_01.ipynb#ch0000016?line=39'>40</a>\u001b[0m cost \u001b[39m=\u001b[39m \u001b[39mlambda\u001b[39;00m : tf\u001b[39m.\u001b[39mreduce_mean(tf\u001b[39m.\u001b[39msquare(yprime(x, w, n \u001b[39m=\u001b[39m \u001b[39m4\u001b[39m) \u001b[39m-\u001b[39m y(x, w, n \u001b[39m=\u001b[39m \u001b[39m4\u001b[39m)))\n\u001b[0;32m     <a href='vscode-notebook-cell:/c%3A/Users/kyungryeol/github/ODE/ODE/ErrorCorr_f%28xy%29_22_06_01.ipynb#ch0000016?line=40'>41</a>\u001b[0m optimizer \u001b[39m=\u001b[39m tf\u001b[39m.\u001b[39moptimizers\u001b[39m.\u001b[39mSGD(learning_rate \u001b[39m=\u001b[39m \u001b[39m1e-2\u001b[39m)\n\u001b[1;32m---> <a href='vscode-notebook-cell:/c%3A/Users/kyungryeol/github/ODE/ODE/ErrorCorr_f%28xy%29_22_06_01.ipynb#ch0000016?line=41'>42</a>\u001b[0m train \u001b[39m=\u001b[39m optimizer\u001b[39m.\u001b[39;49mminimize(cost, var_list\u001b[39m=\u001b[39;49mw)\n",
      "File \u001b[1;32mc:\\Users\\kyungryeol\\Anaconda3\\envs\\ODE\\lib\\site-packages\\keras\\optimizers\\optimizer_v2\\optimizer_v2.py:539\u001b[0m, in \u001b[0;36mOptimizerV2.minimize\u001b[1;34m(self, loss, var_list, grad_loss, name, tape)\u001b[0m\n\u001b[0;32m    <a href='file:///c%3A/Users/kyungryeol/Anaconda3/envs/ODE/lib/site-packages/keras/optimizers/optimizer_v2/optimizer_v2.py?line=506'>507</a>\u001b[0m \u001b[39m\"\"\"Minimize `loss` by updating `var_list`.\u001b[39;00m\n\u001b[0;32m    <a href='file:///c%3A/Users/kyungryeol/Anaconda3/envs/ODE/lib/site-packages/keras/optimizers/optimizer_v2/optimizer_v2.py?line=507'>508</a>\u001b[0m \n\u001b[0;32m    <a href='file:///c%3A/Users/kyungryeol/Anaconda3/envs/ODE/lib/site-packages/keras/optimizers/optimizer_v2/optimizer_v2.py?line=508'>509</a>\u001b[0m \u001b[39mThis method simply computes gradient using `tf.GradientTape` and calls\u001b[39;00m\n\u001b[1;32m   (...)\u001b[0m\n\u001b[0;32m    <a href='file:///c%3A/Users/kyungryeol/Anaconda3/envs/ODE/lib/site-packages/keras/optimizers/optimizer_v2/optimizer_v2.py?line=534'>535</a>\u001b[0m \n\u001b[0;32m    <a href='file:///c%3A/Users/kyungryeol/Anaconda3/envs/ODE/lib/site-packages/keras/optimizers/optimizer_v2/optimizer_v2.py?line=535'>536</a>\u001b[0m \u001b[39m\"\"\"\u001b[39;00m\n\u001b[0;32m    <a href='file:///c%3A/Users/kyungryeol/Anaconda3/envs/ODE/lib/site-packages/keras/optimizers/optimizer_v2/optimizer_v2.py?line=536'>537</a>\u001b[0m grads_and_vars \u001b[39m=\u001b[39m \u001b[39mself\u001b[39m\u001b[39m.\u001b[39m_compute_gradients(\n\u001b[0;32m    <a href='file:///c%3A/Users/kyungryeol/Anaconda3/envs/ODE/lib/site-packages/keras/optimizers/optimizer_v2/optimizer_v2.py?line=537'>538</a>\u001b[0m     loss, var_list\u001b[39m=\u001b[39mvar_list, grad_loss\u001b[39m=\u001b[39mgrad_loss, tape\u001b[39m=\u001b[39mtape)\n\u001b[1;32m--> <a href='file:///c%3A/Users/kyungryeol/Anaconda3/envs/ODE/lib/site-packages/keras/optimizers/optimizer_v2/optimizer_v2.py?line=538'>539</a>\u001b[0m \u001b[39mreturn\u001b[39;00m \u001b[39mself\u001b[39;49m\u001b[39m.\u001b[39;49mapply_gradients(grads_and_vars, name\u001b[39m=\u001b[39;49mname)\n",
      "File \u001b[1;32mc:\\Users\\kyungryeol\\Anaconda3\\envs\\ODE\\lib\\site-packages\\keras\\optimizers\\optimizer_v2\\optimizer_v2.py:678\u001b[0m, in \u001b[0;36mOptimizerV2.apply_gradients\u001b[1;34m(self, grads_and_vars, name, experimental_aggregate_gradients)\u001b[0m\n\u001b[0;32m    <a href='file:///c%3A/Users/kyungryeol/Anaconda3/envs/ODE/lib/site-packages/keras/optimizers/optimizer_v2/optimizer_v2.py?line=674'>675</a>\u001b[0m   grads_and_vars \u001b[39m=\u001b[39m \u001b[39mself\u001b[39m\u001b[39m.\u001b[39m_aggregate_gradients(grads_and_vars)\n\u001b[0;32m    <a href='file:///c%3A/Users/kyungryeol/Anaconda3/envs/ODE/lib/site-packages/keras/optimizers/optimizer_v2/optimizer_v2.py?line=675'>676</a>\u001b[0m grads_and_vars \u001b[39m=\u001b[39m \u001b[39mself\u001b[39m\u001b[39m.\u001b[39m_transform_gradients(grads_and_vars)\n\u001b[1;32m--> <a href='file:///c%3A/Users/kyungryeol/Anaconda3/envs/ODE/lib/site-packages/keras/optimizers/optimizer_v2/optimizer_v2.py?line=677'>678</a>\u001b[0m \u001b[39mreturn\u001b[39;00m tf\u001b[39m.\u001b[39;49m__internal__\u001b[39m.\u001b[39;49mdistribute\u001b[39m.\u001b[39;49minterim\u001b[39m.\u001b[39;49mmaybe_merge_call(\n\u001b[0;32m    <a href='file:///c%3A/Users/kyungryeol/Anaconda3/envs/ODE/lib/site-packages/keras/optimizers/optimizer_v2/optimizer_v2.py?line=678'>679</a>\u001b[0m     functools\u001b[39m.\u001b[39;49mpartial(\u001b[39mself\u001b[39;49m\u001b[39m.\u001b[39;49m_distributed_apply, apply_state\u001b[39m=\u001b[39;49mapply_state),\n\u001b[0;32m    <a href='file:///c%3A/Users/kyungryeol/Anaconda3/envs/ODE/lib/site-packages/keras/optimizers/optimizer_v2/optimizer_v2.py?line=679'>680</a>\u001b[0m     strategy,\n\u001b[0;32m    <a href='file:///c%3A/Users/kyungryeol/Anaconda3/envs/ODE/lib/site-packages/keras/optimizers/optimizer_v2/optimizer_v2.py?line=680'>681</a>\u001b[0m     grads_and_vars,\n\u001b[0;32m    <a href='file:///c%3A/Users/kyungryeol/Anaconda3/envs/ODE/lib/site-packages/keras/optimizers/optimizer_v2/optimizer_v2.py?line=681'>682</a>\u001b[0m     name\u001b[39m=\u001b[39;49mname)\n",
      "File \u001b[1;32mc:\\Users\\kyungryeol\\Anaconda3\\envs\\ODE\\lib\\site-packages\\tensorflow\\python\\distribute\\merge_call_interim.py:51\u001b[0m, in \u001b[0;36mmaybe_merge_call\u001b[1;34m(fn, strategy, *args, **kwargs)\u001b[0m\n\u001b[0;32m     <a href='file:///c%3A/Users/kyungryeol/Anaconda3/envs/ODE/lib/site-packages/tensorflow/python/distribute/merge_call_interim.py?line=30'>31</a>\u001b[0m \u001b[39m\"\"\"Maybe invoke `fn` via `merge_call` which may or may not be fulfilled.\u001b[39;00m\n\u001b[0;32m     <a href='file:///c%3A/Users/kyungryeol/Anaconda3/envs/ODE/lib/site-packages/tensorflow/python/distribute/merge_call_interim.py?line=31'>32</a>\u001b[0m \n\u001b[0;32m     <a href='file:///c%3A/Users/kyungryeol/Anaconda3/envs/ODE/lib/site-packages/tensorflow/python/distribute/merge_call_interim.py?line=32'>33</a>\u001b[0m \u001b[39mThe caller of this utility function requests to invoke `fn` via `merge_call`\u001b[39;00m\n\u001b[1;32m   (...)\u001b[0m\n\u001b[0;32m     <a href='file:///c%3A/Users/kyungryeol/Anaconda3/envs/ODE/lib/site-packages/tensorflow/python/distribute/merge_call_interim.py?line=47'>48</a>\u001b[0m \u001b[39m  The return value of the `fn` call.\u001b[39;00m\n\u001b[0;32m     <a href='file:///c%3A/Users/kyungryeol/Anaconda3/envs/ODE/lib/site-packages/tensorflow/python/distribute/merge_call_interim.py?line=48'>49</a>\u001b[0m \u001b[39m\"\"\"\u001b[39;00m\n\u001b[0;32m     <a href='file:///c%3A/Users/kyungryeol/Anaconda3/envs/ODE/lib/site-packages/tensorflow/python/distribute/merge_call_interim.py?line=49'>50</a>\u001b[0m \u001b[39mif\u001b[39;00m strategy_supports_no_merge_call():\n\u001b[1;32m---> <a href='file:///c%3A/Users/kyungryeol/Anaconda3/envs/ODE/lib/site-packages/tensorflow/python/distribute/merge_call_interim.py?line=50'>51</a>\u001b[0m   \u001b[39mreturn\u001b[39;00m fn(strategy, \u001b[39m*\u001b[39margs, \u001b[39m*\u001b[39m\u001b[39m*\u001b[39mkwargs)\n\u001b[0;32m     <a href='file:///c%3A/Users/kyungryeol/Anaconda3/envs/ODE/lib/site-packages/tensorflow/python/distribute/merge_call_interim.py?line=51'>52</a>\u001b[0m \u001b[39melse\u001b[39;00m:\n\u001b[0;32m     <a href='file:///c%3A/Users/kyungryeol/Anaconda3/envs/ODE/lib/site-packages/tensorflow/python/distribute/merge_call_interim.py?line=52'>53</a>\u001b[0m   \u001b[39mreturn\u001b[39;00m distribution_strategy_context\u001b[39m.\u001b[39mget_replica_context()\u001b[39m.\u001b[39mmerge_call(\n\u001b[0;32m     <a href='file:///c%3A/Users/kyungryeol/Anaconda3/envs/ODE/lib/site-packages/tensorflow/python/distribute/merge_call_interim.py?line=53'>54</a>\u001b[0m       fn, args\u001b[39m=\u001b[39margs, kwargs\u001b[39m=\u001b[39mkwargs)\n",
      "File \u001b[1;32mc:\\Users\\kyungryeol\\Anaconda3\\envs\\ODE\\lib\\site-packages\\keras\\optimizers\\optimizer_v2\\optimizer_v2.py:723\u001b[0m, in \u001b[0;36mOptimizerV2._distributed_apply\u001b[1;34m(self, distribution, grads_and_vars, apply_state, name)\u001b[0m\n\u001b[0;32m    <a href='file:///c%3A/Users/kyungryeol/Anaconda3/envs/ODE/lib/site-packages/keras/optimizers/optimizer_v2/optimizer_v2.py?line=718'>719</a>\u001b[0m \u001b[39mwith\u001b[39;00m distribution\u001b[39m.\u001b[39mextended\u001b[39m.\u001b[39mcolocate_vars_with(var):\n\u001b[0;32m    <a href='file:///c%3A/Users/kyungryeol/Anaconda3/envs/ODE/lib/site-packages/keras/optimizers/optimizer_v2/optimizer_v2.py?line=719'>720</a>\u001b[0m   \u001b[39mwith\u001b[39;00m name_scope_only_in_function_or_graph(\n\u001b[0;32m    <a href='file:///c%3A/Users/kyungryeol/Anaconda3/envs/ODE/lib/site-packages/keras/optimizers/optimizer_v2/optimizer_v2.py?line=720'>721</a>\u001b[0m       \u001b[39m\"\u001b[39m\u001b[39mupdate\u001b[39m\u001b[39m\"\u001b[39m \u001b[39mif\u001b[39;00m eagerly_outside_functions \u001b[39melse\u001b[39;00m \u001b[39m\"\u001b[39m\u001b[39mupdate_\u001b[39m\u001b[39m\"\u001b[39m \u001b[39m+\u001b[39m\n\u001b[0;32m    <a href='file:///c%3A/Users/kyungryeol/Anaconda3/envs/ODE/lib/site-packages/keras/optimizers/optimizer_v2/optimizer_v2.py?line=721'>722</a>\u001b[0m       var\u001b[39m.\u001b[39mop\u001b[39m.\u001b[39mname):\n\u001b[1;32m--> <a href='file:///c%3A/Users/kyungryeol/Anaconda3/envs/ODE/lib/site-packages/keras/optimizers/optimizer_v2/optimizer_v2.py?line=722'>723</a>\u001b[0m     update_op \u001b[39m=\u001b[39m distribution\u001b[39m.\u001b[39;49mextended\u001b[39m.\u001b[39;49mupdate(\n\u001b[0;32m    <a href='file:///c%3A/Users/kyungryeol/Anaconda3/envs/ODE/lib/site-packages/keras/optimizers/optimizer_v2/optimizer_v2.py?line=723'>724</a>\u001b[0m         var, apply_grad_to_update_var, args\u001b[39m=\u001b[39;49m(grad,), group\u001b[39m=\u001b[39;49m\u001b[39mFalse\u001b[39;49;00m)\n\u001b[0;32m    <a href='file:///c%3A/Users/kyungryeol/Anaconda3/envs/ODE/lib/site-packages/keras/optimizers/optimizer_v2/optimizer_v2.py?line=724'>725</a>\u001b[0m     \u001b[39mif\u001b[39;00m tf\u001b[39m.\u001b[39mdistribute\u001b[39m.\u001b[39min_cross_replica_context():\n\u001b[0;32m    <a href='file:///c%3A/Users/kyungryeol/Anaconda3/envs/ODE/lib/site-packages/keras/optimizers/optimizer_v2/optimizer_v2.py?line=725'>726</a>\u001b[0m       \u001b[39m# In cross-replica context, extended.update returns a list of\u001b[39;00m\n\u001b[0;32m    <a href='file:///c%3A/Users/kyungryeol/Anaconda3/envs/ODE/lib/site-packages/keras/optimizers/optimizer_v2/optimizer_v2.py?line=726'>727</a>\u001b[0m       \u001b[39m# update ops from all replicas (group=False).\u001b[39;00m\n\u001b[0;32m    <a href='file:///c%3A/Users/kyungryeol/Anaconda3/envs/ODE/lib/site-packages/keras/optimizers/optimizer_v2/optimizer_v2.py?line=727'>728</a>\u001b[0m       update_ops\u001b[39m.\u001b[39mextend(update_op)\n",
      "File \u001b[1;32mc:\\Users\\kyungryeol\\Anaconda3\\envs\\ODE\\lib\\site-packages\\tensorflow\\python\\distribute\\distribute_lib.py:2630\u001b[0m, in \u001b[0;36mStrategyExtendedV2.update\u001b[1;34m(self, var, fn, args, kwargs, group)\u001b[0m\n\u001b[0;32m   <a href='file:///c%3A/Users/kyungryeol/Anaconda3/envs/ODE/lib/site-packages/tensorflow/python/distribute/distribute_lib.py?line=2626'>2627</a>\u001b[0m   fn \u001b[39m=\u001b[39m autograph\u001b[39m.\u001b[39mtf_convert(\n\u001b[0;32m   <a href='file:///c%3A/Users/kyungryeol/Anaconda3/envs/ODE/lib/site-packages/tensorflow/python/distribute/distribute_lib.py?line=2627'>2628</a>\u001b[0m       fn, autograph_ctx\u001b[39m.\u001b[39mcontrol_status_ctx(), convert_by_default\u001b[39m=\u001b[39m\u001b[39mFalse\u001b[39;00m)\n\u001b[0;32m   <a href='file:///c%3A/Users/kyungryeol/Anaconda3/envs/ODE/lib/site-packages/tensorflow/python/distribute/distribute_lib.py?line=2628'>2629</a>\u001b[0m   \u001b[39mwith\u001b[39;00m \u001b[39mself\u001b[39m\u001b[39m.\u001b[39m_container_strategy()\u001b[39m.\u001b[39mscope():\n\u001b[1;32m-> <a href='file:///c%3A/Users/kyungryeol/Anaconda3/envs/ODE/lib/site-packages/tensorflow/python/distribute/distribute_lib.py?line=2629'>2630</a>\u001b[0m     \u001b[39mreturn\u001b[39;00m \u001b[39mself\u001b[39;49m\u001b[39m.\u001b[39;49m_update(var, fn, args, kwargs, group)\n\u001b[0;32m   <a href='file:///c%3A/Users/kyungryeol/Anaconda3/envs/ODE/lib/site-packages/tensorflow/python/distribute/distribute_lib.py?line=2630'>2631</a>\u001b[0m \u001b[39melse\u001b[39;00m:\n\u001b[0;32m   <a href='file:///c%3A/Users/kyungryeol/Anaconda3/envs/ODE/lib/site-packages/tensorflow/python/distribute/distribute_lib.py?line=2631'>2632</a>\u001b[0m   \u001b[39mreturn\u001b[39;00m \u001b[39mself\u001b[39m\u001b[39m.\u001b[39m_replica_ctx_update(\n\u001b[0;32m   <a href='file:///c%3A/Users/kyungryeol/Anaconda3/envs/ODE/lib/site-packages/tensorflow/python/distribute/distribute_lib.py?line=2632'>2633</a>\u001b[0m       var, fn, args\u001b[39m=\u001b[39margs, kwargs\u001b[39m=\u001b[39mkwargs, group\u001b[39m=\u001b[39mgroup)\n",
      "File \u001b[1;32mc:\\Users\\kyungryeol\\Anaconda3\\envs\\ODE\\lib\\site-packages\\tensorflow\\python\\distribute\\distribute_lib.py:3703\u001b[0m, in \u001b[0;36m_DefaultDistributionExtended._update\u001b[1;34m(self, var, fn, args, kwargs, group)\u001b[0m\n\u001b[0;32m   <a href='file:///c%3A/Users/kyungryeol/Anaconda3/envs/ODE/lib/site-packages/tensorflow/python/distribute/distribute_lib.py?line=3699'>3700</a>\u001b[0m \u001b[39mdef\u001b[39;00m \u001b[39m_update\u001b[39m(\u001b[39mself\u001b[39m, var, fn, args, kwargs, group):\n\u001b[0;32m   <a href='file:///c%3A/Users/kyungryeol/Anaconda3/envs/ODE/lib/site-packages/tensorflow/python/distribute/distribute_lib.py?line=3700'>3701</a>\u001b[0m   \u001b[39m# The implementations of _update() and _update_non_slot() are identical\u001b[39;00m\n\u001b[0;32m   <a href='file:///c%3A/Users/kyungryeol/Anaconda3/envs/ODE/lib/site-packages/tensorflow/python/distribute/distribute_lib.py?line=3701'>3702</a>\u001b[0m   \u001b[39m# except _update() passes `var` as the first argument to `fn()`.\u001b[39;00m\n\u001b[1;32m-> <a href='file:///c%3A/Users/kyungryeol/Anaconda3/envs/ODE/lib/site-packages/tensorflow/python/distribute/distribute_lib.py?line=3702'>3703</a>\u001b[0m   \u001b[39mreturn\u001b[39;00m \u001b[39mself\u001b[39;49m\u001b[39m.\u001b[39;49m_update_non_slot(var, fn, (var,) \u001b[39m+\u001b[39;49m \u001b[39mtuple\u001b[39;49m(args), kwargs, group)\n",
      "File \u001b[1;32mc:\\Users\\kyungryeol\\Anaconda3\\envs\\ODE\\lib\\site-packages\\tensorflow\\python\\distribute\\distribute_lib.py:3709\u001b[0m, in \u001b[0;36m_DefaultDistributionExtended._update_non_slot\u001b[1;34m(self, colocate_with, fn, args, kwargs, should_group)\u001b[0m\n\u001b[0;32m   <a href='file:///c%3A/Users/kyungryeol/Anaconda3/envs/ODE/lib/site-packages/tensorflow/python/distribute/distribute_lib.py?line=3704'>3705</a>\u001b[0m \u001b[39mdef\u001b[39;00m \u001b[39m_update_non_slot\u001b[39m(\u001b[39mself\u001b[39m, colocate_with, fn, args, kwargs, should_group):\n\u001b[0;32m   <a href='file:///c%3A/Users/kyungryeol/Anaconda3/envs/ODE/lib/site-packages/tensorflow/python/distribute/distribute_lib.py?line=3705'>3706</a>\u001b[0m   \u001b[39m# TODO(josh11b): Figure out what we should be passing to UpdateContext()\u001b[39;00m\n\u001b[0;32m   <a href='file:///c%3A/Users/kyungryeol/Anaconda3/envs/ODE/lib/site-packages/tensorflow/python/distribute/distribute_lib.py?line=3706'>3707</a>\u001b[0m   \u001b[39m# once that value is used for something.\u001b[39;00m\n\u001b[0;32m   <a href='file:///c%3A/Users/kyungryeol/Anaconda3/envs/ODE/lib/site-packages/tensorflow/python/distribute/distribute_lib.py?line=3707'>3708</a>\u001b[0m   \u001b[39mwith\u001b[39;00m UpdateContext(colocate_with):\n\u001b[1;32m-> <a href='file:///c%3A/Users/kyungryeol/Anaconda3/envs/ODE/lib/site-packages/tensorflow/python/distribute/distribute_lib.py?line=3708'>3709</a>\u001b[0m     result \u001b[39m=\u001b[39m fn(\u001b[39m*\u001b[39margs, \u001b[39m*\u001b[39m\u001b[39m*\u001b[39mkwargs)\n\u001b[0;32m   <a href='file:///c%3A/Users/kyungryeol/Anaconda3/envs/ODE/lib/site-packages/tensorflow/python/distribute/distribute_lib.py?line=3709'>3710</a>\u001b[0m     \u001b[39mif\u001b[39;00m should_group:\n\u001b[0;32m   <a href='file:///c%3A/Users/kyungryeol/Anaconda3/envs/ODE/lib/site-packages/tensorflow/python/distribute/distribute_lib.py?line=3710'>3711</a>\u001b[0m       \u001b[39mreturn\u001b[39;00m result\n",
      "File \u001b[1;32mc:\\Users\\kyungryeol\\Anaconda3\\envs\\ODE\\lib\\site-packages\\tensorflow\\python\\autograph\\impl\\api.py:595\u001b[0m, in \u001b[0;36mcall_with_unspecified_conversion_status.<locals>.wrapper\u001b[1;34m(*args, **kwargs)\u001b[0m\n\u001b[0;32m    <a href='file:///c%3A/Users/kyungryeol/Anaconda3/envs/ODE/lib/site-packages/tensorflow/python/autograph/impl/api.py?line=592'>593</a>\u001b[0m \u001b[39mdef\u001b[39;00m \u001b[39mwrapper\u001b[39m(\u001b[39m*\u001b[39margs, \u001b[39m*\u001b[39m\u001b[39m*\u001b[39mkwargs):\n\u001b[0;32m    <a href='file:///c%3A/Users/kyungryeol/Anaconda3/envs/ODE/lib/site-packages/tensorflow/python/autograph/impl/api.py?line=593'>594</a>\u001b[0m   \u001b[39mwith\u001b[39;00m ag_ctx\u001b[39m.\u001b[39mControlStatusCtx(status\u001b[39m=\u001b[39mag_ctx\u001b[39m.\u001b[39mStatus\u001b[39m.\u001b[39mUNSPECIFIED):\n\u001b[1;32m--> <a href='file:///c%3A/Users/kyungryeol/Anaconda3/envs/ODE/lib/site-packages/tensorflow/python/autograph/impl/api.py?line=594'>595</a>\u001b[0m     \u001b[39mreturn\u001b[39;00m func(\u001b[39m*\u001b[39margs, \u001b[39m*\u001b[39m\u001b[39m*\u001b[39mkwargs)\n",
      "File \u001b[1;32mc:\\Users\\kyungryeol\\Anaconda3\\envs\\ODE\\lib\\site-packages\\keras\\optimizers\\optimizer_v2\\optimizer_v2.py:690\u001b[0m, in \u001b[0;36mOptimizerV2._distributed_apply.<locals>.apply_grad_to_update_var\u001b[1;34m(var, grad)\u001b[0m\n\u001b[0;32m    <a href='file:///c%3A/Users/kyungryeol/Anaconda3/envs/ODE/lib/site-packages/keras/optimizers/optimizer_v2/optimizer_v2.py?line=687'>688</a>\u001b[0m \u001b[39m\"\"\"Apply gradient to variable.\"\"\"\u001b[39;00m\n\u001b[0;32m    <a href='file:///c%3A/Users/kyungryeol/Anaconda3/envs/ODE/lib/site-packages/keras/optimizers/optimizer_v2/optimizer_v2.py?line=688'>689</a>\u001b[0m \u001b[39mif\u001b[39;00m \u001b[39misinstance\u001b[39m(var, tf\u001b[39m.\u001b[39mTensor):\n\u001b[1;32m--> <a href='file:///c%3A/Users/kyungryeol/Anaconda3/envs/ODE/lib/site-packages/keras/optimizers/optimizer_v2/optimizer_v2.py?line=689'>690</a>\u001b[0m   \u001b[39mraise\u001b[39;00m \u001b[39mNotImplementedError\u001b[39;00m(\n\u001b[0;32m    <a href='file:///c%3A/Users/kyungryeol/Anaconda3/envs/ODE/lib/site-packages/keras/optimizers/optimizer_v2/optimizer_v2.py?line=690'>691</a>\u001b[0m       \u001b[39mf\u001b[39m\u001b[39m\"\u001b[39m\u001b[39mUpdating a `Tensor` is not implemented. Received: var=\u001b[39m\u001b[39m{\u001b[39;00mvar\u001b[39m}\u001b[39;00m\u001b[39m.\u001b[39m\u001b[39m\"\u001b[39m)\n\u001b[0;32m    <a href='file:///c%3A/Users/kyungryeol/Anaconda3/envs/ODE/lib/site-packages/keras/optimizers/optimizer_v2/optimizer_v2.py?line=692'>693</a>\u001b[0m apply_kwargs \u001b[39m=\u001b[39m {}\n\u001b[0;32m    <a href='file:///c%3A/Users/kyungryeol/Anaconda3/envs/ODE/lib/site-packages/keras/optimizers/optimizer_v2/optimizer_v2.py?line=693'>694</a>\u001b[0m \u001b[39mif\u001b[39;00m \u001b[39misinstance\u001b[39m(grad, tf\u001b[39m.\u001b[39mIndexedSlices):\n",
      "\u001b[1;31mNotImplementedError\u001b[0m: Updating a `Tensor` is not implemented. Received: var=[-0.76617265 -1.0167525   0.42480996  0.4262353 ]."
     ]
    }
   ],
   "source": [
    "# 출력할 x 범위\n",
    "x = tf.Variable(np.array([[i/100] for i in range(0, 100, 1)], dtype = np.float32))\n",
    "\n",
    "# 차수, weight 개수\n",
    "n = 4\n",
    "\n",
    "# w = [weight1, weight2, weight3, weight4]\n",
    "w = tf.random.normal([n], name = 'weights')\n",
    "# for i in range(1, n+1):\n",
    "#     w.append(tf.random.normal([1], name = 'weight{}'.format(i)))\n",
    "\n",
    "# analysis 함수 \n",
    "def anal(x, lamb = 1):\n",
    "    return np.exp(lamb*x)\n",
    "\n",
    "def f(x, y, lamb = 1):\n",
    "    return lamb*x*y\n",
    "\n",
    "# n : w 개수, w : weight\n",
    "def y(x, w, n = 4):\n",
    "    y = 1\n",
    "    \n",
    "    # y = 1 + w1*(x) + w2*(x**2) + w3*(x**3) + w4*(x**4)\n",
    "    for i in range(1, n+1):\n",
    "        y += w[i-1]*(x**i)\n",
    "    \n",
    "    return y\n",
    "\n",
    "def yprime(x, w, n = 4):\n",
    "    yprime = 0\n",
    "\n",
    "    # yprime = w1 + 2*w2*x + 3*w3*(x**2) + 4*w4*(x**3) + 5*w5*(x**4) + 6*w6*(x**5)\n",
    "    for i in range(1, n + 1):\n",
    "      yprime += i*w[i-1]*(x**(i-1))\n",
    "\n",
    "    return yprime\n",
    "# print(tf.reduce_mean(tf.square(yprime(x, w, n = 4) - y(x, w, n = 4))))\n",
    "# print(y(x, w, n=4))\n",
    "# print(yprime(x, w, n=4))\n",
    "cost = lambda : tf.reduce_mean(tf.square(yprime(x, w, n = 4) - y(x, w, n = 4)))\n",
    "optimizer = tf.optimizers.SGD(learning_rate = 1e-2)\n",
    "train = optimizer.minimize(cost, var_list=w)"
   ]
  },
  {
   "cell_type": "code",
   "execution_count": 1,
   "metadata": {},
   "outputs": [],
   "source": [
    "# !pip install google\n",
    "# !pip install protobuf"
   ]
  },
  {
   "cell_type": "markdown",
   "metadata": {},
   "source": [
    "import"
   ]
  },
  {
   "cell_type": "code",
   "execution_count": 2,
   "metadata": {},
   "outputs": [],
   "source": [
    "import autograd.numpy as np\n",
    "from autograd import grad \n",
    "import autograd.numpy.random as npr\n",
    "from autograd.core import primitive\n",
    "from matplotlib import pyplot as plt\n",
    "%matplotlib inline"
   ]
  },
  {
   "cell_type": "markdown",
   "metadata": {},
   "source": [
    "using GPU"
   ]
  },
  {
   "cell_type": "code",
   "execution_count": 3,
   "metadata": {},
   "outputs": [
    {
     "name": "stderr",
     "output_type": "stream",
     "text": [
      "ERROR:root:Internal Python error in the inspect module.\n",
      "Below is the traceback from this internal error.\n",
      "\n"
     ]
    },
    {
     "name": "stdout",
     "output_type": "stream",
     "text": [
      "Traceback (most recent call last):\n",
      "  File \"c:\\Users\\forev\\anaconda3\\lib\\site-packages\\IPython\\core\\interactiveshell.py\", line 3331, in run_code\n",
      "    exec(code_obj, self.user_global_ns, self.user_ns)\n",
      "  File \"<ipython-input-3-7fd9ae13077d>\", line 1, in <module>\n",
      "    import tensorflow.compat.v1 as tf\n",
      "  File \"c:\\Users\\forev\\anaconda3\\lib\\site-packages\\tensorflow\\__init__.py\", line 98, in <module>\n",
      "    from tensorflow_core import *\n",
      "  File \"c:\\Users\\forev\\anaconda3\\lib\\site-packages\\tensorflow_core\\__init__.py\", line 40, in <module>\n",
      "    from tensorflow.python.tools import module_util as _module_util\n",
      "  File \"<frozen importlib._bootstrap>\", line 983, in _find_and_load\n",
      "  File \"<frozen importlib._bootstrap>\", line 959, in _find_and_load_unlocked\n",
      "  File \"c:\\Users\\forev\\anaconda3\\lib\\site-packages\\tensorflow\\__init__.py\", line 50, in __getattr__\n",
      "    module = self._load()\n",
      "  File \"c:\\Users\\forev\\anaconda3\\lib\\site-packages\\tensorflow\\__init__.py\", line 44, in _load\n",
      "    module = _importlib.import_module(self.__name__)\n",
      "  File \"c:\\Users\\forev\\anaconda3\\lib\\importlib\\__init__.py\", line 127, in import_module\n",
      "    return _bootstrap._gcd_import(name[level:], package, level)\n",
      "  File \"c:\\Users\\forev\\anaconda3\\lib\\site-packages\\tensorflow_core\\python\\__init__.py\", line 52, in <module>\n",
      "    from tensorflow.core.framework.graph_pb2 import *\n",
      "  File \"c:\\Users\\forev\\anaconda3\\lib\\site-packages\\tensorflow_core\\core\\framework\\graph_pb2.py\", line 16, in <module>\n",
      "    from tensorflow.core.framework import node_def_pb2 as tensorflow_dot_core_dot_framework_dot_node__def__pb2\n",
      "  File \"c:\\Users\\forev\\anaconda3\\lib\\site-packages\\tensorflow_core\\core\\framework\\node_def_pb2.py\", line 16, in <module>\n",
      "    from tensorflow.core.framework import attr_value_pb2 as tensorflow_dot_core_dot_framework_dot_attr__value__pb2\n",
      "  File \"c:\\Users\\forev\\anaconda3\\lib\\site-packages\\tensorflow_core\\core\\framework\\attr_value_pb2.py\", line 16, in <module>\n",
      "    from tensorflow.core.framework import tensor_pb2 as tensorflow_dot_core_dot_framework_dot_tensor__pb2\n",
      "  File \"c:\\Users\\forev\\anaconda3\\lib\\site-packages\\tensorflow_core\\core\\framework\\tensor_pb2.py\", line 16, in <module>\n",
      "    from tensorflow.core.framework import resource_handle_pb2 as tensorflow_dot_core_dot_framework_dot_resource__handle__pb2\n",
      "  File \"c:\\Users\\forev\\anaconda3\\lib\\site-packages\\tensorflow_core\\core\\framework\\resource_handle_pb2.py\", line 16, in <module>\n",
      "    from tensorflow.core.framework import tensor_shape_pb2 as tensorflow_dot_core_dot_framework_dot_tensor__shape__pb2\n",
      "  File \"c:\\Users\\forev\\anaconda3\\lib\\site-packages\\tensorflow_core\\core\\framework\\tensor_shape_pb2.py\", line 42, in <module>\n",
      "    serialized_options=None, file=DESCRIPTOR),\n",
      "  File \"c:\\Users\\forev\\anaconda3\\lib\\site-packages\\google\\protobuf\\descriptor.py\", line 560, in __new__\n",
      "    _message.Message._CheckCalledFromGeneratedFile()\n",
      "TypeError: Descriptors cannot not be created directly.\n",
      "If this call came from a _pb2.py file, your generated code is out of date and must be regenerated with protoc >= 3.19.0.\n",
      "If you cannot immediately regenerate your protos, some other possible workarounds are:\n",
      " 1. Downgrade the protobuf package to 3.20.x or lower.\n",
      " 2. Set PROTOCOL_BUFFERS_PYTHON_IMPLEMENTATION=python (but this will use pure-Python parsing and will be much slower).\n",
      "\n",
      "More information: https://developers.google.com/protocol-buffers/docs/news/2022-05-06#python-updates\n",
      "\n",
      "During handling of the above exception, another exception occurred:\n",
      "\n",
      "Traceback (most recent call last):\n",
      "  File \"c:\\Users\\forev\\anaconda3\\lib\\site-packages\\IPython\\core\\interactiveshell.py\", line 2044, in showtraceback\n",
      "    stb = value._render_traceback_()\n",
      "AttributeError: 'TypeError' object has no attribute '_render_traceback_'\n",
      "\n",
      "During handling of the above exception, another exception occurred:\n",
      "\n",
      "Traceback (most recent call last):\n",
      "  File \"c:\\Users\\forev\\anaconda3\\lib\\site-packages\\IPython\\core\\ultratb.py\", line 1151, in get_records\n",
      "    return _fixed_getinnerframes(etb, number_of_lines_of_context, tb_offset)\n",
      "  File \"c:\\Users\\forev\\anaconda3\\lib\\site-packages\\IPython\\core\\ultratb.py\", line 319, in wrapped\n",
      "    return f(*args, **kwargs)\n",
      "  File \"c:\\Users\\forev\\anaconda3\\lib\\site-packages\\IPython\\core\\ultratb.py\", line 353, in _fixed_getinnerframes\n",
      "    records = fix_frame_records_filenames(inspect.getinnerframes(etb, context))\n",
      "  File \"c:\\Users\\forev\\anaconda3\\lib\\inspect.py\", line 1502, in getinnerframes\n",
      "    frameinfo = (tb.tb_frame,) + getframeinfo(tb, context)\n",
      "  File \"c:\\Users\\forev\\anaconda3\\lib\\inspect.py\", line 1460, in getframeinfo\n",
      "    filename = getsourcefile(frame) or getfile(frame)\n",
      "  File \"c:\\Users\\forev\\anaconda3\\lib\\inspect.py\", line 696, in getsourcefile\n",
      "    if getattr(getmodule(object, filename), '__loader__', None) is not None:\n",
      "  File \"c:\\Users\\forev\\anaconda3\\lib\\inspect.py\", line 733, in getmodule\n",
      "    if ismodule(module) and hasattr(module, '__file__'):\n",
      "  File \"c:\\Users\\forev\\anaconda3\\lib\\site-packages\\tensorflow\\__init__.py\", line 50, in __getattr__\n",
      "    module = self._load()\n",
      "  File \"c:\\Users\\forev\\anaconda3\\lib\\site-packages\\tensorflow\\__init__.py\", line 44, in _load\n",
      "    module = _importlib.import_module(self.__name__)\n",
      "  File \"c:\\Users\\forev\\anaconda3\\lib\\importlib\\__init__.py\", line 127, in import_module\n",
      "    return _bootstrap._gcd_import(name[level:], package, level)\n",
      "  File \"<frozen importlib._bootstrap>\", line 1006, in _gcd_import\n",
      "  File \"<frozen importlib._bootstrap>\", line 983, in _find_and_load\n",
      "  File \"<frozen importlib._bootstrap>\", line 953, in _find_and_load_unlocked\n",
      "  File \"<frozen importlib._bootstrap>\", line 219, in _call_with_frames_removed\n",
      "  File \"<frozen importlib._bootstrap>\", line 1006, in _gcd_import\n",
      "  File \"<frozen importlib._bootstrap>\", line 983, in _find_and_load\n",
      "  File \"<frozen importlib._bootstrap>\", line 967, in _find_and_load_unlocked\n",
      "  File \"<frozen importlib._bootstrap>\", line 677, in _load_unlocked\n",
      "  File \"<frozen importlib._bootstrap_external>\", line 728, in exec_module\n",
      "  File \"<frozen importlib._bootstrap>\", line 219, in _call_with_frames_removed\n",
      "  File \"c:\\Users\\forev\\anaconda3\\lib\\site-packages\\tensorflow_core\\__init__.py\", line 42, in <module>\n",
      "    from . _api.v2 import audio\n",
      "  File \"c:\\Users\\forev\\anaconda3\\lib\\site-packages\\tensorflow_core\\_api\\v2\\audio\\__init__.py\", line 10, in <module>\n",
      "    from tensorflow.python.ops.gen_audio_ops import decode_wav\n",
      "  File \"c:\\Users\\forev\\anaconda3\\lib\\site-packages\\tensorflow_core\\python\\ops\\gen_audio_ops.py\", line 11, in <module>\n",
      "    from tensorflow.python.eager import context as _context\n",
      "  File \"c:\\Users\\forev\\anaconda3\\lib\\site-packages\\tensorflow_core\\python\\eager\\context.py\", line 29, in <module>\n",
      "    from tensorflow.core.protobuf import config_pb2\n",
      "  File \"c:\\Users\\forev\\anaconda3\\lib\\site-packages\\tensorflow_core\\core\\protobuf\\config_pb2.py\", line 16, in <module>\n",
      "    from tensorflow.core.framework import cost_graph_pb2 as tensorflow_dot_core_dot_framework_dot_cost__graph__pb2\n",
      "  File \"c:\\Users\\forev\\anaconda3\\lib\\site-packages\\tensorflow_core\\core\\framework\\cost_graph_pb2.py\", line 16, in <module>\n",
      "    from tensorflow.core.framework import tensor_shape_pb2 as tensorflow_dot_core_dot_framework_dot_tensor__shape__pb2\n",
      "  File \"c:\\Users\\forev\\anaconda3\\lib\\site-packages\\tensorflow_core\\core\\framework\\tensor_shape_pb2.py\", line 42, in <module>\n",
      "    serialized_options=None, file=DESCRIPTOR),\n",
      "  File \"c:\\Users\\forev\\anaconda3\\lib\\site-packages\\google\\protobuf\\descriptor.py\", line 560, in __new__\n",
      "    _message.Message._CheckCalledFromGeneratedFile()\n",
      "TypeError: Descriptors cannot not be created directly.\n",
      "If this call came from a _pb2.py file, your generated code is out of date and must be regenerated with protoc >= 3.19.0.\n",
      "If you cannot immediately regenerate your protos, some other possible workarounds are:\n",
      " 1. Downgrade the protobuf package to 3.20.x or lower.\n",
      " 2. Set PROTOCOL_BUFFERS_PYTHON_IMPLEMENTATION=python (but this will use pure-Python parsing and will be much slower).\n",
      "\n",
      "More information: https://developers.google.com/protocol-buffers/docs/news/2022-05-06#python-updates\n"
     ]
    },
    {
     "ename": "TypeError",
     "evalue": "Descriptors cannot not be created directly.\nIf this call came from a _pb2.py file, your generated code is out of date and must be regenerated with protoc >= 3.19.0.\nIf you cannot immediately regenerate your protos, some other possible workarounds are:\n 1. Downgrade the protobuf package to 3.20.x or lower.\n 2. Set PROTOCOL_BUFFERS_PYTHON_IMPLEMENTATION=python (but this will use pure-Python parsing and will be much slower).\n\nMore information: https://developers.google.com/protocol-buffers/docs/news/2022-05-06#python-updates",
     "output_type": "error",
     "traceback": [
      "\u001b[1;31m---------------------------------------------------------------------------\u001b[0m"
     ]
    }
   ],
   "source": [
    "import tensorflow.compat.v1 as tf\n",
    "tf.disable_v2_behavior()\n",
    "from tensorflow.python.client import device_lib \n",
    "device_lib.list_local_devices() \n",
    "tf.test.is_gpu_available()\n",
    "# gpu를 사용하려면 cmd와 jupyter notebook cell에서 모두 True값이 나와야 함"
   ]
  },
  {
   "cell_type": "markdown",
   "metadata": {},
   "source": [
    "Parameter"
   ]
  },
  {
   "cell_type": "code",
   "execution_count": 3,
   "metadata": {},
   "outputs": [],
   "source": [
    "x_max = 1             # 최대 x 범위 : 0 <= x < x_max\n",
    "w_number = 6          # w 개수\n",
    "cost_limit = 0.1      # 최소 cost \n",
    "step_number = 30000   # step 횟수"
   ]
  },
  {
   "cell_type": "code",
   "execution_count": null,
   "metadata": {},
   "outputs": [],
   "source": []
  },
  {
   "cell_type": "code",
   "execution_count": 4,
   "metadata": {},
   "outputs": [],
   "source": [
    "def f(x, y):          # f(x, y)\n",
    "  return 2*x*y\n",
    "\n",
    "def anal(x):\n",
    "  return np.exp(x)\n",
    "\n",
    "def Error_Corr(x_max = 1, w_number = 6, cost_limt = 0.1, step_number = 30000):\n",
    "  def sigmoid(x):\n",
    "      return 1 / (1 + tf.math.exp(-x))\n",
    "\n",
    "  def sigmoid_grad(x):\n",
    "      return sigmoid(x) * (1 - sigmoid(x))\n",
    "\n",
    "  def neural_network(W, x):\n",
    "      a1 = sigmoid(tf.tensordot(x, W[0], axes = 1))\n",
    "      return tf.tensordot(a1, W[1], axes = 1)\n",
    "\n",
    "  def d_neural_network_dx(W, x, k=1):\n",
    "      return tf.tensordot(tf.transpose(W[1]), tf.transpose(W[0])**k, axes = 1) * sigmoid_grad(x)\n",
    "\n",
    "  x = tf.Variable(np.array([[i/100] for i in range(0, x_max * 100, 1)], dtype = np.float32))\n",
    "  W = [tf.Variable(tf.random_normal([1, 10])), tf.Variable(tf.random_normal([10, 1]))]\n",
    "  for i in range(1, w_number + 1):\n",
    "      globals()['w{}'.format(i)] = tf.Variable(tf.random_normal([1]), name = 'weight{}'.format(i))\n",
    "  y = 1\n",
    "  yprime = 0\n",
    "\n",
    "  sess = tf.Session()\n",
    "  init = tf.global_variables_initializer()\n",
    "  sess.run(init)\n",
    "\n",
    "  for i in range(1, w_number + 1):\n",
    "      y += globals()['w{}'.format(i)]*(x**i)  # y = 1 + w1*(x) + w2*(x**2) + w3*(x**3) + w4*(x**4) + w5*(x**5) + w6*(x**6)\n",
    "      yprime += i*globals()['w{}'.format(i)]*(x**(i-1))  # yprime = w1 + 2*w2*x + 3*w3*(x**2) + 4*w4*(x**3) + 5*w5*(x**4) + 6*w6*(x**5)\n",
    "\n",
    "  ye = (x**(w_number + 1)) * neural_network(W, x)\n",
    "  yeprime = (w_number + 1) * (x**(w_number))*neural_network(W, x) + (x**(w_number + 1)) * d_neural_network_dx(W, x)\n",
    "\n",
    "  cost = tf.reduce_mean(tf.square(yeprime - ye)) + tf.reduce_mean(tf.square(yprime - f(x, y)))\n",
    "  optimizer = tf.train.GradientDescentOptimizer(learning_rate = 1e-5)\n",
    "  train = optimizer.minimize(cost)\n",
    "\n",
    "  count = 0\n",
    "  cost_val = 1\n",
    "  while cost_val > cost_limt:\n",
    "    global x_space\n",
    "    global y_space\n",
    "    global ye_space\n",
    "    global corr_space\n",
    "    global cost_space\n",
    "\n",
    "    x_space = []\n",
    "    y_space = []\n",
    "    ye_space = []\n",
    "    corr_space = []\n",
    "    cost_space = []\n",
    "\n",
    "    if count % 1 == 0:\n",
    "      print(\"count: \", count)\n",
    "    for step in range(step_number + 1):\n",
    "      for i in range(1, w_number + 1):\n",
    "          globals()['w{}_val'.format(i)] = sess.run([globals()['w{}'.format(i)]])\n",
    "      cost_val, yeprime_val, ye_val, yprime_val, y_val, x_val, _ = sess.run([cost, yeprime, ye, yprime, f(x, y), x, train])\n",
    "      if count % 1 == 0:\n",
    "        if step % int(step_number / 2) == 0:\n",
    "            print('step: ', step, \", Cost: \", cost_val, \"\\n\")\n",
    "    if count % 1 == 0:\n",
    "      print(\"\\n\")\n",
    "\n",
    "    count += 1\n",
    "\n",
    "    x_space += list(x_val)\n",
    "    corr_space += list(ye_val + y_val)\n",
    "    y_space += list(y_val)\n",
    "    ye_space += list(ye_val)\n",
    "\n",
    "    # final_sol = ye + f(x, y)\n",
    "    # anal_sol = anal(x)\n",
    "    # error = abs(final_sol - anal_sol)\n",
    "    # print(np.linalg.norm)\n",
    "    plt.plot(x_space, corr_space, '.', label = 'ye + f(x,y)')\n",
    "    plt.plot(x_space, y_space, '.', label = 'f(x,y)')\n",
    "    plt.plot(x_space, ye_space, '.', label = 'ye')\n",
    "    plt.plot(x_space, anal(x_space), '.', label = 'exp')\n",
    "    plt.legend()\n",
    "    plt.show()\n",
    "\n",
    "  sess.close()"
   ]
  },
  {
   "cell_type": "code",
   "execution_count": 5,
   "metadata": {},
   "outputs": [
    {
     "name": "stderr",
     "output_type": "stream",
     "text": [
      "ERROR:root:Internal Python error in the inspect module.\n",
      "Below is the traceback from this internal error.\n",
      "\n"
     ]
    },
    {
     "name": "stdout",
     "output_type": "stream",
     "text": [
      "Traceback (most recent call last):\n",
      "  File \"c:\\Users\\forev\\anaconda3\\lib\\site-packages\\IPython\\core\\interactiveshell.py\", line 3331, in run_code\n",
      "    exec(code_obj, self.user_global_ns, self.user_ns)\n",
      "  File \"<ipython-input-5-d6789fa73c36>\", line 12, in <module>\n",
      "    Error_Corr(x_max, w_number, cost_limit, step_number)\n",
      "  File \"<ipython-input-4-746e02d96a3e>\", line 21, in Error_Corr\n",
      "    x = tf.Variable(np.array([[i/100] for i in range(0, x_max * 100, 1)], dtype = np.float32))\n",
      "NameError: name 'tf' is not defined\n",
      "\n",
      "During handling of the above exception, another exception occurred:\n",
      "\n",
      "Traceback (most recent call last):\n",
      "  File \"c:\\Users\\forev\\anaconda3\\lib\\site-packages\\IPython\\core\\interactiveshell.py\", line 2044, in showtraceback\n",
      "    stb = value._render_traceback_()\n",
      "AttributeError: 'NameError' object has no attribute '_render_traceback_'\n",
      "\n",
      "During handling of the above exception, another exception occurred:\n",
      "\n",
      "Traceback (most recent call last):\n",
      "  File \"c:\\Users\\forev\\anaconda3\\lib\\site-packages\\IPython\\core\\ultratb.py\", line 1151, in get_records\n",
      "    return _fixed_getinnerframes(etb, number_of_lines_of_context, tb_offset)\n",
      "  File \"c:\\Users\\forev\\anaconda3\\lib\\site-packages\\IPython\\core\\ultratb.py\", line 319, in wrapped\n",
      "    return f(*args, **kwargs)\n",
      "  File \"c:\\Users\\forev\\anaconda3\\lib\\site-packages\\IPython\\core\\ultratb.py\", line 353, in _fixed_getinnerframes\n",
      "    records = fix_frame_records_filenames(inspect.getinnerframes(etb, context))\n",
      "  File \"c:\\Users\\forev\\anaconda3\\lib\\inspect.py\", line 1502, in getinnerframes\n",
      "    frameinfo = (tb.tb_frame,) + getframeinfo(tb, context)\n",
      "  File \"c:\\Users\\forev\\anaconda3\\lib\\inspect.py\", line 1460, in getframeinfo\n",
      "    filename = getsourcefile(frame) or getfile(frame)\n",
      "  File \"c:\\Users\\forev\\anaconda3\\lib\\inspect.py\", line 696, in getsourcefile\n",
      "    if getattr(getmodule(object, filename), '__loader__', None) is not None:\n",
      "  File \"c:\\Users\\forev\\anaconda3\\lib\\inspect.py\", line 733, in getmodule\n",
      "    if ismodule(module) and hasattr(module, '__file__'):\n",
      "  File \"c:\\Users\\forev\\anaconda3\\lib\\site-packages\\tensorflow\\__init__.py\", line 50, in __getattr__\n",
      "    module = self._load()\n",
      "  File \"c:\\Users\\forev\\anaconda3\\lib\\site-packages\\tensorflow\\__init__.py\", line 44, in _load\n",
      "    module = _importlib.import_module(self.__name__)\n",
      "  File \"c:\\Users\\forev\\anaconda3\\lib\\importlib\\__init__.py\", line 127, in import_module\n",
      "    return _bootstrap._gcd_import(name[level:], package, level)\n",
      "  File \"<frozen importlib._bootstrap>\", line 1006, in _gcd_import\n",
      "  File \"<frozen importlib._bootstrap>\", line 983, in _find_and_load\n",
      "  File \"<frozen importlib._bootstrap>\", line 953, in _find_and_load_unlocked\n",
      "  File \"<frozen importlib._bootstrap>\", line 219, in _call_with_frames_removed\n",
      "  File \"<frozen importlib._bootstrap>\", line 1006, in _gcd_import\n",
      "  File \"<frozen importlib._bootstrap>\", line 983, in _find_and_load\n",
      "  File \"<frozen importlib._bootstrap>\", line 967, in _find_and_load_unlocked\n",
      "  File \"<frozen importlib._bootstrap>\", line 677, in _load_unlocked\n",
      "  File \"<frozen importlib._bootstrap_external>\", line 728, in exec_module\n",
      "  File \"<frozen importlib._bootstrap>\", line 219, in _call_with_frames_removed\n",
      "  File \"c:\\Users\\forev\\anaconda3\\lib\\site-packages\\tensorflow_core\\__init__.py\", line 42, in <module>\n",
      "    from . _api.v2 import audio\n",
      "  File \"c:\\Users\\forev\\anaconda3\\lib\\site-packages\\tensorflow_core\\_api\\v2\\audio\\__init__.py\", line 10, in <module>\n",
      "    from tensorflow.python.ops.gen_audio_ops import decode_wav\n",
      "  File \"c:\\Users\\forev\\anaconda3\\lib\\site-packages\\tensorflow_core\\python\\ops\\gen_audio_ops.py\", line 11, in <module>\n",
      "    from tensorflow.python.eager import context as _context\n",
      "  File \"c:\\Users\\forev\\anaconda3\\lib\\site-packages\\tensorflow_core\\python\\eager\\context.py\", line 29, in <module>\n",
      "    from tensorflow.core.protobuf import config_pb2\n",
      "  File \"c:\\Users\\forev\\anaconda3\\lib\\site-packages\\tensorflow_core\\core\\protobuf\\config_pb2.py\", line 7, in <module>\n",
      "    from google.protobuf import descriptor as _descriptor\n",
      "ModuleNotFoundError: No module named 'google.protobuf'\n"
     ]
    },
    {
     "ename": "NameError",
     "evalue": "name 'tf' is not defined",
     "output_type": "error",
     "traceback": [
      "\u001b[1;31m---------------------------------------------------------------------------\u001b[0m"
     ]
    }
   ],
   "source": [
    "x_max = 1             # 최대 x 범위 : 0 <= x < x_max\n",
    "w_number = 6          # w 개수\n",
    "cost_limit = 0.01      # 최소 cost \n",
    "step_number = 50    # step 횟수 -> 총 step 횟수 = count * step\n",
    "\n",
    "def f(x, y):          # f(x, y)\n",
    "  return y\n",
    "\n",
    "def anal(x):\n",
    "  return np.exp(x)\n",
    "\n",
    "Error_Corr(x_max, w_number, cost_limit, step_number)"
   ]
  },
  {
   "cell_type": "code",
   "execution_count": 7,
   "metadata": {},
   "outputs": [
    {
     "data": {
      "image/png": "[encoded data removed]",
      "text/plain": [
       "<Figure size 432x288 with 1 Axes>"
      ]
     },
     "metadata": {
      "needs_background": "light"
     },
     "output_type": "display_data"
    },
    {
     "name": "stdout",
     "output_type": "stream",
     "text": [
      "0.7003669\n"
     ]
    }
   ],
   "source": [
    "error = abs(corr_space - anal(x_space))\n",
    "plt.plot(x_space, anal(x_space), '.', label = 'anal sol')\n",
    "plt.plot(x_space, corr_space, '.', label = 'final sol')\n",
    "plt.plot(x_space, error, '.', label = 'error')\n",
    "plt.legend()\n",
    "plt.show()\n",
    "print(np.linalg.norm(error))"
   ]
  },
  {
   "cell_type": "code",
   "execution_count": null,
   "metadata": {},
   "outputs": [],
   "source": []
  }
 ],
 "metadata": {
  "accelerator": "GPU",
  "colab": {
   "authorship_tag": "ABX9TyMwtPl14hsTGhfTXgC6Fsdr",
   "include_colab_link": true,
   "name": "Untitled13.ipynb",
   "provenance": []
  },
  "interpreter": {
   "hash": "a37a875133dc80c33f2ec96aea7a9fa5375ebe8d8c5e67883faafd638e38fe9a"
  },
  "kernelspec": {
   "display_name": "Python 3.10.4 ('ODE')",
   "language": "python",
   "name": "python3"
  },
  "language_info": {
   "codemirror_mode": {
    "name": "ipython",
    "version": 3
   },
   "file_extension": ".py",
   "mimetype": "text/x-python",
   "name": "python",
   "nbconvert_exporter": "python",
   "pygments_lexer": "ipython3",
   "version": "3.10.4"
  }
 },
 "nbformat": 4,
 "nbformat_minor": 1
}
