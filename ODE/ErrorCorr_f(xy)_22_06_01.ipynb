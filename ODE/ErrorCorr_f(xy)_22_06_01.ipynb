{
 "cells": [
  {
   "cell_type": "markdown",
   "metadata": {
    "colab_type": "text",
    "id": "view-in-github"
   },
   "source": [
    "<a href=\"https://colab.research.google.com/github/KyungRyeolBaek/study/blob/main/AI%20study/ODE/ErrorCorr_f(xy)_21_07_25_train.ipynb\" target=\"_parent\"><img src=\"https://colab.research.google.com/assets/colab-badge.svg\" alt=\"Open In Colab\"/></a>"
   ]
  },
  {
   "cell_type": "markdown",
   "metadata": {},
   "source": [
    "# Error Corr"
   ]
  },
  {
   "cell_type": "markdown",
   "metadata": {},
   "source": [
    "f(x, y)\n",
    "\n",
    "anal(x)\n",
    "\n",
    "Error_Corr\n",
    "    sigmoid(x)\n",
    "\n",
    "    sigmoid_grad(x)\n",
    "\n",
    "    neural_network(W, x)\n",
    "\n",
    "    d_neural_network_dx(W, x, k=1)\n",
    "\n",
    "f(x, y)"
   ]
  },
  {
   "cell_type": "markdown",
   "metadata": {},
   "source": [
    "python version 3.10.4\n",
    "\n",
    "tensorflow version 2.9.1"
   ]
  },
  {
   "cell_type": "code",
   "execution_count": 2,
   "metadata": {},
   "outputs": [],
   "source": [
    "import tensorflow as tf\n",
    "import numpy as np\n",
    "from sklearn.model_selection import train_test_split\n",
    "from tensorflow import keras\n",
    "from tensorflow.keras import layers\n"
   ]
  },
  {
   "cell_type": "code",
   "execution_count": 85,
   "metadata": {},
   "outputs": [
    {
     "ename": "AttributeError",
     "evalue": "'_UnreadVariable' object has no attribute 'trainable_variables'",
     "output_type": "error",
     "traceback": [
      "\u001b[1;31m---------------------------------------------------------------------------\u001b[0m",
      "\u001b[1;31mAttributeError\u001b[0m                            Traceback (most recent call last)",
      "\u001b[1;32mc:\\Users\\kyungryeol\\github\\ODE\\ODE\\ErrorCorr_f(xy)_22_06_01.ipynb Cell 6'\u001b[0m in \u001b[0;36m<cell line: 46>\u001b[1;34m()\u001b[0m\n\u001b[0;32m     <a href='vscode-notebook-cell:/c%3A/Users/kyungryeol/github/ODE/ODE/ErrorCorr_f%28xy%29_22_06_01.ipynb#ch0000005?line=43'>44</a>\u001b[0m \u001b[39mfor\u001b[39;00m _ \u001b[39min\u001b[39;00m \u001b[39mrange\u001b[39m(count):\n\u001b[0;32m     <a href='vscode-notebook-cell:/c%3A/Users/kyungryeol/github/ODE/ODE/ErrorCorr_f%28xy%29_22_06_01.ipynb#ch0000005?line=44'>45</a>\u001b[0m     train\n\u001b[1;32m---> <a href='vscode-notebook-cell:/c%3A/Users/kyungryeol/github/ODE/ODE/ErrorCorr_f%28xy%29_22_06_01.ipynb#ch0000005?line=45'>46</a>\u001b[0m train\u001b[39m.\u001b[39;49mtrainable_variables\n",
      "\u001b[1;31mAttributeError\u001b[0m: '_UnreadVariable' object has no attribute 'trainable_variables'"
     ]
    }
   ],
   "source": [
    "# 출력할 x 범위\n",
    "x = tf.Variable(np.array([[i/100] for i in range(0, 100, 1)], dtype = np.float32))\n",
    "\n",
    "# 차수, weight 개수\n",
    "n = 4\n",
    "\n",
    "# w = [weight1, weight2, weight3, weight4]\n",
    "# weight에 쓸 변수 4개를 v에 랜덤변수 n개를 만듭니다.\n",
    "v = tf.Variable(tf.random.truncated_normal([n]))\n",
    "# w를 뽑아낸 랜덤변수 n개를 담고 있는 v로 대체 합니다.\n",
    "w = tf.Variable(v.read_value())\n",
    "\n",
    "# analysis 함수 \n",
    "def anal(x, lamb = 1):\n",
    "    return np.exp(lamb*x)\n",
    "\n",
    "def f(x, y, lamb = 1):\n",
    "    return lamb*x*y\n",
    "\n",
    "# n : w 개수, w : weight\n",
    "def y(x, w, n = 4):\n",
    "    y = 1\n",
    "    \n",
    "    # y = 1 + w1*(x) + w2*(x**2) + w3*(x**3) + w4*(x**4)\n",
    "    for i in range(1, n+1):\n",
    "        y += w[i-1]*(x**i)\n",
    "    \n",
    "    return y\n",
    "\n",
    "def yprime(x, w, n = 4):\n",
    "    yprime = 0\n",
    "\n",
    "    # yprime = w1 + 2*w2*x + 3*w3*(x**2) + 4*w4*(x**3)\n",
    "    for i in range(1, n + 1):\n",
    "      yprime += i*w[i-1]*(x**(i-1))\n",
    "\n",
    "    return yprime\n",
    "\n",
    "\n",
    "cost = lambda : tf.reduce_mean(tf.square(yprime(x, w, n = 4) - y(x, w, n = 4)))\n",
    "optimizer = tf.optimizers.SGD(learning_rate = 1e-2)\n",
    "train = optimizer.minimize(cost, var_list=w)\n",
    "count = 100\n",
    "for _ in range(count):\n",
    "    train\n",
    "train.trainable_variables"
   ]
  },
  {
   "cell_type": "code",
   "execution_count": 81,
   "metadata": {},
   "outputs": [
    {
     "data": {
      "text/plain": [
       "<tf.Tensor: shape=(), dtype=float32, numpy=0.009570697>"
      ]
     },
     "execution_count": 81,
     "metadata": {},
     "output_type": "execute_result"
    }
   ],
   "source": [
    "tf.reduce_mean(tf.square(yprime(x, w, n = 4) - y(x, w, n = 4)))"
   ]
  },
  {
   "cell_type": "code",
   "execution_count": 48,
   "metadata": {},
   "outputs": [],
   "source": [
    "# 훈련, 테스트 데이터 생성\n",
    "# analysis 함수를 통해 x : 입력 값, y : 출력 값 을 생성 했습니다.\n",
    "x_data = np.array(x)\n",
    "y_data = anal(x)\n",
    "\n",
    "X_train, X_test, y_train, y_test = train_test_split(x_data, y_data, test_size=0.1, random_state=2)"
   ]
  },
  {
   "cell_type": "code",
   "execution_count": 49,
   "metadata": {},
   "outputs": [],
   "source": [
    "batch_size = int(len(X_train) / 10)\n",
    "\n",
    "train_dataset = tf.data.Dataset.from_tensor_slices((X_train, y_train))\n",
    "train_dataset = train_dataset.shuffle(buffer_size=1024).batch(batch_size)"
   ]
  },
  {
   "cell_type": "code",
   "execution_count": 53,
   "metadata": {},
   "outputs": [],
   "source": [
    "inputs = keras.Input(shape=(batch_size,1), name=\"digits\")\n",
    "x1 = layers.Dense(64, activation=\"relu\")(inputs)\n",
    "x2 = layers.Dense(64, activation=\"relu\")(x1)\n",
    "outputs = layers.Dense(batch_size, name=\"predictions\")(x2)\n",
    "model = keras.Model(inputs=inputs, outputs=outputs)"
   ]
  },
  {
   "cell_type": "code",
   "execution_count": 54,
   "metadata": {},
   "outputs": [
    {
     "name": "stdout",
     "output_type": "stream",
     "text": [
      "\n",
      "Start of epoch 0\n"
     ]
    },
    {
     "ename": "TypeError",
     "evalue": "Cannot convert the argument `type_value`: <function <lambda> at 0x00000183AE554CA0> to a TensorFlow DType.",
     "output_type": "error",
     "traceback": [
      "\u001b[1;31m---------------------------------------------------------------------------\u001b[0m",
      "\u001b[1;31mTypeError\u001b[0m                                 Traceback (most recent call last)",
      "\u001b[1;32mc:\\Users\\kyungryeol\\github\\ODE\\ODE\\ErrorCorr_f(xy)_22_06_01.ipynb Cell 10'\u001b[0m in \u001b[0;36m<cell line: 2>\u001b[1;34m()\u001b[0m\n\u001b[0;32m     <a href='vscode-notebook-cell:/c%3A/Users/kyungryeol/github/ODE/ODE/ErrorCorr_f%28xy%29_22_06_01.ipynb#ch0000021?line=18'>19</a>\u001b[0m     loss_value \u001b[39m=\u001b[39m cost\n\u001b[0;32m     <a href='vscode-notebook-cell:/c%3A/Users/kyungryeol/github/ODE/ODE/ErrorCorr_f%28xy%29_22_06_01.ipynb#ch0000021?line=20'>21</a>\u001b[0m \u001b[39m# Use the gradient tape to automatically retrieve\u001b[39;00m\n\u001b[0;32m     <a href='vscode-notebook-cell:/c%3A/Users/kyungryeol/github/ODE/ODE/ErrorCorr_f%28xy%29_22_06_01.ipynb#ch0000021?line=21'>22</a>\u001b[0m \u001b[39m# the gradients of the trainable variables with respect to the loss.\u001b[39;00m\n\u001b[1;32m---> <a href='vscode-notebook-cell:/c%3A/Users/kyungryeol/github/ODE/ODE/ErrorCorr_f%28xy%29_22_06_01.ipynb#ch0000021?line=22'>23</a>\u001b[0m grads \u001b[39m=\u001b[39m tape\u001b[39m.\u001b[39;49mgradient(loss_value, model\u001b[39m.\u001b[39;49mtrainable_weights)\n\u001b[0;32m     <a href='vscode-notebook-cell:/c%3A/Users/kyungryeol/github/ODE/ODE/ErrorCorr_f%28xy%29_22_06_01.ipynb#ch0000021?line=24'>25</a>\u001b[0m \u001b[39m# Run one step of gradient descent by updating\u001b[39;00m\n\u001b[0;32m     <a href='vscode-notebook-cell:/c%3A/Users/kyungryeol/github/ODE/ODE/ErrorCorr_f%28xy%29_22_06_01.ipynb#ch0000021?line=25'>26</a>\u001b[0m \u001b[39m# the value of the variables to minimize the loss.\u001b[39;00m\n\u001b[0;32m     <a href='vscode-notebook-cell:/c%3A/Users/kyungryeol/github/ODE/ODE/ErrorCorr_f%28xy%29_22_06_01.ipynb#ch0000021?line=26'>27</a>\u001b[0m optimizer\u001b[39m.\u001b[39mapply_gradients(\u001b[39mzip\u001b[39m(grads, model\u001b[39m.\u001b[39mtrainable_weights))\n",
      "File \u001b[1;32mc:\\Users\\kyungryeol\\Anaconda3\\envs\\ODE\\lib\\site-packages\\tensorflow\\python\\eager\\backprop.py:1064\u001b[0m, in \u001b[0;36mGradientTape.gradient\u001b[1;34m(self, target, sources, output_gradients, unconnected_gradients)\u001b[0m\n\u001b[0;32m   <a href='file:///c%3A/Users/kyungryeol/Anaconda3/envs/ODE/lib/site-packages/tensorflow/python/eager/backprop.py?line=1061'>1062</a>\u001b[0m flat_targets \u001b[39m=\u001b[39m []\n\u001b[0;32m   <a href='file:///c%3A/Users/kyungryeol/Anaconda3/envs/ODE/lib/site-packages/tensorflow/python/eager/backprop.py?line=1062'>1063</a>\u001b[0m \u001b[39mfor\u001b[39;00m t \u001b[39min\u001b[39;00m nest\u001b[39m.\u001b[39mflatten(target):\n\u001b[1;32m-> <a href='file:///c%3A/Users/kyungryeol/Anaconda3/envs/ODE/lib/site-packages/tensorflow/python/eager/backprop.py?line=1063'>1064</a>\u001b[0m   \u001b[39mif\u001b[39;00m \u001b[39mnot\u001b[39;00m backprop_util\u001b[39m.\u001b[39;49mIsTrainable(t):\n\u001b[0;32m   <a href='file:///c%3A/Users/kyungryeol/Anaconda3/envs/ODE/lib/site-packages/tensorflow/python/eager/backprop.py?line=1064'>1065</a>\u001b[0m     logging\u001b[39m.\u001b[39mvlog(\n\u001b[0;32m   <a href='file:///c%3A/Users/kyungryeol/Anaconda3/envs/ODE/lib/site-packages/tensorflow/python/eager/backprop.py?line=1065'>1066</a>\u001b[0m         logging\u001b[39m.\u001b[39mWARN, \u001b[39m\"\u001b[39m\u001b[39mThe dtype of the target tensor must be \u001b[39m\u001b[39m\"\u001b[39m\n\u001b[0;32m   <a href='file:///c%3A/Users/kyungryeol/Anaconda3/envs/ODE/lib/site-packages/tensorflow/python/eager/backprop.py?line=1066'>1067</a>\u001b[0m         \u001b[39m\"\u001b[39m\u001b[39mfloating (e.g. tf.float32) when calling GradientTape.gradient, \u001b[39m\u001b[39m\"\u001b[39m\n\u001b[0;32m   <a href='file:///c%3A/Users/kyungryeol/Anaconda3/envs/ODE/lib/site-packages/tensorflow/python/eager/backprop.py?line=1067'>1068</a>\u001b[0m         \u001b[39m\"\u001b[39m\u001b[39mgot \u001b[39m\u001b[39m%r\u001b[39;00m\u001b[39m\"\u001b[39m, t\u001b[39m.\u001b[39mdtype)\n\u001b[0;32m   <a href='file:///c%3A/Users/kyungryeol/Anaconda3/envs/ODE/lib/site-packages/tensorflow/python/eager/backprop.py?line=1068'>1069</a>\u001b[0m   \u001b[39mif\u001b[39;00m resource_variable_ops\u001b[39m.\u001b[39mis_resource_variable(t):\n",
      "File \u001b[1;32mc:\\Users\\kyungryeol\\Anaconda3\\envs\\ODE\\lib\\site-packages\\tensorflow\\python\\eager\\backprop_util.py:54\u001b[0m, in \u001b[0;36mIsTrainable\u001b[1;34m(tensor_or_dtype)\u001b[0m\n\u001b[0;32m     <a href='file:///c%3A/Users/kyungryeol/Anaconda3/envs/ODE/lib/site-packages/tensorflow/python/eager/backprop_util.py?line=51'>52</a>\u001b[0m \u001b[39melse\u001b[39;00m:\n\u001b[0;32m     <a href='file:///c%3A/Users/kyungryeol/Anaconda3/envs/ODE/lib/site-packages/tensorflow/python/eager/backprop_util.py?line=52'>53</a>\u001b[0m   dtype \u001b[39m=\u001b[39m tensor_or_dtype\n\u001b[1;32m---> <a href='file:///c%3A/Users/kyungryeol/Anaconda3/envs/ODE/lib/site-packages/tensorflow/python/eager/backprop_util.py?line=53'>54</a>\u001b[0m dtype \u001b[39m=\u001b[39m dtypes\u001b[39m.\u001b[39;49mas_dtype(dtype)\n\u001b[0;32m     <a href='file:///c%3A/Users/kyungryeol/Anaconda3/envs/ODE/lib/site-packages/tensorflow/python/eager/backprop_util.py?line=54'>55</a>\u001b[0m \u001b[39mreturn\u001b[39;00m dtype\u001b[39m.\u001b[39mbase_dtype \u001b[39min\u001b[39;00m (dtypes\u001b[39m.\u001b[39mfloat16, dtypes\u001b[39m.\u001b[39mfloat32, dtypes\u001b[39m.\u001b[39mfloat64,\n\u001b[0;32m     <a href='file:///c%3A/Users/kyungryeol/Anaconda3/envs/ODE/lib/site-packages/tensorflow/python/eager/backprop_util.py?line=55'>56</a>\u001b[0m                             dtypes\u001b[39m.\u001b[39mcomplex64, dtypes\u001b[39m.\u001b[39mcomplex128,\n\u001b[0;32m     <a href='file:///c%3A/Users/kyungryeol/Anaconda3/envs/ODE/lib/site-packages/tensorflow/python/eager/backprop_util.py?line=56'>57</a>\u001b[0m                             dtypes\u001b[39m.\u001b[39mresource, dtypes\u001b[39m.\u001b[39mvariant, dtypes\u001b[39m.\u001b[39mbfloat16)\n",
      "File \u001b[1;32mc:\\Users\\kyungryeol\\Anaconda3\\envs\\ODE\\lib\\site-packages\\tensorflow\\python\\framework\\dtypes.py:721\u001b[0m, in \u001b[0;36mas_dtype\u001b[1;34m(type_value)\u001b[0m\n\u001b[0;32m    <a href='file:///c%3A/Users/kyungryeol/Anaconda3/envs/ODE/lib/site-packages/tensorflow/python/framework/dtypes.py?line=717'>718</a>\u001b[0m \u001b[39mif\u001b[39;00m \u001b[39misinstance\u001b[39m(type_value, _dtypes\u001b[39m.\u001b[39mDType):\n\u001b[0;32m    <a href='file:///c%3A/Users/kyungryeol/Anaconda3/envs/ODE/lib/site-packages/tensorflow/python/framework/dtypes.py?line=718'>719</a>\u001b[0m   \u001b[39mreturn\u001b[39;00m _INTERN_TABLE[type_value\u001b[39m.\u001b[39mas_datatype_enum]\n\u001b[1;32m--> <a href='file:///c%3A/Users/kyungryeol/Anaconda3/envs/ODE/lib/site-packages/tensorflow/python/framework/dtypes.py?line=720'>721</a>\u001b[0m \u001b[39mraise\u001b[39;00m \u001b[39mTypeError\u001b[39;00m(\u001b[39mf\u001b[39m\u001b[39m\"\u001b[39m\u001b[39mCannot convert the argument `type_value`: \u001b[39m\u001b[39m{\u001b[39;00mtype_value\u001b[39m!r}\u001b[39;00m\u001b[39m \u001b[39m\u001b[39m\"\u001b[39m\n\u001b[0;32m    <a href='file:///c%3A/Users/kyungryeol/Anaconda3/envs/ODE/lib/site-packages/tensorflow/python/framework/dtypes.py?line=721'>722</a>\u001b[0m                 \u001b[39m\"\u001b[39m\u001b[39mto a TensorFlow DType.\u001b[39m\u001b[39m\"\u001b[39m)\n",
      "\u001b[1;31mTypeError\u001b[0m: Cannot convert the argument `type_value`: <function <lambda> at 0x00000183AE554CA0> to a TensorFlow DType."
     ]
    }
   ],
   "source": [
    "epochs = 2\n",
    "for epoch in range(epochs):\n",
    "    print(\"\\nStart of epoch %d\" % (epoch,))\n",
    "\n",
    "    # Iterate over the batches of the dataset.\n",
    "    for step, (x_batch_train, y_batch_train) in enumerate(train_dataset):\n",
    "\n",
    "        # Open a GradientTape to record the operations run\n",
    "        # during the forward pass, which enables auto-differentiation.\n",
    "        with tf.GradientTape() as tape:\n",
    "\n",
    "            # Run the forward pass of the layer.\n",
    "            # The operations that the layer applies\n",
    "            # to its inputs are going to be recorded\n",
    "            # on the GradientTape.\n",
    "            logits = model(x_batch_train, training=True)  # Logits for this minibatch\n",
    "\n",
    "            # Compute the loss value for this minibatch.\n",
    "            loss_value = cost\n",
    "\n",
    "        # Use the gradient tape to automatically retrieve\n",
    "        # the gradients of the trainable variables with respect to the loss.\n",
    "        grads = tape.gradient(loss_value, model.trainable_weights)\n",
    "\n",
    "        # Run one step of gradient descent by updating\n",
    "        # the value of the variables to minimize the loss.\n",
    "        optimizer.apply_gradients(zip(grads, model.trainable_weights))\n",
    "\n",
    "        # Log every 200 batches.\n",
    "        if step % 200 == 0:\n",
    "            print(\n",
    "                \"Training loss (for one batch) at step %d: %.4f\"\n",
    "                % (step, float(loss_value))\n",
    "            )\n",
    "            print(\"Seen so far: %s samples\" % ((step + 1) * batch_size))"
   ]
  },
  {
   "cell_type": "code",
   "execution_count": null,
   "metadata": {},
   "outputs": [],
   "source": [
    "epochs = 2\n",
    "for epoch in range(epochs):\n",
    "    print(\"\\nStart of epoch %d\" % (epoch,))\n",
    "\n",
    "    # Iterate over the batches of the dataset.\n",
    "    for step, (x_batch_train, y_batch_train) in enumerate(train_dataset):\n",
    "\n",
    "        # Open a GradientTape to record the operations run\n",
    "        # during the forward pass, which enables auto-differentiation.\n",
    "        with tf.GradientTape() as tape:\n",
    "\n",
    "            # Run the forward pass of the layer.\n",
    "            # The operations that the layer applies\n",
    "            # to its inputs are going to be recorded\n",
    "            # on the GradientTape.\n",
    "            logits = model(x_batch_train, training=True)  # Logits for this minibatch\n",
    "\n",
    "            # Compute the loss value for this minibatch.\n",
    "            loss_value = loss_fn(y_batch_train, logits)\n",
    "\n",
    "        # Use the gradient tape to automatically retrieve\n",
    "        # the gradients of the trainable variables with respect to the loss.\n",
    "        grads = tape.gradient(loss_value, model.trainable_weights)\n",
    "\n",
    "        # Run one step of gradient descent by updating\n",
    "        # the value of the variables to minimize the loss.\n",
    "        optimizer.apply_gradients(zip(grads, model.trainable_weights))\n",
    "\n",
    "        # Log every 200 batches.\n",
    "        if step % 200 == 0:\n",
    "            print(\n",
    "                \"Training loss (for one batch) at step %d: %.4f\"\n",
    "                % (step, float(loss_value))\n",
    "            )\n",
    "            print(\"Seen so far: %s samples\" % ((step + 1) * batch_size))"
   ]
  },
  {
   "cell_type": "code",
   "execution_count": null,
   "metadata": {},
   "outputs": [],
   "source": [
    "# !pip install google\n",
    "# !pip install protobuf"
   ]
  },
  {
   "cell_type": "markdown",
   "metadata": {},
   "source": [
    "import"
   ]
  },
  {
   "cell_type": "code",
   "execution_count": null,
   "metadata": {},
   "outputs": [],
   "source": [
    "import autograd.numpy as np\n",
    "from autograd import grad \n",
    "import autograd.numpy.random as npr\n",
    "from autograd.core import primitive\n",
    "from matplotlib import pyplot as plt\n",
    "%matplotlib inline"
   ]
  },
  {
   "cell_type": "markdown",
   "metadata": {},
   "source": [
    "using GPU"
   ]
  },
  {
   "cell_type": "code",
   "execution_count": null,
   "metadata": {},
   "outputs": [],
   "source": [
    "import tensorflow.compat.v1 as tf\n",
    "tf.disable_v2_behavior()\n",
    "from tensorflow.python.client import device_lib \n",
    "device_lib.list_local_devices() \n",
    "tf.test.is_gpu_available()\n",
    "# gpu를 사용하려면 cmd와 jupyter notebook cell에서 모두 True값이 나와야 함"
   ]
  },
  {
   "cell_type": "markdown",
   "metadata": {},
   "source": [
    "Parameter"
   ]
  },
  {
   "cell_type": "code",
   "execution_count": null,
   "metadata": {},
   "outputs": [],
   "source": [
    "x_max = 1             # 최대 x 범위 : 0 <= x < x_max\n",
    "w_number = 6          # w 개수\n",
    "cost_limit = 0.1      # 최소 cost \n",
    "step_number = 30000   # step 횟수"
   ]
  },
  {
   "cell_type": "code",
   "execution_count": null,
   "metadata": {},
   "outputs": [],
   "source": []
  },
  {
   "cell_type": "code",
   "execution_count": null,
   "metadata": {},
   "outputs": [],
   "source": [
    "def f(x, y):          # f(x, y)\n",
    "  return 2*x*y\n",
    "\n",
    "def anal(x):\n",
    "  return np.exp(x)\n",
    "\n",
    "def Error_Corr(x_max = 1, w_number = 6, cost_limt = 0.1, step_number = 30000):\n",
    "  def sigmoid(x):\n",
    "      return 1 / (1 + tf.math.exp(-x))\n",
    "\n",
    "  def sigmoid_grad(x):\n",
    "      return sigmoid(x) * (1 - sigmoid(x))\n",
    "\n",
    "  def neural_network(W, x):\n",
    "      a1 = sigmoid(tf.tensordot(x, W[0], axes = 1))\n",
    "      return tf.tensordot(a1, W[1], axes = 1)\n",
    "\n",
    "  def d_neural_network_dx(W, x, k=1):\n",
    "      return tf.tensordot(tf.transpose(W[1]), tf.transpose(W[0])**k, axes = 1) * sigmoid_grad(x)\n",
    "\n",
    "  x = tf.Variable(np.array([[i/100] for i in range(0, x_max * 100, 1)], dtype = np.float32))\n",
    "  W = [tf.Variable(tf.random_normal([1, 10])), tf.Variable(tf.random_normal([10, 1]))]\n",
    "  for i in range(1, w_number + 1):\n",
    "      globals()['w{}'.format(i)] = tf.Variable(tf.random_normal([1]), name = 'weight{}'.format(i))\n",
    "  y = 1\n",
    "  yprime = 0\n",
    "\n",
    "  sess = tf.Session()\n",
    "  init = tf.global_variables_initializer()\n",
    "  sess.run(init)\n",
    "\n",
    "  for i in range(1, w_number + 1):\n",
    "      y += globals()['w{}'.format(i)]*(x**i)  # y = 1 + w1*(x) + w2*(x**2) + w3*(x**3) + w4*(x**4) + w5*(x**5) + w6*(x**6)\n",
    "      yprime += i*globals()['w{}'.format(i)]*(x**(i-1))  # yprime = w1 + 2*w2*x + 3*w3*(x**2) + 4*w4*(x**3) + 5*w5*(x**4) + 6*w6*(x**5)\n",
    "\n",
    "  ye = (x**(w_number + 1)) * neural_network(W, x)\n",
    "  yeprime = (w_number + 1) * (x**(w_number))*neural_network(W, x) + (x**(w_number + 1)) * d_neural_network_dx(W, x)\n",
    "\n",
    "  cost = tf.reduce_mean(tf.square(yeprime - ye)) + tf.reduce_mean(tf.square(yprime - f(x, y)))\n",
    "  optimizer = tf.train.GradientDescentOptimizer(learning_rate = 1e-5)\n",
    "  train = optimizer.minimize(cost)\n",
    "\n",
    "  count = 0\n",
    "  cost_val = 1\n",
    "  while cost_val > cost_limt:\n",
    "    global x_space\n",
    "    global y_space\n",
    "    global ye_space\n",
    "    global corr_space\n",
    "    global cost_space\n",
    "\n",
    "    x_space = []\n",
    "    y_space = []\n",
    "    ye_space = []\n",
    "    corr_space = []\n",
    "    cost_space = []\n",
    "\n",
    "    if count % 1 == 0:\n",
    "      print(\"count: \", count)\n",
    "    for step in range(step_number + 1):\n",
    "      for i in range(1, w_number + 1):\n",
    "          globals()['w{}_val'.format(i)] = sess.run([globals()['w{}'.format(i)]])\n",
    "      cost_val, yeprime_val, ye_val, yprime_val, y_val, x_val, _ = sess.run([cost, yeprime, ye, yprime, f(x, y), x, train])\n",
    "      if count % 1 == 0:\n",
    "        if step % int(step_number / 2) == 0:\n",
    "            print('step: ', step, \", Cost: \", cost_val, \"\\n\")\n",
    "    if count % 1 == 0:\n",
    "      print(\"\\n\")\n",
    "\n",
    "    count += 1\n",
    "\n",
    "    x_space += list(x_val)\n",
    "    corr_space += list(ye_val + y_val)\n",
    "    y_space += list(y_val)\n",
    "    ye_space += list(ye_val)\n",
    "\n",
    "    # final_sol = ye + f(x, y)\n",
    "    # anal_sol = anal(x)\n",
    "    # error = abs(final_sol - anal_sol)\n",
    "    # print(np.linalg.norm)\n",
    "    plt.plot(x_space, corr_space, '.', label = 'ye + f(x,y)')\n",
    "    plt.plot(x_space, y_space, '.', label = 'f(x,y)')\n",
    "    plt.plot(x_space, ye_space, '.', label = 'ye')\n",
    "    plt.plot(x_space, anal(x_space), '.', label = 'exp')\n",
    "    plt.legend()\n",
    "    plt.show()\n",
    "\n",
    "  sess.close()"
   ]
  },
  {
   "cell_type": "code",
   "execution_count": null,
   "metadata": {},
   "outputs": [],
   "source": [
    "x_max = 1             # 최대 x 범위 : 0 <= x < x_max\n",
    "w_number = 6          # w 개수\n",
    "cost_limit = 0.01      # 최소 cost \n",
    "step_number = 50    # step 횟수 -> 총 step 횟수 = count * step\n",
    "\n",
    "def f(x, y):          # f(x, y)\n",
    "  return y\n",
    "\n",
    "def anal(x):\n",
    "  return np.exp(x)\n",
    "\n",
    "Error_Corr(x_max, w_number, cost_limit, step_number)"
   ]
  },
  {
   "cell_type": "code",
   "execution_count": null,
   "metadata": {},
   "outputs": [
    {
     "data": {
      "image/png": "[encoded data removed]",
      "text/plain": [
       "<Figure size 432x288 with 1 Axes>"
      ]
     },
     "metadata": {
      "needs_background": "light"
     },
     "output_type": "display_data"
    },
    {
     "name": "stdout",
     "output_type": "stream",
     "text": [
      "0.7003669\n"
     ]
    }
   ],
   "source": [
    "error = abs(corr_space - anal(x_space))\n",
    "plt.plot(x_space, anal(x_space), '.', label = 'anal sol')\n",
    "plt.plot(x_space, corr_space, '.', label = 'final sol')\n",
    "plt.plot(x_space, error, '.', label = 'error')\n",
    "plt.legend()\n",
    "plt.show()\n",
    "print(np.linalg.norm(error))"
   ]
  },
  {
   "cell_type": "code",
   "execution_count": null,
   "metadata": {},
   "outputs": [],
   "source": []
  }
 ],
 "metadata": {
  "accelerator": "GPU",
  "colab": {
   "authorship_tag": "ABX9TyMwtPl14hsTGhfTXgC6Fsdr",
   "include_colab_link": true,
   "name": "Untitled13.ipynb",
   "provenance": []
  },
  "interpreter": {
   "hash": "a37a875133dc80c33f2ec96aea7a9fa5375ebe8d8c5e67883faafd638e38fe9a"
  },
  "kernelspec": {
   "display_name": "Python 3.10.4 ('ODE')",
   "language": "python",
   "name": "python3"
  },
  "language_info": {
   "codemirror_mode": {
    "name": "ipython",
    "version": 3
   },
   "file_extension": ".py",
   "mimetype": "text/x-python",
   "name": "python",
   "nbconvert_exporter": "python",
   "pygments_lexer": "ipython3",
   "version": "3.10.4"
  }
 },
 "nbformat": 4,
 "nbformat_minor": 1
}
